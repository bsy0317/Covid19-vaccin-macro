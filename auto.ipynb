{
 "cells": [
  {
   "cell_type": "markdown",
   "metadata": {},
   "source": [
    "#  코로나19 백신 사전예약 매크로\n",
    "> 설정된 예약시간이 되면, 서버시간에 맞추어 백신예약 페이지로 자동 이동합니다.  \n",
    "이후 각 버튼을 단계별로 자동으로 클릭한 후 개인정보를 자동으로 기입하게 됩니다.  \n",
    "  \n",
    "##  주요 변수\n",
    "\n",
    " - `NAME` 변수는 접종대상자의 이름\n",
    " - `KRRN` 변수는 `하이픈('-')`을 포함한 주민번호 13자리\n",
    " - `PHONE` 변수는 `하이픈('-')`을 포함한 전화번호 11자리\n",
    " - `START_TIME` 변수는 `GMT 기준`으로 사전예약 접수 시작시간\n",
    " - `DEBUG ` 변수는 시작시간을 무시하고 진행함\n",
    " \n",
    "## 필요 라이브러리\n",
    "\n",
    "`pip install requests, rich, selenium, python-dateutil, webdriver-manager, unicodedata`\n",
    " - 자동으로 설치되니 따로 설치할 필요는 없습니다.\n",
    "\n",
    "## 사용 방법\n",
    "\n",
    "1. `git clone https://github.com/bsy0317/Covid19-vaccin-macro`\n",
    "> 오른쪽 중반 Clone or download 버튼 클릭 > Download Zip을 클릭하여 다운로드 하는 방법도 가능.\n",
    "2. 다운받은 파일 압축 해제\n",
    "3. `python-3.9.exe(최신버전)` 설치\n",
    "> [python-3.9.exe 다운로드](https://www.python.org/downloads/)  \n",
    "> ※ 설치 시 하단 Add Python 3.x.x to PATH 체크\n",
    "4. Chrome 다운로드 후 설정\n",
    "5. auto.py 파일을 열어 41~48번 줄에 개인정보, 예약시간을 GMT시간대 기준으로 설정\n",
    ">한국시간을 GMT시간대로 변경하는 방법은 [KST to GMT](https://www.freeconvert.com/time/kst-to-gmt) 참고\n",
    "6. `CMD`를 열어 `auto.py`가 있는 곳 까지 이동\n",
    "7. 스크립트 실행\n",
    ">py auto.py\n",
    "\n",
    "또는 `jupyter notebook`에서 `auto.ipynb`을 실행\n",
    "\n",
    "## 사용문의\n",
    "\n",
    ">Email: talk@kakao.one"
   ]
  },
  {
   "cell_type": "code",
   "execution_count": null,
   "metadata": {
    "scrolled": true
   },
   "outputs": [
    {
     "name": "stderr",
     "output_type": "stream",
     "text": [
      "\n",
      "\n",
      "====== WebDriver manager ======\n"
     ]
    },
    {
     "data": {
      "application/vnd.jupyter.widget-view+json": {
       "model_id": "",
       "version_major": 2,
       "version_minor": 0
      },
      "text/plain": [
       "Output()"
      ]
     },
     "metadata": {},
     "output_type": "display_data"
    },
    {
     "name": "stderr",
     "output_type": "stream",
     "text": [
      "Current google-chrome version is 92.0.4515\n",
      "Get LATEST driver version for 92.0.4515\n",
      "Driver [C:\\Users\\WestKite\\.wdm\\drivers\\chromedriver\\win32\\92.0.4515.107\\chromedriver.exe] found in cache\n"
     ]
    },
    {
     "data": {
      "text/html": [
       "<pre style=\"white-space:pre;overflow-x:auto;line-height:normal;font-family:Menlo,'DejaVu Sans Mono',consolas,'Courier New',monospace\"></pre>\n"
      ],
      "text/plain": []
     },
     "metadata": {},
     "output_type": "display_data"
    },
    {
     "data": {
      "text/html": [
       "<pre style=\"white-space:pre;overflow-x:auto;line-height:normal;font-family:Menlo,'DejaVu Sans Mono',consolas,'Courier New',monospace\"><span style=\"color: #7fbfbf; text-decoration-color: #7fbfbf\">[20:31:58] </span>서버시간 = <span style=\"color: #000080; text-decoration-color: #000080; font-weight: bold\"> GMT 11시 31분 58초</span>                 <span style=\"color: #7f7f7f; text-decoration-color: #7f7f7f\">&lt;ipython-input-15-8bb000f4e062&gt;:110</span>\n",
       "</pre>\n"
      ],
      "text/plain": [
       "\u001b[2;36m[20:31:58]\u001b[0m\u001b[2;36m \u001b[0m서버시간 = \u001b[1;34m GMT 11시 31분 58초\u001b[0m                 \u001b[2m<ipython-input-15-8bb000f4e062>\u001b[0m\u001b[2m:110\u001b[0m\n"
      ]
     },
     "metadata": {},
     "output_type": "display_data"
    },
    {
     "data": {
      "text/html": [
       "<pre style=\"white-space:pre;overflow-x:auto;line-height:normal;font-family:Menlo,'DejaVu Sans Mono',consolas,'Courier New',monospace\"><span style=\"color: #7fbfbf; text-decoration-color: #7fbfbf\">           </span>남은시간 = <span style=\"color: #800000; text-decoration-color: #800000; font-weight: bold\">84482초</span>                             <span style=\"color: #7f7f7f; text-decoration-color: #7f7f7f\">&lt;ipython-input-15-8bb000f4e062&gt;:123</span>\n",
       "</pre>\n"
      ],
      "text/plain": [
       "\u001b[2;36m          \u001b[0m\u001b[2;36m \u001b[0m남은시간 = \u001b[1;31m84482초\u001b[0m                             \u001b[2m<ipython-input-15-8bb000f4e062>\u001b[0m\u001b[2m:123\u001b[0m\n"
      ]
     },
     "metadata": {},
     "output_type": "display_data"
    },
    {
     "data": {
      "application/vnd.jupyter.widget-view+json": {
       "model_id": "a54b4598ec534473bc6a579666d3a1e9",
       "version_major": 2,
       "version_minor": 0
      },
      "text/plain": [
       "Output()"
      ]
     },
     "metadata": {},
     "output_type": "display_data"
    },
    {
     "data": {
      "text/html": [
       "<pre style=\"white-space:pre;overflow-x:auto;line-height:normal;font-family:Menlo,'DejaVu Sans Mono',consolas,'Courier New',monospace\"><span style=\"color: #7fbfbf; text-decoration-color: #7fbfbf\">[20:31:59] </span>남은시간 = <span style=\"color: #800000; text-decoration-color: #800000; font-weight: bold\">84481초</span>                             <span style=\"color: #7f7f7f; text-decoration-color: #7f7f7f\">&lt;ipython-input-15-8bb000f4e062&gt;:123</span>\n",
       "</pre>\n"
      ],
      "text/plain": [
       "\u001b[2;36m[20:31:59]\u001b[0m\u001b[2;36m \u001b[0m남은시간 = \u001b[1;31m84481초\u001b[0m                             \u001b[2m<ipython-input-15-8bb000f4e062>\u001b[0m\u001b[2m:123\u001b[0m\n"
      ]
     },
     "metadata": {},
     "output_type": "display_data"
    },
    {
     "data": {
      "text/html": [
       "<pre style=\"white-space:pre;overflow-x:auto;line-height:normal;font-family:Menlo,'DejaVu Sans Mono',consolas,'Courier New',monospace\"><span style=\"color: #7fbfbf; text-decoration-color: #7fbfbf\">           </span>남은시간 = <span style=\"color: #800000; text-decoration-color: #800000; font-weight: bold\">84481초</span>                             <span style=\"color: #7f7f7f; text-decoration-color: #7f7f7f\">&lt;ipython-input-15-8bb000f4e062&gt;:123</span>\n",
       "</pre>\n"
      ],
      "text/plain": [
       "\u001b[2;36m          \u001b[0m\u001b[2;36m \u001b[0m남은시간 = \u001b[1;31m84481초\u001b[0m                             \u001b[2m<ipython-input-15-8bb000f4e062>\u001b[0m\u001b[2m:123\u001b[0m\n"
      ]
     },
     "metadata": {},
     "output_type": "display_data"
    },
    {
     "data": {
      "text/html": [
       "<pre style=\"white-space:pre;overflow-x:auto;line-height:normal;font-family:Menlo,'DejaVu Sans Mono',consolas,'Courier New',monospace\"><span style=\"color: #7fbfbf; text-decoration-color: #7fbfbf\">[20:32:00] </span>남은시간 = <span style=\"color: #800000; text-decoration-color: #800000; font-weight: bold\">84480초</span>                             <span style=\"color: #7f7f7f; text-decoration-color: #7f7f7f\">&lt;ipython-input-15-8bb000f4e062&gt;:123</span>\n",
       "</pre>\n"
      ],
      "text/plain": [
       "\u001b[2;36m[20:32:00]\u001b[0m\u001b[2;36m \u001b[0m남은시간 = \u001b[1;31m84480초\u001b[0m                             \u001b[2m<ipython-input-15-8bb000f4e062>\u001b[0m\u001b[2m:123\u001b[0m\n"
      ]
     },
     "metadata": {},
     "output_type": "display_data"
    },
    {
     "data": {
      "text/html": [
       "<pre style=\"white-space:pre;overflow-x:auto;line-height:normal;font-family:Menlo,'DejaVu Sans Mono',consolas,'Courier New',monospace\"><span style=\"color: #7fbfbf; text-decoration-color: #7fbfbf\">           </span>남은시간 = <span style=\"color: #800000; text-decoration-color: #800000; font-weight: bold\">84480초</span>                             <span style=\"color: #7f7f7f; text-decoration-color: #7f7f7f\">&lt;ipython-input-15-8bb000f4e062&gt;:123</span>\n",
       "</pre>\n"
      ],
      "text/plain": [
       "\u001b[2;36m          \u001b[0m\u001b[2;36m \u001b[0m남은시간 = \u001b[1;31m84480초\u001b[0m                             \u001b[2m<ipython-input-15-8bb000f4e062>\u001b[0m\u001b[2m:123\u001b[0m\n"
      ]
     },
     "metadata": {},
     "output_type": "display_data"
    },
    {
     "data": {
      "text/html": [
       "<pre style=\"white-space:pre;overflow-x:auto;line-height:normal;font-family:Menlo,'DejaVu Sans Mono',consolas,'Courier New',monospace\"><span style=\"color: #7fbfbf; text-decoration-color: #7fbfbf\">[20:32:01] </span>남은시간 = <span style=\"color: #800000; text-decoration-color: #800000; font-weight: bold\">84479초</span>                             <span style=\"color: #7f7f7f; text-decoration-color: #7f7f7f\">&lt;ipython-input-15-8bb000f4e062&gt;:123</span>\n",
       "</pre>\n"
      ],
      "text/plain": [
       "\u001b[2;36m[20:32:01]\u001b[0m\u001b[2;36m \u001b[0m남은시간 = \u001b[1;31m84479초\u001b[0m                             \u001b[2m<ipython-input-15-8bb000f4e062>\u001b[0m\u001b[2m:123\u001b[0m\n"
      ]
     },
     "metadata": {},
     "output_type": "display_data"
    },
    {
     "data": {
      "text/html": [
       "<pre style=\"white-space:pre;overflow-x:auto;line-height:normal;font-family:Menlo,'DejaVu Sans Mono',consolas,'Courier New',monospace\"><span style=\"color: #7fbfbf; text-decoration-color: #7fbfbf\">[20:32:02] </span>남은시간 = <span style=\"color: #800000; text-decoration-color: #800000; font-weight: bold\">84479초</span>                             <span style=\"color: #7f7f7f; text-decoration-color: #7f7f7f\">&lt;ipython-input-15-8bb000f4e062&gt;:123</span>\n",
       "</pre>\n"
      ],
      "text/plain": [
       "\u001b[2;36m[20:32:02]\u001b[0m\u001b[2;36m \u001b[0m남은시간 = \u001b[1;31m84479초\u001b[0m                             \u001b[2m<ipython-input-15-8bb000f4e062>\u001b[0m\u001b[2m:123\u001b[0m\n"
      ]
     },
     "metadata": {},
     "output_type": "display_data"
    },
    {
     "data": {
      "text/html": [
       "<pre style=\"white-space:pre;overflow-x:auto;line-height:normal;font-family:Menlo,'DejaVu Sans Mono',consolas,'Courier New',monospace\"><span style=\"color: #7fbfbf; text-decoration-color: #7fbfbf\">           </span>남은시간 = <span style=\"color: #800000; text-decoration-color: #800000; font-weight: bold\">84478초</span>                             <span style=\"color: #7f7f7f; text-decoration-color: #7f7f7f\">&lt;ipython-input-15-8bb000f4e062&gt;:123</span>\n",
       "</pre>\n"
      ],
      "text/plain": [
       "\u001b[2;36m          \u001b[0m\u001b[2;36m \u001b[0m남은시간 = \u001b[1;31m84478초\u001b[0m                             \u001b[2m<ipython-input-15-8bb000f4e062>\u001b[0m\u001b[2m:123\u001b[0m\n"
      ]
     },
     "metadata": {},
     "output_type": "display_data"
    },
    {
     "data": {
      "text/html": [
       "<pre style=\"white-space:pre;overflow-x:auto;line-height:normal;font-family:Menlo,'DejaVu Sans Mono',consolas,'Courier New',monospace\"><span style=\"color: #7fbfbf; text-decoration-color: #7fbfbf\">[20:32:03] </span>남은시간 = <span style=\"color: #800000; text-decoration-color: #800000; font-weight: bold\">84478초</span>                             <span style=\"color: #7f7f7f; text-decoration-color: #7f7f7f\">&lt;ipython-input-15-8bb000f4e062&gt;:123</span>\n",
       "</pre>\n"
      ],
      "text/plain": [
       "\u001b[2;36m[20:32:03]\u001b[0m\u001b[2;36m \u001b[0m남은시간 = \u001b[1;31m84478초\u001b[0m                             \u001b[2m<ipython-input-15-8bb000f4e062>\u001b[0m\u001b[2m:123\u001b[0m\n"
      ]
     },
     "metadata": {},
     "output_type": "display_data"
    },
    {
     "data": {
      "text/html": [
       "<pre style=\"white-space:pre;overflow-x:auto;line-height:normal;font-family:Menlo,'DejaVu Sans Mono',consolas,'Courier New',monospace\"><span style=\"color: #7fbfbf; text-decoration-color: #7fbfbf\">           </span>남은시간 = <span style=\"color: #800000; text-decoration-color: #800000; font-weight: bold\">84477초</span>                             <span style=\"color: #7f7f7f; text-decoration-color: #7f7f7f\">&lt;ipython-input-15-8bb000f4e062&gt;:123</span>\n",
       "</pre>\n"
      ],
      "text/plain": [
       "\u001b[2;36m          \u001b[0m\u001b[2;36m \u001b[0m남은시간 = \u001b[1;31m84477초\u001b[0m                             \u001b[2m<ipython-input-15-8bb000f4e062>\u001b[0m\u001b[2m:123\u001b[0m\n"
      ]
     },
     "metadata": {},
     "output_type": "display_data"
    },
    {
     "data": {
      "text/html": [
       "<pre style=\"white-space:pre;overflow-x:auto;line-height:normal;font-family:Menlo,'DejaVu Sans Mono',consolas,'Courier New',monospace\"><span style=\"color: #7fbfbf; text-decoration-color: #7fbfbf\">[20:32:04] </span>남은시간 = <span style=\"color: #800000; text-decoration-color: #800000; font-weight: bold\">84476초</span>                             <span style=\"color: #7f7f7f; text-decoration-color: #7f7f7f\">&lt;ipython-input-15-8bb000f4e062&gt;:123</span>\n",
       "</pre>\n"
      ],
      "text/plain": [
       "\u001b[2;36m[20:32:04]\u001b[0m\u001b[2;36m \u001b[0m남은시간 = \u001b[1;31m84476초\u001b[0m                             \u001b[2m<ipython-input-15-8bb000f4e062>\u001b[0m\u001b[2m:123\u001b[0m\n"
      ]
     },
     "metadata": {},
     "output_type": "display_data"
    },
    {
     "data": {
      "text/html": [
       "<pre style=\"white-space:pre;overflow-x:auto;line-height:normal;font-family:Menlo,'DejaVu Sans Mono',consolas,'Courier New',monospace\"><span style=\"color: #7fbfbf; text-decoration-color: #7fbfbf\">           </span>남은시간 = <span style=\"color: #800000; text-decoration-color: #800000; font-weight: bold\">84476초</span>                             <span style=\"color: #7f7f7f; text-decoration-color: #7f7f7f\">&lt;ipython-input-15-8bb000f4e062&gt;:123</span>\n",
       "</pre>\n"
      ],
      "text/plain": [
       "\u001b[2;36m          \u001b[0m\u001b[2;36m \u001b[0m남은시간 = \u001b[1;31m84476초\u001b[0m                             \u001b[2m<ipython-input-15-8bb000f4e062>\u001b[0m\u001b[2m:123\u001b[0m\n"
      ]
     },
     "metadata": {},
     "output_type": "display_data"
    },
    {
     "data": {
      "text/html": [
       "<pre style=\"white-space:pre;overflow-x:auto;line-height:normal;font-family:Menlo,'DejaVu Sans Mono',consolas,'Courier New',monospace\"><span style=\"color: #7fbfbf; text-decoration-color: #7fbfbf\">[20:32:05] </span>남은시간 = <span style=\"color: #800000; text-decoration-color: #800000; font-weight: bold\">84475초</span>                             <span style=\"color: #7f7f7f; text-decoration-color: #7f7f7f\">&lt;ipython-input-15-8bb000f4e062&gt;:123</span>\n",
       "</pre>\n"
      ],
      "text/plain": [
       "\u001b[2;36m[20:32:05]\u001b[0m\u001b[2;36m \u001b[0m남은시간 = \u001b[1;31m84475초\u001b[0m                             \u001b[2m<ipython-input-15-8bb000f4e062>\u001b[0m\u001b[2m:123\u001b[0m\n"
      ]
     },
     "metadata": {},
     "output_type": "display_data"
    },
    {
     "data": {
      "text/html": [
       "<pre style=\"white-space:pre;overflow-x:auto;line-height:normal;font-family:Menlo,'DejaVu Sans Mono',consolas,'Courier New',monospace\"><span style=\"color: #7fbfbf; text-decoration-color: #7fbfbf\">           </span>남은시간 = <span style=\"color: #800000; text-decoration-color: #800000; font-weight: bold\">84475초</span>                             <span style=\"color: #7f7f7f; text-decoration-color: #7f7f7f\">&lt;ipython-input-15-8bb000f4e062&gt;:123</span>\n",
       "</pre>\n"
      ],
      "text/plain": [
       "\u001b[2;36m          \u001b[0m\u001b[2;36m \u001b[0m남은시간 = \u001b[1;31m84475초\u001b[0m                             \u001b[2m<ipython-input-15-8bb000f4e062>\u001b[0m\u001b[2m:123\u001b[0m\n"
      ]
     },
     "metadata": {},
     "output_type": "display_data"
    },
    {
     "data": {
      "text/html": [
       "<pre style=\"white-space:pre;overflow-x:auto;line-height:normal;font-family:Menlo,'DejaVu Sans Mono',consolas,'Courier New',monospace\"><span style=\"color: #7fbfbf; text-decoration-color: #7fbfbf\">[20:32:06] </span>남은시간 = <span style=\"color: #800000; text-decoration-color: #800000; font-weight: bold\">84474초</span>                             <span style=\"color: #7f7f7f; text-decoration-color: #7f7f7f\">&lt;ipython-input-15-8bb000f4e062&gt;:123</span>\n",
       "</pre>\n"
      ],
      "text/plain": [
       "\u001b[2;36m[20:32:06]\u001b[0m\u001b[2;36m \u001b[0m남은시간 = \u001b[1;31m84474초\u001b[0m                             \u001b[2m<ipython-input-15-8bb000f4e062>\u001b[0m\u001b[2m:123\u001b[0m\n"
      ]
     },
     "metadata": {},
     "output_type": "display_data"
    },
    {
     "data": {
      "text/html": [
       "<pre style=\"white-space:pre;overflow-x:auto;line-height:normal;font-family:Menlo,'DejaVu Sans Mono',consolas,'Courier New',monospace\"><span style=\"color: #7fbfbf; text-decoration-color: #7fbfbf\">[20:32:07] </span>남은시간 = <span style=\"color: #800000; text-decoration-color: #800000; font-weight: bold\">84474초</span>                             <span style=\"color: #7f7f7f; text-decoration-color: #7f7f7f\">&lt;ipython-input-15-8bb000f4e062&gt;:123</span>\n",
       "</pre>\n"
      ],
      "text/plain": [
       "\u001b[2;36m[20:32:07]\u001b[0m\u001b[2;36m \u001b[0m남은시간 = \u001b[1;31m84474초\u001b[0m                             \u001b[2m<ipython-input-15-8bb000f4e062>\u001b[0m\u001b[2m:123\u001b[0m\n"
      ]
     },
     "metadata": {},
     "output_type": "display_data"
    },
    {
     "data": {
      "text/html": [
       "<pre style=\"white-space:pre;overflow-x:auto;line-height:normal;font-family:Menlo,'DejaVu Sans Mono',consolas,'Courier New',monospace\"><span style=\"color: #7fbfbf; text-decoration-color: #7fbfbf\">           </span>남은시간 = <span style=\"color: #800000; text-decoration-color: #800000; font-weight: bold\">84473초</span>                             <span style=\"color: #7f7f7f; text-decoration-color: #7f7f7f\">&lt;ipython-input-15-8bb000f4e062&gt;:123</span>\n",
       "</pre>\n"
      ],
      "text/plain": [
       "\u001b[2;36m          \u001b[0m\u001b[2;36m \u001b[0m남은시간 = \u001b[1;31m84473초\u001b[0m                             \u001b[2m<ipython-input-15-8bb000f4e062>\u001b[0m\u001b[2m:123\u001b[0m\n"
      ]
     },
     "metadata": {},
     "output_type": "display_data"
    },
    {
     "data": {
      "text/html": [
       "<pre style=\"white-space:pre;overflow-x:auto;line-height:normal;font-family:Menlo,'DejaVu Sans Mono',consolas,'Courier New',monospace\"><span style=\"color: #7fbfbf; text-decoration-color: #7fbfbf\">[20:32:08] </span>남은시간 = <span style=\"color: #800000; text-decoration-color: #800000; font-weight: bold\">84473초</span>                             <span style=\"color: #7f7f7f; text-decoration-color: #7f7f7f\">&lt;ipython-input-15-8bb000f4e062&gt;:123</span>\n",
       "</pre>\n"
      ],
      "text/plain": [
       "\u001b[2;36m[20:32:08]\u001b[0m\u001b[2;36m \u001b[0m남은시간 = \u001b[1;31m84473초\u001b[0m                             \u001b[2m<ipython-input-15-8bb000f4e062>\u001b[0m\u001b[2m:123\u001b[0m\n"
      ]
     },
     "metadata": {},
     "output_type": "display_data"
    },
    {
     "data": {
      "text/html": [
       "<pre style=\"white-space:pre;overflow-x:auto;line-height:normal;font-family:Menlo,'DejaVu Sans Mono',consolas,'Courier New',monospace\"><span style=\"color: #7fbfbf; text-decoration-color: #7fbfbf\">           </span>남은시간 = <span style=\"color: #800000; text-decoration-color: #800000; font-weight: bold\">84472초</span>                             <span style=\"color: #7f7f7f; text-decoration-color: #7f7f7f\">&lt;ipython-input-15-8bb000f4e062&gt;:123</span>\n",
       "</pre>\n"
      ],
      "text/plain": [
       "\u001b[2;36m          \u001b[0m\u001b[2;36m \u001b[0m남은시간 = \u001b[1;31m84472초\u001b[0m                             \u001b[2m<ipython-input-15-8bb000f4e062>\u001b[0m\u001b[2m:123\u001b[0m\n"
      ]
     },
     "metadata": {},
     "output_type": "display_data"
    },
    {
     "data": {
      "text/html": [
       "<pre style=\"white-space:pre;overflow-x:auto;line-height:normal;font-family:Menlo,'DejaVu Sans Mono',consolas,'Courier New',monospace\"><span style=\"color: #7fbfbf; text-decoration-color: #7fbfbf\">[20:32:09] </span>남은시간 = <span style=\"color: #800000; text-decoration-color: #800000; font-weight: bold\">84471초</span>                             <span style=\"color: #7f7f7f; text-decoration-color: #7f7f7f\">&lt;ipython-input-15-8bb000f4e062&gt;:123</span>\n",
       "</pre>\n"
      ],
      "text/plain": [
       "\u001b[2;36m[20:32:09]\u001b[0m\u001b[2;36m \u001b[0m남은시간 = \u001b[1;31m84471초\u001b[0m                             \u001b[2m<ipython-input-15-8bb000f4e062>\u001b[0m\u001b[2m:123\u001b[0m\n"
      ]
     },
     "metadata": {},
     "output_type": "display_data"
    },
    {
     "data": {
      "text/html": [
       "<pre style=\"white-space:pre;overflow-x:auto;line-height:normal;font-family:Menlo,'DejaVu Sans Mono',consolas,'Courier New',monospace\"><span style=\"color: #7fbfbf; text-decoration-color: #7fbfbf\">           </span>남은시간 = <span style=\"color: #800000; text-decoration-color: #800000; font-weight: bold\">84471초</span>                             <span style=\"color: #7f7f7f; text-decoration-color: #7f7f7f\">&lt;ipython-input-15-8bb000f4e062&gt;:123</span>\n",
       "</pre>\n"
      ],
      "text/plain": [
       "\u001b[2;36m          \u001b[0m\u001b[2;36m \u001b[0m남은시간 = \u001b[1;31m84471초\u001b[0m                             \u001b[2m<ipython-input-15-8bb000f4e062>\u001b[0m\u001b[2m:123\u001b[0m\n"
      ]
     },
     "metadata": {},
     "output_type": "display_data"
    },
    {
     "data": {
      "text/html": [
       "<pre style=\"white-space:pre;overflow-x:auto;line-height:normal;font-family:Menlo,'DejaVu Sans Mono',consolas,'Courier New',monospace\"><span style=\"color: #7fbfbf; text-decoration-color: #7fbfbf\">[20:32:10] </span>남은시간 = <span style=\"color: #800000; text-decoration-color: #800000; font-weight: bold\">84470초</span>                             <span style=\"color: #7f7f7f; text-decoration-color: #7f7f7f\">&lt;ipython-input-15-8bb000f4e062&gt;:123</span>\n",
       "</pre>\n"
      ],
      "text/plain": [
       "\u001b[2;36m[20:32:10]\u001b[0m\u001b[2;36m \u001b[0m남은시간 = \u001b[1;31m84470초\u001b[0m                             \u001b[2m<ipython-input-15-8bb000f4e062>\u001b[0m\u001b[2m:123\u001b[0m\n"
      ]
     },
     "metadata": {},
     "output_type": "display_data"
    },
    {
     "data": {
      "text/html": [
       "<pre style=\"white-space:pre;overflow-x:auto;line-height:normal;font-family:Menlo,'DejaVu Sans Mono',consolas,'Courier New',monospace\"><span style=\"color: #7fbfbf; text-decoration-color: #7fbfbf\">[20:32:11] </span>남은시간 = <span style=\"color: #800000; text-decoration-color: #800000; font-weight: bold\">84470초</span>                             <span style=\"color: #7f7f7f; text-decoration-color: #7f7f7f\">&lt;ipython-input-15-8bb000f4e062&gt;:123</span>\n",
       "</pre>\n"
      ],
      "text/plain": [
       "\u001b[2;36m[20:32:11]\u001b[0m\u001b[2;36m \u001b[0m남은시간 = \u001b[1;31m84470초\u001b[0m                             \u001b[2m<ipython-input-15-8bb000f4e062>\u001b[0m\u001b[2m:123\u001b[0m\n"
      ]
     },
     "metadata": {},
     "output_type": "display_data"
    },
    {
     "data": {
      "text/html": [
       "<pre style=\"white-space:pre;overflow-x:auto;line-height:normal;font-family:Menlo,'DejaVu Sans Mono',consolas,'Courier New',monospace\"><span style=\"color: #7fbfbf; text-decoration-color: #7fbfbf\">           </span>남은시간 = <span style=\"color: #800000; text-decoration-color: #800000; font-weight: bold\">84469초</span>                             <span style=\"color: #7f7f7f; text-decoration-color: #7f7f7f\">&lt;ipython-input-15-8bb000f4e062&gt;:123</span>\n",
       "</pre>\n"
      ],
      "text/plain": [
       "\u001b[2;36m          \u001b[0m\u001b[2;36m \u001b[0m남은시간 = \u001b[1;31m84469초\u001b[0m                             \u001b[2m<ipython-input-15-8bb000f4e062>\u001b[0m\u001b[2m:123\u001b[0m\n"
      ]
     },
     "metadata": {},
     "output_type": "display_data"
    },
    {
     "data": {
      "text/html": [
       "<pre style=\"white-space:pre;overflow-x:auto;line-height:normal;font-family:Menlo,'DejaVu Sans Mono',consolas,'Courier New',monospace\"><span style=\"color: #7fbfbf; text-decoration-color: #7fbfbf\">[20:32:12] </span>남은시간 = <span style=\"color: #800000; text-decoration-color: #800000; font-weight: bold\">84469초</span>                             <span style=\"color: #7f7f7f; text-decoration-color: #7f7f7f\">&lt;ipython-input-15-8bb000f4e062&gt;:123</span>\n",
       "</pre>\n"
      ],
      "text/plain": [
       "\u001b[2;36m[20:32:12]\u001b[0m\u001b[2;36m \u001b[0m남은시간 = \u001b[1;31m84469초\u001b[0m                             \u001b[2m<ipython-input-15-8bb000f4e062>\u001b[0m\u001b[2m:123\u001b[0m\n"
      ]
     },
     "metadata": {},
     "output_type": "display_data"
    },
    {
     "data": {
      "text/html": [
       "<pre style=\"white-space:pre;overflow-x:auto;line-height:normal;font-family:Menlo,'DejaVu Sans Mono',consolas,'Courier New',monospace\"><span style=\"color: #7fbfbf; text-decoration-color: #7fbfbf\">           </span>남은시간 = <span style=\"color: #800000; text-decoration-color: #800000; font-weight: bold\">84468초</span>                             <span style=\"color: #7f7f7f; text-decoration-color: #7f7f7f\">&lt;ipython-input-15-8bb000f4e062&gt;:123</span>\n",
       "</pre>\n"
      ],
      "text/plain": [
       "\u001b[2;36m          \u001b[0m\u001b[2;36m \u001b[0m남은시간 = \u001b[1;31m84468초\u001b[0m                             \u001b[2m<ipython-input-15-8bb000f4e062>\u001b[0m\u001b[2m:123\u001b[0m\n"
      ]
     },
     "metadata": {},
     "output_type": "display_data"
    },
    {
     "data": {
      "text/html": [
       "<pre style=\"white-space:pre;overflow-x:auto;line-height:normal;font-family:Menlo,'DejaVu Sans Mono',consolas,'Courier New',monospace\"><span style=\"color: #7fbfbf; text-decoration-color: #7fbfbf\">[20:32:13] </span>남은시간 = <span style=\"color: #800000; text-decoration-color: #800000; font-weight: bold\">84467초</span>                             <span style=\"color: #7f7f7f; text-decoration-color: #7f7f7f\">&lt;ipython-input-15-8bb000f4e062&gt;:123</span>\n",
       "</pre>\n"
      ],
      "text/plain": [
       "\u001b[2;36m[20:32:13]\u001b[0m\u001b[2;36m \u001b[0m남은시간 = \u001b[1;31m84467초\u001b[0m                             \u001b[2m<ipython-input-15-8bb000f4e062>\u001b[0m\u001b[2m:123\u001b[0m\n"
      ]
     },
     "metadata": {},
     "output_type": "display_data"
    },
    {
     "data": {
      "text/html": [
       "<pre style=\"white-space:pre;overflow-x:auto;line-height:normal;font-family:Menlo,'DejaVu Sans Mono',consolas,'Courier New',monospace\"><span style=\"color: #7fbfbf; text-decoration-color: #7fbfbf\">[20:32:14] </span>남은시간 = <span style=\"color: #800000; text-decoration-color: #800000; font-weight: bold\">84466초</span>                             <span style=\"color: #7f7f7f; text-decoration-color: #7f7f7f\">&lt;ipython-input-15-8bb000f4e062&gt;:123</span>\n",
       "</pre>\n"
      ],
      "text/plain": [
       "\u001b[2;36m[20:32:14]\u001b[0m\u001b[2;36m \u001b[0m남은시간 = \u001b[1;31m84466초\u001b[0m                             \u001b[2m<ipython-input-15-8bb000f4e062>\u001b[0m\u001b[2m:123\u001b[0m\n"
      ]
     },
     "metadata": {},
     "output_type": "display_data"
    },
    {
     "data": {
      "text/html": [
       "<pre style=\"white-space:pre;overflow-x:auto;line-height:normal;font-family:Menlo,'DejaVu Sans Mono',consolas,'Courier New',monospace\"><span style=\"color: #7fbfbf; text-decoration-color: #7fbfbf\">           </span>남은시간 = <span style=\"color: #800000; text-decoration-color: #800000; font-weight: bold\">84466초</span>                             <span style=\"color: #7f7f7f; text-decoration-color: #7f7f7f\">&lt;ipython-input-15-8bb000f4e062&gt;:123</span>\n",
       "</pre>\n"
      ],
      "text/plain": [
       "\u001b[2;36m          \u001b[0m\u001b[2;36m \u001b[0m남은시간 = \u001b[1;31m84466초\u001b[0m                             \u001b[2m<ipython-input-15-8bb000f4e062>\u001b[0m\u001b[2m:123\u001b[0m\n"
      ]
     },
     "metadata": {},
     "output_type": "display_data"
    },
    {
     "data": {
      "text/html": [
       "<pre style=\"white-space:pre;overflow-x:auto;line-height:normal;font-family:Menlo,'DejaVu Sans Mono',consolas,'Courier New',monospace\"><span style=\"color: #7fbfbf; text-decoration-color: #7fbfbf\">[20:32:16] </span>남은시간 = <span style=\"color: #800000; text-decoration-color: #800000; font-weight: bold\">84465초</span>                             <span style=\"color: #7f7f7f; text-decoration-color: #7f7f7f\">&lt;ipython-input-15-8bb000f4e062&gt;:123</span>\n",
       "</pre>\n"
      ],
      "text/plain": [
       "\u001b[2;36m[20:32:16]\u001b[0m\u001b[2;36m \u001b[0m남은시간 = \u001b[1;31m84465초\u001b[0m                             \u001b[2m<ipython-input-15-8bb000f4e062>\u001b[0m\u001b[2m:123\u001b[0m\n"
      ]
     },
     "metadata": {},
     "output_type": "display_data"
    },
    {
     "data": {
      "text/html": [
       "<pre style=\"white-space:pre;overflow-x:auto;line-height:normal;font-family:Menlo,'DejaVu Sans Mono',consolas,'Courier New',monospace\"><span style=\"color: #7fbfbf; text-decoration-color: #7fbfbf\">           </span>남은시간 = <span style=\"color: #800000; text-decoration-color: #800000; font-weight: bold\">84464초</span>                             <span style=\"color: #7f7f7f; text-decoration-color: #7f7f7f\">&lt;ipython-input-15-8bb000f4e062&gt;:123</span>\n",
       "</pre>\n"
      ],
      "text/plain": [
       "\u001b[2;36m          \u001b[0m\u001b[2;36m \u001b[0m남은시간 = \u001b[1;31m84464초\u001b[0m                             \u001b[2m<ipython-input-15-8bb000f4e062>\u001b[0m\u001b[2m:123\u001b[0m\n"
      ]
     },
     "metadata": {},
     "output_type": "display_data"
    },
    {
     "data": {
      "text/html": [
       "<pre style=\"white-space:pre;overflow-x:auto;line-height:normal;font-family:Menlo,'DejaVu Sans Mono',consolas,'Courier New',monospace\"><span style=\"color: #7fbfbf; text-decoration-color: #7fbfbf\">[20:32:17] </span>남은시간 = <span style=\"color: #800000; text-decoration-color: #800000; font-weight: bold\">84464초</span>                             <span style=\"color: #7f7f7f; text-decoration-color: #7f7f7f\">&lt;ipython-input-15-8bb000f4e062&gt;:123</span>\n",
       "</pre>\n"
      ],
      "text/plain": [
       "\u001b[2;36m[20:32:17]\u001b[0m\u001b[2;36m \u001b[0m남은시간 = \u001b[1;31m84464초\u001b[0m                             \u001b[2m<ipython-input-15-8bb000f4e062>\u001b[0m\u001b[2m:123\u001b[0m\n"
      ]
     },
     "metadata": {},
     "output_type": "display_data"
    },
    {
     "data": {
      "text/html": [
       "<pre style=\"white-space:pre;overflow-x:auto;line-height:normal;font-family:Menlo,'DejaVu Sans Mono',consolas,'Courier New',monospace\"><span style=\"color: #7fbfbf; text-decoration-color: #7fbfbf\">           </span>남은시간 = <span style=\"color: #800000; text-decoration-color: #800000; font-weight: bold\">84463초</span>                             <span style=\"color: #7f7f7f; text-decoration-color: #7f7f7f\">&lt;ipython-input-15-8bb000f4e062&gt;:123</span>\n",
       "</pre>\n"
      ],
      "text/plain": [
       "\u001b[2;36m          \u001b[0m\u001b[2;36m \u001b[0m남은시간 = \u001b[1;31m84463초\u001b[0m                             \u001b[2m<ipython-input-15-8bb000f4e062>\u001b[0m\u001b[2m:123\u001b[0m\n"
      ]
     },
     "metadata": {},
     "output_type": "display_data"
    },
    {
     "data": {
      "text/html": [
       "<pre style=\"white-space:pre;overflow-x:auto;line-height:normal;font-family:Menlo,'DejaVu Sans Mono',consolas,'Courier New',monospace\"><span style=\"color: #7fbfbf; text-decoration-color: #7fbfbf\">[20:32:18] </span>남은시간 = <span style=\"color: #800000; text-decoration-color: #800000; font-weight: bold\">84462초</span>                             <span style=\"color: #7f7f7f; text-decoration-color: #7f7f7f\">&lt;ipython-input-15-8bb000f4e062&gt;:123</span>\n",
       "</pre>\n"
      ],
      "text/plain": [
       "\u001b[2;36m[20:32:18]\u001b[0m\u001b[2;36m \u001b[0m남은시간 = \u001b[1;31m84462초\u001b[0m                             \u001b[2m<ipython-input-15-8bb000f4e062>\u001b[0m\u001b[2m:123\u001b[0m\n"
      ]
     },
     "metadata": {},
     "output_type": "display_data"
    },
    {
     "data": {
      "text/html": [
       "<pre style=\"white-space:pre;overflow-x:auto;line-height:normal;font-family:Menlo,'DejaVu Sans Mono',consolas,'Courier New',monospace\"><span style=\"color: #7fbfbf; text-decoration-color: #7fbfbf\">[20:32:19] </span>남은시간 = <span style=\"color: #800000; text-decoration-color: #800000; font-weight: bold\">84461초</span>                             <span style=\"color: #7f7f7f; text-decoration-color: #7f7f7f\">&lt;ipython-input-15-8bb000f4e062&gt;:123</span>\n",
       "</pre>\n"
      ],
      "text/plain": [
       "\u001b[2;36m[20:32:19]\u001b[0m\u001b[2;36m \u001b[0m남은시간 = \u001b[1;31m84461초\u001b[0m                             \u001b[2m<ipython-input-15-8bb000f4e062>\u001b[0m\u001b[2m:123\u001b[0m\n"
      ]
     },
     "metadata": {},
     "output_type": "display_data"
    },
    {
     "data": {
      "text/html": [
       "<pre style=\"white-space:pre;overflow-x:auto;line-height:normal;font-family:Menlo,'DejaVu Sans Mono',consolas,'Courier New',monospace\"><span style=\"color: #7fbfbf; text-decoration-color: #7fbfbf\">[20:32:20] </span>남은시간 = <span style=\"color: #800000; text-decoration-color: #800000; font-weight: bold\">84461초</span>                             <span style=\"color: #7f7f7f; text-decoration-color: #7f7f7f\">&lt;ipython-input-15-8bb000f4e062&gt;:123</span>\n",
       "</pre>\n"
      ],
      "text/plain": [
       "\u001b[2;36m[20:32:20]\u001b[0m\u001b[2;36m \u001b[0m남은시간 = \u001b[1;31m84461초\u001b[0m                             \u001b[2m<ipython-input-15-8bb000f4e062>\u001b[0m\u001b[2m:123\u001b[0m\n"
      ]
     },
     "metadata": {},
     "output_type": "display_data"
    },
    {
     "data": {
      "text/html": [
       "<pre style=\"white-space:pre;overflow-x:auto;line-height:normal;font-family:Menlo,'DejaVu Sans Mono',consolas,'Courier New',monospace\"><span style=\"color: #7fbfbf; text-decoration-color: #7fbfbf\">           </span>남은시간 = <span style=\"color: #800000; text-decoration-color: #800000; font-weight: bold\">84460초</span>                             <span style=\"color: #7f7f7f; text-decoration-color: #7f7f7f\">&lt;ipython-input-15-8bb000f4e062&gt;:123</span>\n",
       "</pre>\n"
      ],
      "text/plain": [
       "\u001b[2;36m          \u001b[0m\u001b[2;36m \u001b[0m남은시간 = \u001b[1;31m84460초\u001b[0m                             \u001b[2m<ipython-input-15-8bb000f4e062>\u001b[0m\u001b[2m:123\u001b[0m\n"
      ]
     },
     "metadata": {},
     "output_type": "display_data"
    },
    {
     "data": {
      "text/html": [
       "<pre style=\"white-space:pre;overflow-x:auto;line-height:normal;font-family:Menlo,'DejaVu Sans Mono',consolas,'Courier New',monospace\"><span style=\"color: #7fbfbf; text-decoration-color: #7fbfbf\">[20:32:21] </span>남은시간 = <span style=\"color: #800000; text-decoration-color: #800000; font-weight: bold\">84460초</span>                             <span style=\"color: #7f7f7f; text-decoration-color: #7f7f7f\">&lt;ipython-input-15-8bb000f4e062&gt;:123</span>\n",
       "</pre>\n"
      ],
      "text/plain": [
       "\u001b[2;36m[20:32:21]\u001b[0m\u001b[2;36m \u001b[0m남은시간 = \u001b[1;31m84460초\u001b[0m                             \u001b[2m<ipython-input-15-8bb000f4e062>\u001b[0m\u001b[2m:123\u001b[0m\n"
      ]
     },
     "metadata": {},
     "output_type": "display_data"
    },
    {
     "data": {
      "text/html": [
       "<pre style=\"white-space:pre;overflow-x:auto;line-height:normal;font-family:Menlo,'DejaVu Sans Mono',consolas,'Courier New',monospace\"><span style=\"color: #7fbfbf; text-decoration-color: #7fbfbf\">           </span>남은시간 = <span style=\"color: #800000; text-decoration-color: #800000; font-weight: bold\">84459초</span>                             <span style=\"color: #7f7f7f; text-decoration-color: #7f7f7f\">&lt;ipython-input-15-8bb000f4e062&gt;:123</span>\n",
       "</pre>\n"
      ],
      "text/plain": [
       "\u001b[2;36m          \u001b[0m\u001b[2;36m \u001b[0m남은시간 = \u001b[1;31m84459초\u001b[0m                             \u001b[2m<ipython-input-15-8bb000f4e062>\u001b[0m\u001b[2m:123\u001b[0m\n"
      ]
     },
     "metadata": {},
     "output_type": "display_data"
    },
    {
     "data": {
      "text/html": [
       "<pre style=\"white-space:pre;overflow-x:auto;line-height:normal;font-family:Menlo,'DejaVu Sans Mono',consolas,'Courier New',monospace\"><span style=\"color: #7fbfbf; text-decoration-color: #7fbfbf\">[20:32:22] </span>남은시간 = <span style=\"color: #800000; text-decoration-color: #800000; font-weight: bold\">84458초</span>                             <span style=\"color: #7f7f7f; text-decoration-color: #7f7f7f\">&lt;ipython-input-15-8bb000f4e062&gt;:123</span>\n",
       "</pre>\n"
      ],
      "text/plain": [
       "\u001b[2;36m[20:32:22]\u001b[0m\u001b[2;36m \u001b[0m남은시간 = \u001b[1;31m84458초\u001b[0m                             \u001b[2m<ipython-input-15-8bb000f4e062>\u001b[0m\u001b[2m:123\u001b[0m\n"
      ]
     },
     "metadata": {},
     "output_type": "display_data"
    },
    {
     "data": {
      "text/html": [
       "<pre style=\"white-space:pre;overflow-x:auto;line-height:normal;font-family:Menlo,'DejaVu Sans Mono',consolas,'Courier New',monospace\"><span style=\"color: #7fbfbf; text-decoration-color: #7fbfbf\">           </span>남은시간 = <span style=\"color: #800000; text-decoration-color: #800000; font-weight: bold\">84458초</span>                             <span style=\"color: #7f7f7f; text-decoration-color: #7f7f7f\">&lt;ipython-input-15-8bb000f4e062&gt;:123</span>\n",
       "</pre>\n"
      ],
      "text/plain": [
       "\u001b[2;36m          \u001b[0m\u001b[2;36m \u001b[0m남은시간 = \u001b[1;31m84458초\u001b[0m                             \u001b[2m<ipython-input-15-8bb000f4e062>\u001b[0m\u001b[2m:123\u001b[0m\n"
      ]
     },
     "metadata": {},
     "output_type": "display_data"
    },
    {
     "data": {
      "text/html": [
       "<pre style=\"white-space:pre;overflow-x:auto;line-height:normal;font-family:Menlo,'DejaVu Sans Mono',consolas,'Courier New',monospace\"><span style=\"color: #7fbfbf; text-decoration-color: #7fbfbf\">[20:32:23] </span>남은시간 = <span style=\"color: #800000; text-decoration-color: #800000; font-weight: bold\">84457초</span>                             <span style=\"color: #7f7f7f; text-decoration-color: #7f7f7f\">&lt;ipython-input-15-8bb000f4e062&gt;:123</span>\n",
       "</pre>\n"
      ],
      "text/plain": [
       "\u001b[2;36m[20:32:23]\u001b[0m\u001b[2;36m \u001b[0m남은시간 = \u001b[1;31m84457초\u001b[0m                             \u001b[2m<ipython-input-15-8bb000f4e062>\u001b[0m\u001b[2m:123\u001b[0m\n"
      ]
     },
     "metadata": {},
     "output_type": "display_data"
    },
    {
     "data": {
      "text/html": [
       "<pre style=\"white-space:pre;overflow-x:auto;line-height:normal;font-family:Menlo,'DejaVu Sans Mono',consolas,'Courier New',monospace\"><span style=\"color: #7fbfbf; text-decoration-color: #7fbfbf\">           </span>남은시간 = <span style=\"color: #800000; text-decoration-color: #800000; font-weight: bold\">84457초</span>                             <span style=\"color: #7f7f7f; text-decoration-color: #7f7f7f\">&lt;ipython-input-15-8bb000f4e062&gt;:123</span>\n",
       "</pre>\n"
      ],
      "text/plain": [
       "\u001b[2;36m          \u001b[0m\u001b[2;36m \u001b[0m남은시간 = \u001b[1;31m84457초\u001b[0m                             \u001b[2m<ipython-input-15-8bb000f4e062>\u001b[0m\u001b[2m:123\u001b[0m\n"
      ]
     },
     "metadata": {},
     "output_type": "display_data"
    },
    {
     "data": {
      "text/html": [
       "<pre style=\"white-space:pre;overflow-x:auto;line-height:normal;font-family:Menlo,'DejaVu Sans Mono',consolas,'Courier New',monospace\"><span style=\"color: #7fbfbf; text-decoration-color: #7fbfbf\">[20:32:24] </span>남은시간 = <span style=\"color: #800000; text-decoration-color: #800000; font-weight: bold\">84456초</span>                             <span style=\"color: #7f7f7f; text-decoration-color: #7f7f7f\">&lt;ipython-input-15-8bb000f4e062&gt;:123</span>\n",
       "</pre>\n"
      ],
      "text/plain": [
       "\u001b[2;36m[20:32:24]\u001b[0m\u001b[2;36m \u001b[0m남은시간 = \u001b[1;31m84456초\u001b[0m                             \u001b[2m<ipython-input-15-8bb000f4e062>\u001b[0m\u001b[2m:123\u001b[0m\n"
      ]
     },
     "metadata": {},
     "output_type": "display_data"
    },
    {
     "data": {
      "text/html": [
       "<pre style=\"white-space:pre;overflow-x:auto;line-height:normal;font-family:Menlo,'DejaVu Sans Mono',consolas,'Courier New',monospace\"><span style=\"color: #7fbfbf; text-decoration-color: #7fbfbf\">[20:32:25] </span>남은시간 = <span style=\"color: #800000; text-decoration-color: #800000; font-weight: bold\">84456초</span>                             <span style=\"color: #7f7f7f; text-decoration-color: #7f7f7f\">&lt;ipython-input-15-8bb000f4e062&gt;:123</span>\n",
       "</pre>\n"
      ],
      "text/plain": [
       "\u001b[2;36m[20:32:25]\u001b[0m\u001b[2;36m \u001b[0m남은시간 = \u001b[1;31m84456초\u001b[0m                             \u001b[2m<ipython-input-15-8bb000f4e062>\u001b[0m\u001b[2m:123\u001b[0m\n"
      ]
     },
     "metadata": {},
     "output_type": "display_data"
    },
    {
     "data": {
      "text/html": [
       "<pre style=\"white-space:pre;overflow-x:auto;line-height:normal;font-family:Menlo,'DejaVu Sans Mono',consolas,'Courier New',monospace\"><span style=\"color: #7fbfbf; text-decoration-color: #7fbfbf\">           </span>남은시간 = <span style=\"color: #800000; text-decoration-color: #800000; font-weight: bold\">84455초</span>                             <span style=\"color: #7f7f7f; text-decoration-color: #7f7f7f\">&lt;ipython-input-15-8bb000f4e062&gt;:123</span>\n",
       "</pre>\n"
      ],
      "text/plain": [
       "\u001b[2;36m          \u001b[0m\u001b[2;36m \u001b[0m남은시간 = \u001b[1;31m84455초\u001b[0m                             \u001b[2m<ipython-input-15-8bb000f4e062>\u001b[0m\u001b[2m:123\u001b[0m\n"
      ]
     },
     "metadata": {},
     "output_type": "display_data"
    },
    {
     "data": {
      "text/html": [
       "<pre style=\"white-space:pre;overflow-x:auto;line-height:normal;font-family:Menlo,'DejaVu Sans Mono',consolas,'Courier New',monospace\"><span style=\"color: #7fbfbf; text-decoration-color: #7fbfbf\">[20:32:26] </span>남은시간 = <span style=\"color: #800000; text-decoration-color: #800000; font-weight: bold\">84455초</span>                             <span style=\"color: #7f7f7f; text-decoration-color: #7f7f7f\">&lt;ipython-input-15-8bb000f4e062&gt;:123</span>\n",
       "</pre>\n"
      ],
      "text/plain": [
       "\u001b[2;36m[20:32:26]\u001b[0m\u001b[2;36m \u001b[0m남은시간 = \u001b[1;31m84455초\u001b[0m                             \u001b[2m<ipython-input-15-8bb000f4e062>\u001b[0m\u001b[2m:123\u001b[0m\n"
      ]
     },
     "metadata": {},
     "output_type": "display_data"
    },
    {
     "data": {
      "text/html": [
       "<pre style=\"white-space:pre;overflow-x:auto;line-height:normal;font-family:Menlo,'DejaVu Sans Mono',consolas,'Courier New',monospace\"><span style=\"color: #7fbfbf; text-decoration-color: #7fbfbf\">           </span>남은시간 = <span style=\"color: #800000; text-decoration-color: #800000; font-weight: bold\">84454초</span>                             <span style=\"color: #7f7f7f; text-decoration-color: #7f7f7f\">&lt;ipython-input-15-8bb000f4e062&gt;:123</span>\n",
       "</pre>\n"
      ],
      "text/plain": [
       "\u001b[2;36m          \u001b[0m\u001b[2;36m \u001b[0m남은시간 = \u001b[1;31m84454초\u001b[0m                             \u001b[2m<ipython-input-15-8bb000f4e062>\u001b[0m\u001b[2m:123\u001b[0m\n"
      ]
     },
     "metadata": {},
     "output_type": "display_data"
    },
    {
     "data": {
      "text/html": [
       "<pre style=\"white-space:pre;overflow-x:auto;line-height:normal;font-family:Menlo,'DejaVu Sans Mono',consolas,'Courier New',monospace\"><span style=\"color: #7fbfbf; text-decoration-color: #7fbfbf\">[20:32:27] </span>남은시간 = <span style=\"color: #800000; text-decoration-color: #800000; font-weight: bold\">84453초</span>                             <span style=\"color: #7f7f7f; text-decoration-color: #7f7f7f\">&lt;ipython-input-15-8bb000f4e062&gt;:123</span>\n",
       "</pre>\n"
      ],
      "text/plain": [
       "\u001b[2;36m[20:32:27]\u001b[0m\u001b[2;36m \u001b[0m남은시간 = \u001b[1;31m84453초\u001b[0m                             \u001b[2m<ipython-input-15-8bb000f4e062>\u001b[0m\u001b[2m:123\u001b[0m\n"
      ]
     },
     "metadata": {},
     "output_type": "display_data"
    },
    {
     "data": {
      "text/html": [
       "<pre style=\"white-space:pre;overflow-x:auto;line-height:normal;font-family:Menlo,'DejaVu Sans Mono',consolas,'Courier New',monospace\"><span style=\"color: #7fbfbf; text-decoration-color: #7fbfbf\">           </span>남은시간 = <span style=\"color: #800000; text-decoration-color: #800000; font-weight: bold\">84453초</span>                             <span style=\"color: #7f7f7f; text-decoration-color: #7f7f7f\">&lt;ipython-input-15-8bb000f4e062&gt;:123</span>\n",
       "</pre>\n"
      ],
      "text/plain": [
       "\u001b[2;36m          \u001b[0m\u001b[2;36m \u001b[0m남은시간 = \u001b[1;31m84453초\u001b[0m                             \u001b[2m<ipython-input-15-8bb000f4e062>\u001b[0m\u001b[2m:123\u001b[0m\n"
      ]
     },
     "metadata": {},
     "output_type": "display_data"
    },
    {
     "data": {
      "text/html": [
       "<pre style=\"white-space:pre;overflow-x:auto;line-height:normal;font-family:Menlo,'DejaVu Sans Mono',consolas,'Courier New',monospace\"><span style=\"color: #7fbfbf; text-decoration-color: #7fbfbf\">[20:32:28] </span>남은시간 = <span style=\"color: #800000; text-decoration-color: #800000; font-weight: bold\">84452초</span>                             <span style=\"color: #7f7f7f; text-decoration-color: #7f7f7f\">&lt;ipython-input-15-8bb000f4e062&gt;:123</span>\n",
       "</pre>\n"
      ],
      "text/plain": [
       "\u001b[2;36m[20:32:28]\u001b[0m\u001b[2;36m \u001b[0m남은시간 = \u001b[1;31m84452초\u001b[0m                             \u001b[2m<ipython-input-15-8bb000f4e062>\u001b[0m\u001b[2m:123\u001b[0m\n"
      ]
     },
     "metadata": {},
     "output_type": "display_data"
    },
    {
     "data": {
      "text/html": [
       "<pre style=\"white-space:pre;overflow-x:auto;line-height:normal;font-family:Menlo,'DejaVu Sans Mono',consolas,'Courier New',monospace\"><span style=\"color: #7fbfbf; text-decoration-color: #7fbfbf\">[20:32:29] </span>남은시간 = <span style=\"color: #800000; text-decoration-color: #800000; font-weight: bold\">84452초</span>                             <span style=\"color: #7f7f7f; text-decoration-color: #7f7f7f\">&lt;ipython-input-15-8bb000f4e062&gt;:123</span>\n",
       "</pre>\n"
      ],
      "text/plain": [
       "\u001b[2;36m[20:32:29]\u001b[0m\u001b[2;36m \u001b[0m남은시간 = \u001b[1;31m84452초\u001b[0m                             \u001b[2m<ipython-input-15-8bb000f4e062>\u001b[0m\u001b[2m:123\u001b[0m\n"
      ]
     },
     "metadata": {},
     "output_type": "display_data"
    },
    {
     "data": {
      "text/html": [
       "<pre style=\"white-space:pre;overflow-x:auto;line-height:normal;font-family:Menlo,'DejaVu Sans Mono',consolas,'Courier New',monospace\"><span style=\"color: #7fbfbf; text-decoration-color: #7fbfbf\">[20:32:30] </span>남은시간 = <span style=\"color: #800000; text-decoration-color: #800000; font-weight: bold\">84450초</span>                             <span style=\"color: #7f7f7f; text-decoration-color: #7f7f7f\">&lt;ipython-input-15-8bb000f4e062&gt;:123</span>\n",
       "</pre>\n"
      ],
      "text/plain": [
       "\u001b[2;36m[20:32:30]\u001b[0m\u001b[2;36m \u001b[0m남은시간 = \u001b[1;31m84450초\u001b[0m                             \u001b[2m<ipython-input-15-8bb000f4e062>\u001b[0m\u001b[2m:123\u001b[0m\n"
      ]
     },
     "metadata": {},
     "output_type": "display_data"
    },
    {
     "data": {
      "text/html": [
       "<pre style=\"white-space:pre;overflow-x:auto;line-height:normal;font-family:Menlo,'DejaVu Sans Mono',consolas,'Courier New',monospace\"><span style=\"color: #7fbfbf; text-decoration-color: #7fbfbf\">           </span>남은시간 = <span style=\"color: #800000; text-decoration-color: #800000; font-weight: bold\">84450초</span>                             <span style=\"color: #7f7f7f; text-decoration-color: #7f7f7f\">&lt;ipython-input-15-8bb000f4e062&gt;:123</span>\n",
       "</pre>\n"
      ],
      "text/plain": [
       "\u001b[2;36m          \u001b[0m\u001b[2;36m \u001b[0m남은시간 = \u001b[1;31m84450초\u001b[0m                             \u001b[2m<ipython-input-15-8bb000f4e062>\u001b[0m\u001b[2m:123\u001b[0m\n"
      ]
     },
     "metadata": {},
     "output_type": "display_data"
    },
    {
     "data": {
      "text/html": [
       "<pre style=\"white-space:pre;overflow-x:auto;line-height:normal;font-family:Menlo,'DejaVu Sans Mono',consolas,'Courier New',monospace\"><span style=\"color: #7fbfbf; text-decoration-color: #7fbfbf\">[20:32:31] </span>남은시간 = <span style=\"color: #800000; text-decoration-color: #800000; font-weight: bold\">84449초</span>                             <span style=\"color: #7f7f7f; text-decoration-color: #7f7f7f\">&lt;ipython-input-15-8bb000f4e062&gt;:123</span>\n",
       "</pre>\n"
      ],
      "text/plain": [
       "\u001b[2;36m[20:32:31]\u001b[0m\u001b[2;36m \u001b[0m남은시간 = \u001b[1;31m84449초\u001b[0m                             \u001b[2m<ipython-input-15-8bb000f4e062>\u001b[0m\u001b[2m:123\u001b[0m\n"
      ]
     },
     "metadata": {},
     "output_type": "display_data"
    },
    {
     "data": {
      "text/html": [
       "<pre style=\"white-space:pre;overflow-x:auto;line-height:normal;font-family:Menlo,'DejaVu Sans Mono',consolas,'Courier New',monospace\"><span style=\"color: #7fbfbf; text-decoration-color: #7fbfbf\">           </span>남은시간 = <span style=\"color: #800000; text-decoration-color: #800000; font-weight: bold\">84449초</span>                             <span style=\"color: #7f7f7f; text-decoration-color: #7f7f7f\">&lt;ipython-input-15-8bb000f4e062&gt;:123</span>\n",
       "</pre>\n"
      ],
      "text/plain": [
       "\u001b[2;36m          \u001b[0m\u001b[2;36m \u001b[0m남은시간 = \u001b[1;31m84449초\u001b[0m                             \u001b[2m<ipython-input-15-8bb000f4e062>\u001b[0m\u001b[2m:123\u001b[0m\n"
      ]
     },
     "metadata": {},
     "output_type": "display_data"
    },
    {
     "data": {
      "text/html": [
       "<pre style=\"white-space:pre;overflow-x:auto;line-height:normal;font-family:Menlo,'DejaVu Sans Mono',consolas,'Courier New',monospace\"><span style=\"color: #7fbfbf; text-decoration-color: #7fbfbf\">[20:32:32] </span>남은시간 = <span style=\"color: #800000; text-decoration-color: #800000; font-weight: bold\">84448초</span>                             <span style=\"color: #7f7f7f; text-decoration-color: #7f7f7f\">&lt;ipython-input-15-8bb000f4e062&gt;:123</span>\n",
       "</pre>\n"
      ],
      "text/plain": [
       "\u001b[2;36m[20:32:32]\u001b[0m\u001b[2;36m \u001b[0m남은시간 = \u001b[1;31m84448초\u001b[0m                             \u001b[2m<ipython-input-15-8bb000f4e062>\u001b[0m\u001b[2m:123\u001b[0m\n"
      ]
     },
     "metadata": {},
     "output_type": "display_data"
    },
    {
     "data": {
      "text/html": [
       "<pre style=\"white-space:pre;overflow-x:auto;line-height:normal;font-family:Menlo,'DejaVu Sans Mono',consolas,'Courier New',monospace\"><span style=\"color: #7fbfbf; text-decoration-color: #7fbfbf\">[20:32:33] </span>남은시간 = <span style=\"color: #800000; text-decoration-color: #800000; font-weight: bold\">84448초</span>                             <span style=\"color: #7f7f7f; text-decoration-color: #7f7f7f\">&lt;ipython-input-15-8bb000f4e062&gt;:123</span>\n",
       "</pre>\n"
      ],
      "text/plain": [
       "\u001b[2;36m[20:32:33]\u001b[0m\u001b[2;36m \u001b[0m남은시간 = \u001b[1;31m84448초\u001b[0m                             \u001b[2m<ipython-input-15-8bb000f4e062>\u001b[0m\u001b[2m:123\u001b[0m\n"
      ]
     },
     "metadata": {},
     "output_type": "display_data"
    },
    {
     "data": {
      "text/html": [
       "<pre style=\"white-space:pre;overflow-x:auto;line-height:normal;font-family:Menlo,'DejaVu Sans Mono',consolas,'Courier New',monospace\"><span style=\"color: #7fbfbf; text-decoration-color: #7fbfbf\">           </span>남은시간 = <span style=\"color: #800000; text-decoration-color: #800000; font-weight: bold\">84447초</span>                             <span style=\"color: #7f7f7f; text-decoration-color: #7f7f7f\">&lt;ipython-input-15-8bb000f4e062&gt;:123</span>\n",
       "</pre>\n"
      ],
      "text/plain": [
       "\u001b[2;36m          \u001b[0m\u001b[2;36m \u001b[0m남은시간 = \u001b[1;31m84447초\u001b[0m                             \u001b[2m<ipython-input-15-8bb000f4e062>\u001b[0m\u001b[2m:123\u001b[0m\n"
      ]
     },
     "metadata": {},
     "output_type": "display_data"
    },
    {
     "data": {
      "text/html": [
       "<pre style=\"white-space:pre;overflow-x:auto;line-height:normal;font-family:Menlo,'DejaVu Sans Mono',consolas,'Courier New',monospace\"><span style=\"color: #7fbfbf; text-decoration-color: #7fbfbf\">[20:32:34] </span>남은시간 = <span style=\"color: #800000; text-decoration-color: #800000; font-weight: bold\">84447초</span>                             <span style=\"color: #7f7f7f; text-decoration-color: #7f7f7f\">&lt;ipython-input-15-8bb000f4e062&gt;:123</span>\n",
       "</pre>\n"
      ],
      "text/plain": [
       "\u001b[2;36m[20:32:34]\u001b[0m\u001b[2;36m \u001b[0m남은시간 = \u001b[1;31m84447초\u001b[0m                             \u001b[2m<ipython-input-15-8bb000f4e062>\u001b[0m\u001b[2m:123\u001b[0m\n"
      ]
     },
     "metadata": {},
     "output_type": "display_data"
    },
    {
     "data": {
      "text/html": [
       "<pre style=\"white-space:pre;overflow-x:auto;line-height:normal;font-family:Menlo,'DejaVu Sans Mono',consolas,'Courier New',monospace\"><span style=\"color: #7fbfbf; text-decoration-color: #7fbfbf\">           </span>남은시간 = <span style=\"color: #800000; text-decoration-color: #800000; font-weight: bold\">84446초</span>                             <span style=\"color: #7f7f7f; text-decoration-color: #7f7f7f\">&lt;ipython-input-15-8bb000f4e062&gt;:123</span>\n",
       "</pre>\n"
      ],
      "text/plain": [
       "\u001b[2;36m          \u001b[0m\u001b[2;36m \u001b[0m남은시간 = \u001b[1;31m84446초\u001b[0m                             \u001b[2m<ipython-input-15-8bb000f4e062>\u001b[0m\u001b[2m:123\u001b[0m\n"
      ]
     },
     "metadata": {},
     "output_type": "display_data"
    },
    {
     "data": {
      "text/html": [
       "<pre style=\"white-space:pre;overflow-x:auto;line-height:normal;font-family:Menlo,'DejaVu Sans Mono',consolas,'Courier New',monospace\"><span style=\"color: #7fbfbf; text-decoration-color: #7fbfbf\">[20:32:35] </span>남은시간 = <span style=\"color: #800000; text-decoration-color: #800000; font-weight: bold\">84445초</span>                             <span style=\"color: #7f7f7f; text-decoration-color: #7f7f7f\">&lt;ipython-input-15-8bb000f4e062&gt;:123</span>\n",
       "</pre>\n"
      ],
      "text/plain": [
       "\u001b[2;36m[20:32:35]\u001b[0m\u001b[2;36m \u001b[0m남은시간 = \u001b[1;31m84445초\u001b[0m                             \u001b[2m<ipython-input-15-8bb000f4e062>\u001b[0m\u001b[2m:123\u001b[0m\n"
      ]
     },
     "metadata": {},
     "output_type": "display_data"
    },
    {
     "data": {
      "text/html": [
       "<pre style=\"white-space:pre;overflow-x:auto;line-height:normal;font-family:Menlo,'DejaVu Sans Mono',consolas,'Courier New',monospace\"><span style=\"color: #7fbfbf; text-decoration-color: #7fbfbf\">           </span>남은시간 = <span style=\"color: #800000; text-decoration-color: #800000; font-weight: bold\">84445초</span>                             <span style=\"color: #7f7f7f; text-decoration-color: #7f7f7f\">&lt;ipython-input-15-8bb000f4e062&gt;:123</span>\n",
       "</pre>\n"
      ],
      "text/plain": [
       "\u001b[2;36m          \u001b[0m\u001b[2;36m \u001b[0m남은시간 = \u001b[1;31m84445초\u001b[0m                             \u001b[2m<ipython-input-15-8bb000f4e062>\u001b[0m\u001b[2m:123\u001b[0m\n"
      ]
     },
     "metadata": {},
     "output_type": "display_data"
    },
    {
     "data": {
      "text/html": [
       "<pre style=\"white-space:pre;overflow-x:auto;line-height:normal;font-family:Menlo,'DejaVu Sans Mono',consolas,'Courier New',monospace\"><span style=\"color: #7fbfbf; text-decoration-color: #7fbfbf\">[20:32:36] </span>남은시간 = <span style=\"color: #800000; text-decoration-color: #800000; font-weight: bold\">84444초</span>                             <span style=\"color: #7f7f7f; text-decoration-color: #7f7f7f\">&lt;ipython-input-15-8bb000f4e062&gt;:123</span>\n",
       "</pre>\n"
      ],
      "text/plain": [
       "\u001b[2;36m[20:32:36]\u001b[0m\u001b[2;36m \u001b[0m남은시간 = \u001b[1;31m84444초\u001b[0m                             \u001b[2m<ipython-input-15-8bb000f4e062>\u001b[0m\u001b[2m:123\u001b[0m\n"
      ]
     },
     "metadata": {},
     "output_type": "display_data"
    },
    {
     "data": {
      "text/html": [
       "<pre style=\"white-space:pre;overflow-x:auto;line-height:normal;font-family:Menlo,'DejaVu Sans Mono',consolas,'Courier New',monospace\"><span style=\"color: #7fbfbf; text-decoration-color: #7fbfbf\">[20:32:37] </span>남은시간 = <span style=\"color: #800000; text-decoration-color: #800000; font-weight: bold\">84444초</span>                             <span style=\"color: #7f7f7f; text-decoration-color: #7f7f7f\">&lt;ipython-input-15-8bb000f4e062&gt;:123</span>\n",
       "</pre>\n"
      ],
      "text/plain": [
       "\u001b[2;36m[20:32:37]\u001b[0m\u001b[2;36m \u001b[0m남은시간 = \u001b[1;31m84444초\u001b[0m                             \u001b[2m<ipython-input-15-8bb000f4e062>\u001b[0m\u001b[2m:123\u001b[0m\n"
      ]
     },
     "metadata": {},
     "output_type": "display_data"
    },
    {
     "data": {
      "text/html": [
       "<pre style=\"white-space:pre;overflow-x:auto;line-height:normal;font-family:Menlo,'DejaVu Sans Mono',consolas,'Courier New',monospace\"><span style=\"color: #7fbfbf; text-decoration-color: #7fbfbf\">           </span>남은시간 = <span style=\"color: #800000; text-decoration-color: #800000; font-weight: bold\">84443초</span>                             <span style=\"color: #7f7f7f; text-decoration-color: #7f7f7f\">&lt;ipython-input-15-8bb000f4e062&gt;:123</span>\n",
       "</pre>\n"
      ],
      "text/plain": [
       "\u001b[2;36m          \u001b[0m\u001b[2;36m \u001b[0m남은시간 = \u001b[1;31m84443초\u001b[0m                             \u001b[2m<ipython-input-15-8bb000f4e062>\u001b[0m\u001b[2m:123\u001b[0m\n"
      ]
     },
     "metadata": {},
     "output_type": "display_data"
    },
    {
     "data": {
      "text/html": [
       "<pre style=\"white-space:pre;overflow-x:auto;line-height:normal;font-family:Menlo,'DejaVu Sans Mono',consolas,'Courier New',monospace\"><span style=\"color: #7fbfbf; text-decoration-color: #7fbfbf\">[20:32:38] </span>남은시간 = <span style=\"color: #800000; text-decoration-color: #800000; font-weight: bold\">84443초</span>                             <span style=\"color: #7f7f7f; text-decoration-color: #7f7f7f\">&lt;ipython-input-15-8bb000f4e062&gt;:123</span>\n",
       "</pre>\n"
      ],
      "text/plain": [
       "\u001b[2;36m[20:32:38]\u001b[0m\u001b[2;36m \u001b[0m남은시간 = \u001b[1;31m84443초\u001b[0m                             \u001b[2m<ipython-input-15-8bb000f4e062>\u001b[0m\u001b[2m:123\u001b[0m\n"
      ]
     },
     "metadata": {},
     "output_type": "display_data"
    },
    {
     "data": {
      "text/html": [
       "<pre style=\"white-space:pre;overflow-x:auto;line-height:normal;font-family:Menlo,'DejaVu Sans Mono',consolas,'Courier New',monospace\"><span style=\"color: #7fbfbf; text-decoration-color: #7fbfbf\">           </span>남은시간 = <span style=\"color: #800000; text-decoration-color: #800000; font-weight: bold\">84442초</span>                             <span style=\"color: #7f7f7f; text-decoration-color: #7f7f7f\">&lt;ipython-input-15-8bb000f4e062&gt;:123</span>\n",
       "</pre>\n"
      ],
      "text/plain": [
       "\u001b[2;36m          \u001b[0m\u001b[2;36m \u001b[0m남은시간 = \u001b[1;31m84442초\u001b[0m                             \u001b[2m<ipython-input-15-8bb000f4e062>\u001b[0m\u001b[2m:123\u001b[0m\n"
      ]
     },
     "metadata": {},
     "output_type": "display_data"
    },
    {
     "data": {
      "text/html": [
       "<pre style=\"white-space:pre;overflow-x:auto;line-height:normal;font-family:Menlo,'DejaVu Sans Mono',consolas,'Courier New',monospace\"><span style=\"color: #7fbfbf; text-decoration-color: #7fbfbf\">           </span>남은시간 = <span style=\"color: #800000; text-decoration-color: #800000; font-weight: bold\">84441초</span>                             <span style=\"color: #7f7f7f; text-decoration-color: #7f7f7f\">&lt;ipython-input-15-8bb000f4e062&gt;:123</span>\n",
       "</pre>\n"
      ],
      "text/plain": [
       "\u001b[2;36m          \u001b[0m\u001b[2;36m \u001b[0m남은시간 = \u001b[1;31m84441초\u001b[0m                             \u001b[2m<ipython-input-15-8bb000f4e062>\u001b[0m\u001b[2m:123\u001b[0m\n"
      ]
     },
     "metadata": {},
     "output_type": "display_data"
    },
    {
     "data": {
      "text/html": [
       "<pre style=\"white-space:pre;overflow-x:auto;line-height:normal;font-family:Menlo,'DejaVu Sans Mono',consolas,'Courier New',monospace\"><span style=\"color: #7fbfbf; text-decoration-color: #7fbfbf\">[20:32:40] </span>남은시간 = <span style=\"color: #800000; text-decoration-color: #800000; font-weight: bold\">84440초</span>                             <span style=\"color: #7f7f7f; text-decoration-color: #7f7f7f\">&lt;ipython-input-15-8bb000f4e062&gt;:123</span>\n",
       "</pre>\n"
      ],
      "text/plain": [
       "\u001b[2;36m[20:32:40]\u001b[0m\u001b[2;36m \u001b[0m남은시간 = \u001b[1;31m84440초\u001b[0m                             \u001b[2m<ipython-input-15-8bb000f4e062>\u001b[0m\u001b[2m:123\u001b[0m\n"
      ]
     },
     "metadata": {},
     "output_type": "display_data"
    },
    {
     "data": {
      "text/html": [
       "<pre style=\"white-space:pre;overflow-x:auto;line-height:normal;font-family:Menlo,'DejaVu Sans Mono',consolas,'Courier New',monospace\"><span style=\"color: #7fbfbf; text-decoration-color: #7fbfbf\">[20:32:41] </span>남은시간 = <span style=\"color: #800000; text-decoration-color: #800000; font-weight: bold\">84440초</span>                             <span style=\"color: #7f7f7f; text-decoration-color: #7f7f7f\">&lt;ipython-input-15-8bb000f4e062&gt;:123</span>\n",
       "</pre>\n"
      ],
      "text/plain": [
       "\u001b[2;36m[20:32:41]\u001b[0m\u001b[2;36m \u001b[0m남은시간 = \u001b[1;31m84440초\u001b[0m                             \u001b[2m<ipython-input-15-8bb000f4e062>\u001b[0m\u001b[2m:123\u001b[0m\n"
      ]
     },
     "metadata": {},
     "output_type": "display_data"
    },
    {
     "data": {
      "text/html": [
       "<pre style=\"white-space:pre;overflow-x:auto;line-height:normal;font-family:Menlo,'DejaVu Sans Mono',consolas,'Courier New',monospace\"><span style=\"color: #7fbfbf; text-decoration-color: #7fbfbf\">           </span>남은시간 = <span style=\"color: #800000; text-decoration-color: #800000; font-weight: bold\">84439초</span>                             <span style=\"color: #7f7f7f; text-decoration-color: #7f7f7f\">&lt;ipython-input-15-8bb000f4e062&gt;:123</span>\n",
       "</pre>\n"
      ],
      "text/plain": [
       "\u001b[2;36m          \u001b[0m\u001b[2;36m \u001b[0m남은시간 = \u001b[1;31m84439초\u001b[0m                             \u001b[2m<ipython-input-15-8bb000f4e062>\u001b[0m\u001b[2m:123\u001b[0m\n"
      ]
     },
     "metadata": {},
     "output_type": "display_data"
    },
    {
     "data": {
      "text/html": [
       "<pre style=\"white-space:pre;overflow-x:auto;line-height:normal;font-family:Menlo,'DejaVu Sans Mono',consolas,'Courier New',monospace\"><span style=\"color: #7fbfbf; text-decoration-color: #7fbfbf\">[20:32:42] </span>남은시간 = <span style=\"color: #800000; text-decoration-color: #800000; font-weight: bold\">84439초</span>                             <span style=\"color: #7f7f7f; text-decoration-color: #7f7f7f\">&lt;ipython-input-15-8bb000f4e062&gt;:123</span>\n",
       "</pre>\n"
      ],
      "text/plain": [
       "\u001b[2;36m[20:32:42]\u001b[0m\u001b[2;36m \u001b[0m남은시간 = \u001b[1;31m84439초\u001b[0m                             \u001b[2m<ipython-input-15-8bb000f4e062>\u001b[0m\u001b[2m:123\u001b[0m\n"
      ]
     },
     "metadata": {},
     "output_type": "display_data"
    },
    {
     "data": {
      "text/html": [
       "<pre style=\"white-space:pre;overflow-x:auto;line-height:normal;font-family:Menlo,'DejaVu Sans Mono',consolas,'Courier New',monospace\"><span style=\"color: #7fbfbf; text-decoration-color: #7fbfbf\">           </span>남은시간 = <span style=\"color: #800000; text-decoration-color: #800000; font-weight: bold\">84438초</span>                             <span style=\"color: #7f7f7f; text-decoration-color: #7f7f7f\">&lt;ipython-input-15-8bb000f4e062&gt;:123</span>\n",
       "</pre>\n"
      ],
      "text/plain": [
       "\u001b[2;36m          \u001b[0m\u001b[2;36m \u001b[0m남은시간 = \u001b[1;31m84438초\u001b[0m                             \u001b[2m<ipython-input-15-8bb000f4e062>\u001b[0m\u001b[2m:123\u001b[0m\n"
      ]
     },
     "metadata": {},
     "output_type": "display_data"
    },
    {
     "data": {
      "text/html": [
       "<pre style=\"white-space:pre;overflow-x:auto;line-height:normal;font-family:Menlo,'DejaVu Sans Mono',consolas,'Courier New',monospace\"><span style=\"color: #7fbfbf; text-decoration-color: #7fbfbf\">[20:32:43] </span>남은시간 = <span style=\"color: #800000; text-decoration-color: #800000; font-weight: bold\">84437초</span>                             <span style=\"color: #7f7f7f; text-decoration-color: #7f7f7f\">&lt;ipython-input-15-8bb000f4e062&gt;:123</span>\n",
       "</pre>\n"
      ],
      "text/plain": [
       "\u001b[2;36m[20:32:43]\u001b[0m\u001b[2;36m \u001b[0m남은시간 = \u001b[1;31m84437초\u001b[0m                             \u001b[2m<ipython-input-15-8bb000f4e062>\u001b[0m\u001b[2m:123\u001b[0m\n"
      ]
     },
     "metadata": {},
     "output_type": "display_data"
    },
    {
     "data": {
      "text/html": [
       "<pre style=\"white-space:pre;overflow-x:auto;line-height:normal;font-family:Menlo,'DejaVu Sans Mono',consolas,'Courier New',monospace\"><span style=\"color: #7fbfbf; text-decoration-color: #7fbfbf\">           </span>남은시간 = <span style=\"color: #800000; text-decoration-color: #800000; font-weight: bold\">84437초</span>                             <span style=\"color: #7f7f7f; text-decoration-color: #7f7f7f\">&lt;ipython-input-15-8bb000f4e062&gt;:123</span>\n",
       "</pre>\n"
      ],
      "text/plain": [
       "\u001b[2;36m          \u001b[0m\u001b[2;36m \u001b[0m남은시간 = \u001b[1;31m84437초\u001b[0m                             \u001b[2m<ipython-input-15-8bb000f4e062>\u001b[0m\u001b[2m:123\u001b[0m\n"
      ]
     },
     "metadata": {},
     "output_type": "display_data"
    },
    {
     "data": {
      "text/html": [
       "<pre style=\"white-space:pre;overflow-x:auto;line-height:normal;font-family:Menlo,'DejaVu Sans Mono',consolas,'Courier New',monospace\"><span style=\"color: #7fbfbf; text-decoration-color: #7fbfbf\">[20:32:44] </span>남은시간 = <span style=\"color: #800000; text-decoration-color: #800000; font-weight: bold\">84436초</span>                             <span style=\"color: #7f7f7f; text-decoration-color: #7f7f7f\">&lt;ipython-input-15-8bb000f4e062&gt;:123</span>\n",
       "</pre>\n"
      ],
      "text/plain": [
       "\u001b[2;36m[20:32:44]\u001b[0m\u001b[2;36m \u001b[0m남은시간 = \u001b[1;31m84436초\u001b[0m                             \u001b[2m<ipython-input-15-8bb000f4e062>\u001b[0m\u001b[2m:123\u001b[0m\n"
      ]
     },
     "metadata": {},
     "output_type": "display_data"
    },
    {
     "data": {
      "text/html": [
       "<pre style=\"white-space:pre;overflow-x:auto;line-height:normal;font-family:Menlo,'DejaVu Sans Mono',consolas,'Courier New',monospace\"><span style=\"color: #7fbfbf; text-decoration-color: #7fbfbf\">[20:32:45] </span>남은시간 = <span style=\"color: #800000; text-decoration-color: #800000; font-weight: bold\">84436초</span>                             <span style=\"color: #7f7f7f; text-decoration-color: #7f7f7f\">&lt;ipython-input-15-8bb000f4e062&gt;:123</span>\n",
       "</pre>\n"
      ],
      "text/plain": [
       "\u001b[2;36m[20:32:45]\u001b[0m\u001b[2;36m \u001b[0m남은시간 = \u001b[1;31m84436초\u001b[0m                             \u001b[2m<ipython-input-15-8bb000f4e062>\u001b[0m\u001b[2m:123\u001b[0m\n"
      ]
     },
     "metadata": {},
     "output_type": "display_data"
    },
    {
     "data": {
      "text/html": [
       "<pre style=\"white-space:pre;overflow-x:auto;line-height:normal;font-family:Menlo,'DejaVu Sans Mono',consolas,'Courier New',monospace\"><span style=\"color: #7fbfbf; text-decoration-color: #7fbfbf\">           </span>남은시간 = <span style=\"color: #800000; text-decoration-color: #800000; font-weight: bold\">84435초</span>                             <span style=\"color: #7f7f7f; text-decoration-color: #7f7f7f\">&lt;ipython-input-15-8bb000f4e062&gt;:123</span>\n",
       "</pre>\n"
      ],
      "text/plain": [
       "\u001b[2;36m          \u001b[0m\u001b[2;36m \u001b[0m남은시간 = \u001b[1;31m84435초\u001b[0m                             \u001b[2m<ipython-input-15-8bb000f4e062>\u001b[0m\u001b[2m:123\u001b[0m\n"
      ]
     },
     "metadata": {},
     "output_type": "display_data"
    },
    {
     "data": {
      "text/html": [
       "<pre style=\"white-space:pre;overflow-x:auto;line-height:normal;font-family:Menlo,'DejaVu Sans Mono',consolas,'Courier New',monospace\"><span style=\"color: #7fbfbf; text-decoration-color: #7fbfbf\">[20:32:46] </span>남은시간 = <span style=\"color: #800000; text-decoration-color: #800000; font-weight: bold\">84435초</span>                             <span style=\"color: #7f7f7f; text-decoration-color: #7f7f7f\">&lt;ipython-input-15-8bb000f4e062&gt;:123</span>\n",
       "</pre>\n"
      ],
      "text/plain": [
       "\u001b[2;36m[20:32:46]\u001b[0m\u001b[2;36m \u001b[0m남은시간 = \u001b[1;31m84435초\u001b[0m                             \u001b[2m<ipython-input-15-8bb000f4e062>\u001b[0m\u001b[2m:123\u001b[0m\n"
      ]
     },
     "metadata": {},
     "output_type": "display_data"
    },
    {
     "data": {
      "text/html": [
       "<pre style=\"white-space:pre;overflow-x:auto;line-height:normal;font-family:Menlo,'DejaVu Sans Mono',consolas,'Courier New',monospace\"><span style=\"color: #7fbfbf; text-decoration-color: #7fbfbf\">           </span>남은시간 = <span style=\"color: #800000; text-decoration-color: #800000; font-weight: bold\">84434초</span>                             <span style=\"color: #7f7f7f; text-decoration-color: #7f7f7f\">&lt;ipython-input-15-8bb000f4e062&gt;:123</span>\n",
       "</pre>\n"
      ],
      "text/plain": [
       "\u001b[2;36m          \u001b[0m\u001b[2;36m \u001b[0m남은시간 = \u001b[1;31m84434초\u001b[0m                             \u001b[2m<ipython-input-15-8bb000f4e062>\u001b[0m\u001b[2m:123\u001b[0m\n"
      ]
     },
     "metadata": {},
     "output_type": "display_data"
    },
    {
     "data": {
      "text/html": [
       "<pre style=\"white-space:pre;overflow-x:auto;line-height:normal;font-family:Menlo,'DejaVu Sans Mono',consolas,'Courier New',monospace\"><span style=\"color: #7fbfbf; text-decoration-color: #7fbfbf\">[20:32:47] </span>남은시간 = <span style=\"color: #800000; text-decoration-color: #800000; font-weight: bold\">84433초</span>                             <span style=\"color: #7f7f7f; text-decoration-color: #7f7f7f\">&lt;ipython-input-15-8bb000f4e062&gt;:123</span>\n",
       "</pre>\n"
      ],
      "text/plain": [
       "\u001b[2;36m[20:32:47]\u001b[0m\u001b[2;36m \u001b[0m남은시간 = \u001b[1;31m84433초\u001b[0m                             \u001b[2m<ipython-input-15-8bb000f4e062>\u001b[0m\u001b[2m:123\u001b[0m\n"
      ]
     },
     "metadata": {},
     "output_type": "display_data"
    },
    {
     "data": {
      "text/html": [
       "<pre style=\"white-space:pre;overflow-x:auto;line-height:normal;font-family:Menlo,'DejaVu Sans Mono',consolas,'Courier New',monospace\"><span style=\"color: #7fbfbf; text-decoration-color: #7fbfbf\">           </span>남은시간 = <span style=\"color: #800000; text-decoration-color: #800000; font-weight: bold\">84433초</span>                             <span style=\"color: #7f7f7f; text-decoration-color: #7f7f7f\">&lt;ipython-input-15-8bb000f4e062&gt;:123</span>\n",
       "</pre>\n"
      ],
      "text/plain": [
       "\u001b[2;36m          \u001b[0m\u001b[2;36m \u001b[0m남은시간 = \u001b[1;31m84433초\u001b[0m                             \u001b[2m<ipython-input-15-8bb000f4e062>\u001b[0m\u001b[2m:123\u001b[0m\n"
      ]
     },
     "metadata": {},
     "output_type": "display_data"
    },
    {
     "data": {
      "text/html": [
       "<pre style=\"white-space:pre;overflow-x:auto;line-height:normal;font-family:Menlo,'DejaVu Sans Mono',consolas,'Courier New',monospace\"><span style=\"color: #7fbfbf; text-decoration-color: #7fbfbf\">[20:32:48] </span>남은시간 = <span style=\"color: #800000; text-decoration-color: #800000; font-weight: bold\">84432초</span>                             <span style=\"color: #7f7f7f; text-decoration-color: #7f7f7f\">&lt;ipython-input-15-8bb000f4e062&gt;:123</span>\n",
       "</pre>\n"
      ],
      "text/plain": [
       "\u001b[2;36m[20:32:48]\u001b[0m\u001b[2;36m \u001b[0m남은시간 = \u001b[1;31m84432초\u001b[0m                             \u001b[2m<ipython-input-15-8bb000f4e062>\u001b[0m\u001b[2m:123\u001b[0m\n"
      ]
     },
     "metadata": {},
     "output_type": "display_data"
    },
    {
     "data": {
      "text/html": [
       "<pre style=\"white-space:pre;overflow-x:auto;line-height:normal;font-family:Menlo,'DejaVu Sans Mono',consolas,'Courier New',monospace\"><span style=\"color: #7fbfbf; text-decoration-color: #7fbfbf\">           </span>남은시간 = <span style=\"color: #800000; text-decoration-color: #800000; font-weight: bold\">84432초</span>                             <span style=\"color: #7f7f7f; text-decoration-color: #7f7f7f\">&lt;ipython-input-15-8bb000f4e062&gt;:123</span>\n",
       "</pre>\n"
      ],
      "text/plain": [
       "\u001b[2;36m          \u001b[0m\u001b[2;36m \u001b[0m남은시간 = \u001b[1;31m84432초\u001b[0m                             \u001b[2m<ipython-input-15-8bb000f4e062>\u001b[0m\u001b[2m:123\u001b[0m\n"
      ]
     },
     "metadata": {},
     "output_type": "display_data"
    },
    {
     "data": {
      "text/html": [
       "<pre style=\"white-space:pre;overflow-x:auto;line-height:normal;font-family:Menlo,'DejaVu Sans Mono',consolas,'Courier New',monospace\"><span style=\"color: #7fbfbf; text-decoration-color: #7fbfbf\">[20:32:49] </span>남은시간 = <span style=\"color: #800000; text-decoration-color: #800000; font-weight: bold\">84431초</span>                             <span style=\"color: #7f7f7f; text-decoration-color: #7f7f7f\">&lt;ipython-input-15-8bb000f4e062&gt;:123</span>\n",
       "</pre>\n"
      ],
      "text/plain": [
       "\u001b[2;36m[20:32:49]\u001b[0m\u001b[2;36m \u001b[0m남은시간 = \u001b[1;31m84431초\u001b[0m                             \u001b[2m<ipython-input-15-8bb000f4e062>\u001b[0m\u001b[2m:123\u001b[0m\n"
      ]
     },
     "metadata": {},
     "output_type": "display_data"
    },
    {
     "data": {
      "text/html": [
       "<pre style=\"white-space:pre;overflow-x:auto;line-height:normal;font-family:Menlo,'DejaVu Sans Mono',consolas,'Courier New',monospace\"><span style=\"color: #7fbfbf; text-decoration-color: #7fbfbf\">[20:32:50] </span>남은시간 = <span style=\"color: #800000; text-decoration-color: #800000; font-weight: bold\">84431초</span>                             <span style=\"color: #7f7f7f; text-decoration-color: #7f7f7f\">&lt;ipython-input-15-8bb000f4e062&gt;:123</span>\n",
       "</pre>\n"
      ],
      "text/plain": [
       "\u001b[2;36m[20:32:50]\u001b[0m\u001b[2;36m \u001b[0m남은시간 = \u001b[1;31m84431초\u001b[0m                             \u001b[2m<ipython-input-15-8bb000f4e062>\u001b[0m\u001b[2m:123\u001b[0m\n"
      ]
     },
     "metadata": {},
     "output_type": "display_data"
    },
    {
     "data": {
      "text/html": [
       "<pre style=\"white-space:pre;overflow-x:auto;line-height:normal;font-family:Menlo,'DejaVu Sans Mono',consolas,'Courier New',monospace\"><span style=\"color: #7fbfbf; text-decoration-color: #7fbfbf\">           </span>남은시간 = <span style=\"color: #800000; text-decoration-color: #800000; font-weight: bold\">84430초</span>                             <span style=\"color: #7f7f7f; text-decoration-color: #7f7f7f\">&lt;ipython-input-15-8bb000f4e062&gt;:123</span>\n",
       "</pre>\n"
      ],
      "text/plain": [
       "\u001b[2;36m          \u001b[0m\u001b[2;36m \u001b[0m남은시간 = \u001b[1;31m84430초\u001b[0m                             \u001b[2m<ipython-input-15-8bb000f4e062>\u001b[0m\u001b[2m:123\u001b[0m\n"
      ]
     },
     "metadata": {},
     "output_type": "display_data"
    },
    {
     "data": {
      "text/html": [
       "<pre style=\"white-space:pre;overflow-x:auto;line-height:normal;font-family:Menlo,'DejaVu Sans Mono',consolas,'Courier New',monospace\"><span style=\"color: #7fbfbf; text-decoration-color: #7fbfbf\">[20:32:51] </span>남은시간 = <span style=\"color: #800000; text-decoration-color: #800000; font-weight: bold\">84429초</span>                             <span style=\"color: #7f7f7f; text-decoration-color: #7f7f7f\">&lt;ipython-input-15-8bb000f4e062&gt;:123</span>\n",
       "</pre>\n"
      ],
      "text/plain": [
       "\u001b[2;36m[20:32:51]\u001b[0m\u001b[2;36m \u001b[0m남은시간 = \u001b[1;31m84429초\u001b[0m                             \u001b[2m<ipython-input-15-8bb000f4e062>\u001b[0m\u001b[2m:123\u001b[0m\n"
      ]
     },
     "metadata": {},
     "output_type": "display_data"
    },
    {
     "data": {
      "text/html": [
       "<pre style=\"white-space:pre;overflow-x:auto;line-height:normal;font-family:Menlo,'DejaVu Sans Mono',consolas,'Courier New',monospace\"><span style=\"color: #7fbfbf; text-decoration-color: #7fbfbf\">           </span>남은시간 = <span style=\"color: #800000; text-decoration-color: #800000; font-weight: bold\">84429초</span>                             <span style=\"color: #7f7f7f; text-decoration-color: #7f7f7f\">&lt;ipython-input-15-8bb000f4e062&gt;:123</span>\n",
       "</pre>\n"
      ],
      "text/plain": [
       "\u001b[2;36m          \u001b[0m\u001b[2;36m \u001b[0m남은시간 = \u001b[1;31m84429초\u001b[0m                             \u001b[2m<ipython-input-15-8bb000f4e062>\u001b[0m\u001b[2m:123\u001b[0m\n"
      ]
     },
     "metadata": {},
     "output_type": "display_data"
    },
    {
     "data": {
      "text/html": [
       "<pre style=\"white-space:pre;overflow-x:auto;line-height:normal;font-family:Menlo,'DejaVu Sans Mono',consolas,'Courier New',monospace\"><span style=\"color: #7fbfbf; text-decoration-color: #7fbfbf\">[20:32:52] </span>남은시간 = <span style=\"color: #800000; text-decoration-color: #800000; font-weight: bold\">84428초</span>                             <span style=\"color: #7f7f7f; text-decoration-color: #7f7f7f\">&lt;ipython-input-15-8bb000f4e062&gt;:123</span>\n",
       "</pre>\n"
      ],
      "text/plain": [
       "\u001b[2;36m[20:32:52]\u001b[0m\u001b[2;36m \u001b[0m남은시간 = \u001b[1;31m84428초\u001b[0m                             \u001b[2m<ipython-input-15-8bb000f4e062>\u001b[0m\u001b[2m:123\u001b[0m\n"
      ]
     },
     "metadata": {},
     "output_type": "display_data"
    },
    {
     "data": {
      "text/html": [
       "<pre style=\"white-space:pre;overflow-x:auto;line-height:normal;font-family:Menlo,'DejaVu Sans Mono',consolas,'Courier New',monospace\"><span style=\"color: #7fbfbf; text-decoration-color: #7fbfbf\">           </span>남은시간 = <span style=\"color: #800000; text-decoration-color: #800000; font-weight: bold\">84428초</span>                             <span style=\"color: #7f7f7f; text-decoration-color: #7f7f7f\">&lt;ipython-input-15-8bb000f4e062&gt;:123</span>\n",
       "</pre>\n"
      ],
      "text/plain": [
       "\u001b[2;36m          \u001b[0m\u001b[2;36m \u001b[0m남은시간 = \u001b[1;31m84428초\u001b[0m                             \u001b[2m<ipython-input-15-8bb000f4e062>\u001b[0m\u001b[2m:123\u001b[0m\n"
      ]
     },
     "metadata": {},
     "output_type": "display_data"
    },
    {
     "data": {
      "text/html": [
       "<pre style=\"white-space:pre;overflow-x:auto;line-height:normal;font-family:Menlo,'DejaVu Sans Mono',consolas,'Courier New',monospace\"><span style=\"color: #7fbfbf; text-decoration-color: #7fbfbf\">[20:32:53] </span>남은시간 = <span style=\"color: #800000; text-decoration-color: #800000; font-weight: bold\">84427초</span>                             <span style=\"color: #7f7f7f; text-decoration-color: #7f7f7f\">&lt;ipython-input-15-8bb000f4e062&gt;:123</span>\n",
       "</pre>\n"
      ],
      "text/plain": [
       "\u001b[2;36m[20:32:53]\u001b[0m\u001b[2;36m \u001b[0m남은시간 = \u001b[1;31m84427초\u001b[0m                             \u001b[2m<ipython-input-15-8bb000f4e062>\u001b[0m\u001b[2m:123\u001b[0m\n"
      ]
     },
     "metadata": {},
     "output_type": "display_data"
    },
    {
     "data": {
      "text/html": [
       "<pre style=\"white-space:pre;overflow-x:auto;line-height:normal;font-family:Menlo,'DejaVu Sans Mono',consolas,'Courier New',monospace\"><span style=\"color: #7fbfbf; text-decoration-color: #7fbfbf\">[20:32:54] </span>남은시간 = <span style=\"color: #800000; text-decoration-color: #800000; font-weight: bold\">84427초</span>                             <span style=\"color: #7f7f7f; text-decoration-color: #7f7f7f\">&lt;ipython-input-15-8bb000f4e062&gt;:123</span>\n",
       "</pre>\n"
      ],
      "text/plain": [
       "\u001b[2;36m[20:32:54]\u001b[0m\u001b[2;36m \u001b[0m남은시간 = \u001b[1;31m84427초\u001b[0m                             \u001b[2m<ipython-input-15-8bb000f4e062>\u001b[0m\u001b[2m:123\u001b[0m\n"
      ]
     },
     "metadata": {},
     "output_type": "display_data"
    },
    {
     "data": {
      "text/html": [
       "<pre style=\"white-space:pre;overflow-x:auto;line-height:normal;font-family:Menlo,'DejaVu Sans Mono',consolas,'Courier New',monospace\"><span style=\"color: #7fbfbf; text-decoration-color: #7fbfbf\">           </span>남은시간 = <span style=\"color: #800000; text-decoration-color: #800000; font-weight: bold\">84426초</span>                             <span style=\"color: #7f7f7f; text-decoration-color: #7f7f7f\">&lt;ipython-input-15-8bb000f4e062&gt;:123</span>\n",
       "</pre>\n"
      ],
      "text/plain": [
       "\u001b[2;36m          \u001b[0m\u001b[2;36m \u001b[0m남은시간 = \u001b[1;31m84426초\u001b[0m                             \u001b[2m<ipython-input-15-8bb000f4e062>\u001b[0m\u001b[2m:123\u001b[0m\n"
      ]
     },
     "metadata": {},
     "output_type": "display_data"
    },
    {
     "data": {
      "text/html": [
       "<pre style=\"white-space:pre;overflow-x:auto;line-height:normal;font-family:Menlo,'DejaVu Sans Mono',consolas,'Courier New',monospace\"><span style=\"color: #7fbfbf; text-decoration-color: #7fbfbf\">           </span>남은시간 = <span style=\"color: #800000; text-decoration-color: #800000; font-weight: bold\">84425초</span>                             <span style=\"color: #7f7f7f; text-decoration-color: #7f7f7f\">&lt;ipython-input-15-8bb000f4e062&gt;:123</span>\n",
       "</pre>\n"
      ],
      "text/plain": [
       "\u001b[2;36m          \u001b[0m\u001b[2;36m \u001b[0m남은시간 = \u001b[1;31m84425초\u001b[0m                             \u001b[2m<ipython-input-15-8bb000f4e062>\u001b[0m\u001b[2m:123\u001b[0m\n"
      ]
     },
     "metadata": {},
     "output_type": "display_data"
    },
    {
     "data": {
      "text/html": [
       "<pre style=\"white-space:pre;overflow-x:auto;line-height:normal;font-family:Menlo,'DejaVu Sans Mono',consolas,'Courier New',monospace\"><span style=\"color: #7fbfbf; text-decoration-color: #7fbfbf\">[20:32:56] </span>남은시간 = <span style=\"color: #800000; text-decoration-color: #800000; font-weight: bold\">84424초</span>                             <span style=\"color: #7f7f7f; text-decoration-color: #7f7f7f\">&lt;ipython-input-15-8bb000f4e062&gt;:123</span>\n",
       "</pre>\n"
      ],
      "text/plain": [
       "\u001b[2;36m[20:32:56]\u001b[0m\u001b[2;36m \u001b[0m남은시간 = \u001b[1;31m84424초\u001b[0m                             \u001b[2m<ipython-input-15-8bb000f4e062>\u001b[0m\u001b[2m:123\u001b[0m\n"
      ]
     },
     "metadata": {},
     "output_type": "display_data"
    },
    {
     "data": {
      "text/html": [
       "<pre style=\"white-space:pre;overflow-x:auto;line-height:normal;font-family:Menlo,'DejaVu Sans Mono',consolas,'Courier New',monospace\"><span style=\"color: #7fbfbf; text-decoration-color: #7fbfbf\">           </span>남은시간 = <span style=\"color: #800000; text-decoration-color: #800000; font-weight: bold\">84424초</span>                             <span style=\"color: #7f7f7f; text-decoration-color: #7f7f7f\">&lt;ipython-input-15-8bb000f4e062&gt;:123</span>\n",
       "</pre>\n"
      ],
      "text/plain": [
       "\u001b[2;36m          \u001b[0m\u001b[2;36m \u001b[0m남은시간 = \u001b[1;31m84424초\u001b[0m                             \u001b[2m<ipython-input-15-8bb000f4e062>\u001b[0m\u001b[2m:123\u001b[0m\n"
      ]
     },
     "metadata": {},
     "output_type": "display_data"
    },
    {
     "data": {
      "text/html": [
       "<pre style=\"white-space:pre;overflow-x:auto;line-height:normal;font-family:Menlo,'DejaVu Sans Mono',consolas,'Courier New',monospace\"><span style=\"color: #7fbfbf; text-decoration-color: #7fbfbf\">[20:32:57] </span>남은시간 = <span style=\"color: #800000; text-decoration-color: #800000; font-weight: bold\">84423초</span>                             <span style=\"color: #7f7f7f; text-decoration-color: #7f7f7f\">&lt;ipython-input-15-8bb000f4e062&gt;:123</span>\n",
       "</pre>\n"
      ],
      "text/plain": [
       "\u001b[2;36m[20:32:57]\u001b[0m\u001b[2;36m \u001b[0m남은시간 = \u001b[1;31m84423초\u001b[0m                             \u001b[2m<ipython-input-15-8bb000f4e062>\u001b[0m\u001b[2m:123\u001b[0m\n"
      ]
     },
     "metadata": {},
     "output_type": "display_data"
    },
    {
     "data": {
      "text/html": [
       "<pre style=\"white-space:pre;overflow-x:auto;line-height:normal;font-family:Menlo,'DejaVu Sans Mono',consolas,'Courier New',monospace\"><span style=\"color: #7fbfbf; text-decoration-color: #7fbfbf\">[20:32:58] </span>남은시간 = <span style=\"color: #800000; text-decoration-color: #800000; font-weight: bold\">84423초</span>                             <span style=\"color: #7f7f7f; text-decoration-color: #7f7f7f\">&lt;ipython-input-15-8bb000f4e062&gt;:123</span>\n",
       "</pre>\n"
      ],
      "text/plain": [
       "\u001b[2;36m[20:32:58]\u001b[0m\u001b[2;36m \u001b[0m남은시간 = \u001b[1;31m84423초\u001b[0m                             \u001b[2m<ipython-input-15-8bb000f4e062>\u001b[0m\u001b[2m:123\u001b[0m\n"
      ]
     },
     "metadata": {},
     "output_type": "display_data"
    },
    {
     "data": {
      "text/html": [
       "<pre style=\"white-space:pre;overflow-x:auto;line-height:normal;font-family:Menlo,'DejaVu Sans Mono',consolas,'Courier New',monospace\"><span style=\"color: #7fbfbf; text-decoration-color: #7fbfbf\">           </span>남은시간 = <span style=\"color: #800000; text-decoration-color: #800000; font-weight: bold\">84422초</span>                             <span style=\"color: #7f7f7f; text-decoration-color: #7f7f7f\">&lt;ipython-input-15-8bb000f4e062&gt;:123</span>\n",
       "</pre>\n"
      ],
      "text/plain": [
       "\u001b[2;36m          \u001b[0m\u001b[2;36m \u001b[0m남은시간 = \u001b[1;31m84422초\u001b[0m                             \u001b[2m<ipython-input-15-8bb000f4e062>\u001b[0m\u001b[2m:123\u001b[0m\n"
      ]
     },
     "metadata": {},
     "output_type": "display_data"
    },
    {
     "data": {
      "text/html": [
       "<pre style=\"white-space:pre;overflow-x:auto;line-height:normal;font-family:Menlo,'DejaVu Sans Mono',consolas,'Courier New',monospace\"><span style=\"color: #7fbfbf; text-decoration-color: #7fbfbf\">[20:32:59] </span>남은시간 = <span style=\"color: #800000; text-decoration-color: #800000; font-weight: bold\">84421초</span>                             <span style=\"color: #7f7f7f; text-decoration-color: #7f7f7f\">&lt;ipython-input-15-8bb000f4e062&gt;:123</span>\n",
       "</pre>\n"
      ],
      "text/plain": [
       "\u001b[2;36m[20:32:59]\u001b[0m\u001b[2;36m \u001b[0m남은시간 = \u001b[1;31m84421초\u001b[0m                             \u001b[2m<ipython-input-15-8bb000f4e062>\u001b[0m\u001b[2m:123\u001b[0m\n"
      ]
     },
     "metadata": {},
     "output_type": "display_data"
    },
    {
     "data": {
      "text/html": [
       "<pre style=\"white-space:pre;overflow-x:auto;line-height:normal;font-family:Menlo,'DejaVu Sans Mono',consolas,'Courier New',monospace\"><span style=\"color: #7fbfbf; text-decoration-color: #7fbfbf\">           </span>남은시간 = <span style=\"color: #800000; text-decoration-color: #800000; font-weight: bold\">84421초</span>                             <span style=\"color: #7f7f7f; text-decoration-color: #7f7f7f\">&lt;ipython-input-15-8bb000f4e062&gt;:123</span>\n",
       "</pre>\n"
      ],
      "text/plain": [
       "\u001b[2;36m          \u001b[0m\u001b[2;36m \u001b[0m남은시간 = \u001b[1;31m84421초\u001b[0m                             \u001b[2m<ipython-input-15-8bb000f4e062>\u001b[0m\u001b[2m:123\u001b[0m\n"
      ]
     },
     "metadata": {},
     "output_type": "display_data"
    },
    {
     "data": {
      "text/html": [
       "<pre style=\"white-space:pre;overflow-x:auto;line-height:normal;font-family:Menlo,'DejaVu Sans Mono',consolas,'Courier New',monospace\"><span style=\"color: #7fbfbf; text-decoration-color: #7fbfbf\">[20:33:00] </span>남은시간 = <span style=\"color: #800000; text-decoration-color: #800000; font-weight: bold\">84420초</span>                             <span style=\"color: #7f7f7f; text-decoration-color: #7f7f7f\">&lt;ipython-input-15-8bb000f4e062&gt;:123</span>\n",
       "</pre>\n"
      ],
      "text/plain": [
       "\u001b[2;36m[20:33:00]\u001b[0m\u001b[2;36m \u001b[0m남은시간 = \u001b[1;31m84420초\u001b[0m                             \u001b[2m<ipython-input-15-8bb000f4e062>\u001b[0m\u001b[2m:123\u001b[0m\n"
      ]
     },
     "metadata": {},
     "output_type": "display_data"
    },
    {
     "data": {
      "text/html": [
       "<pre style=\"white-space:pre;overflow-x:auto;line-height:normal;font-family:Menlo,'DejaVu Sans Mono',consolas,'Courier New',monospace\"><span style=\"color: #7fbfbf; text-decoration-color: #7fbfbf\">           </span>남은시간 = <span style=\"color: #800000; text-decoration-color: #800000; font-weight: bold\">84420초</span>                             <span style=\"color: #7f7f7f; text-decoration-color: #7f7f7f\">&lt;ipython-input-15-8bb000f4e062&gt;:123</span>\n",
       "</pre>\n"
      ],
      "text/plain": [
       "\u001b[2;36m          \u001b[0m\u001b[2;36m \u001b[0m남은시간 = \u001b[1;31m84420초\u001b[0m                             \u001b[2m<ipython-input-15-8bb000f4e062>\u001b[0m\u001b[2m:123\u001b[0m\n"
      ]
     },
     "metadata": {},
     "output_type": "display_data"
    },
    {
     "data": {
      "text/html": [
       "<pre style=\"white-space:pre;overflow-x:auto;line-height:normal;font-family:Menlo,'DejaVu Sans Mono',consolas,'Courier New',monospace\"><span style=\"color: #7fbfbf; text-decoration-color: #7fbfbf\">[20:33:01] </span>남은시간 = <span style=\"color: #800000; text-decoration-color: #800000; font-weight: bold\">84419초</span>                             <span style=\"color: #7f7f7f; text-decoration-color: #7f7f7f\">&lt;ipython-input-15-8bb000f4e062&gt;:123</span>\n",
       "</pre>\n"
      ],
      "text/plain": [
       "\u001b[2;36m[20:33:01]\u001b[0m\u001b[2;36m \u001b[0m남은시간 = \u001b[1;31m84419초\u001b[0m                             \u001b[2m<ipython-input-15-8bb000f4e062>\u001b[0m\u001b[2m:123\u001b[0m\n"
      ]
     },
     "metadata": {},
     "output_type": "display_data"
    },
    {
     "data": {
      "text/html": [
       "<pre style=\"white-space:pre;overflow-x:auto;line-height:normal;font-family:Menlo,'DejaVu Sans Mono',consolas,'Courier New',monospace\"><span style=\"color: #7fbfbf; text-decoration-color: #7fbfbf\">[20:33:02] </span>남은시간 = <span style=\"color: #800000; text-decoration-color: #800000; font-weight: bold\">84419초</span>                             <span style=\"color: #7f7f7f; text-decoration-color: #7f7f7f\">&lt;ipython-input-15-8bb000f4e062&gt;:123</span>\n",
       "</pre>\n"
      ],
      "text/plain": [
       "\u001b[2;36m[20:33:02]\u001b[0m\u001b[2;36m \u001b[0m남은시간 = \u001b[1;31m84419초\u001b[0m                             \u001b[2m<ipython-input-15-8bb000f4e062>\u001b[0m\u001b[2m:123\u001b[0m\n"
      ]
     },
     "metadata": {},
     "output_type": "display_data"
    },
    {
     "data": {
      "text/html": [
       "<pre style=\"white-space:pre;overflow-x:auto;line-height:normal;font-family:Menlo,'DejaVu Sans Mono',consolas,'Courier New',monospace\"><span style=\"color: #7fbfbf; text-decoration-color: #7fbfbf\">           </span>남은시간 = <span style=\"color: #800000; text-decoration-color: #800000; font-weight: bold\">84418초</span>                             <span style=\"color: #7f7f7f; text-decoration-color: #7f7f7f\">&lt;ipython-input-15-8bb000f4e062&gt;:123</span>\n",
       "</pre>\n"
      ],
      "text/plain": [
       "\u001b[2;36m          \u001b[0m\u001b[2;36m \u001b[0m남은시간 = \u001b[1;31m84418초\u001b[0m                             \u001b[2m<ipython-input-15-8bb000f4e062>\u001b[0m\u001b[2m:123\u001b[0m\n"
      ]
     },
     "metadata": {},
     "output_type": "display_data"
    },
    {
     "data": {
      "text/html": [
       "<pre style=\"white-space:pre;overflow-x:auto;line-height:normal;font-family:Menlo,'DejaVu Sans Mono',consolas,'Courier New',monospace\"><span style=\"color: #7fbfbf; text-decoration-color: #7fbfbf\">[20:33:03] </span>남은시간 = <span style=\"color: #800000; text-decoration-color: #800000; font-weight: bold\">84417초</span>                             <span style=\"color: #7f7f7f; text-decoration-color: #7f7f7f\">&lt;ipython-input-15-8bb000f4e062&gt;:123</span>\n",
       "</pre>\n"
      ],
      "text/plain": [
       "\u001b[2;36m[20:33:03]\u001b[0m\u001b[2;36m \u001b[0m남은시간 = \u001b[1;31m84417초\u001b[0m                             \u001b[2m<ipython-input-15-8bb000f4e062>\u001b[0m\u001b[2m:123\u001b[0m\n"
      ]
     },
     "metadata": {},
     "output_type": "display_data"
    },
    {
     "data": {
      "text/html": [
       "<pre style=\"white-space:pre;overflow-x:auto;line-height:normal;font-family:Menlo,'DejaVu Sans Mono',consolas,'Courier New',monospace\"><span style=\"color: #7fbfbf; text-decoration-color: #7fbfbf\">           </span>남은시간 = <span style=\"color: #800000; text-decoration-color: #800000; font-weight: bold\">84417초</span>                             <span style=\"color: #7f7f7f; text-decoration-color: #7f7f7f\">&lt;ipython-input-15-8bb000f4e062&gt;:123</span>\n",
       "</pre>\n"
      ],
      "text/plain": [
       "\u001b[2;36m          \u001b[0m\u001b[2;36m \u001b[0m남은시간 = \u001b[1;31m84417초\u001b[0m                             \u001b[2m<ipython-input-15-8bb000f4e062>\u001b[0m\u001b[2m:123\u001b[0m\n"
      ]
     },
     "metadata": {},
     "output_type": "display_data"
    },
    {
     "data": {
      "text/html": [
       "<pre style=\"white-space:pre;overflow-x:auto;line-height:normal;font-family:Menlo,'DejaVu Sans Mono',consolas,'Courier New',monospace\"><span style=\"color: #7fbfbf; text-decoration-color: #7fbfbf\">[20:33:04] </span>남은시간 = <span style=\"color: #800000; text-decoration-color: #800000; font-weight: bold\">84416초</span>                             <span style=\"color: #7f7f7f; text-decoration-color: #7f7f7f\">&lt;ipython-input-15-8bb000f4e062&gt;:123</span>\n",
       "</pre>\n"
      ],
      "text/plain": [
       "\u001b[2;36m[20:33:04]\u001b[0m\u001b[2;36m \u001b[0m남은시간 = \u001b[1;31m84416초\u001b[0m                             \u001b[2m<ipython-input-15-8bb000f4e062>\u001b[0m\u001b[2m:123\u001b[0m\n"
      ]
     },
     "metadata": {},
     "output_type": "display_data"
    },
    {
     "data": {
      "text/html": [
       "<pre style=\"white-space:pre;overflow-x:auto;line-height:normal;font-family:Menlo,'DejaVu Sans Mono',consolas,'Courier New',monospace\"><span style=\"color: #7fbfbf; text-decoration-color: #7fbfbf\">           </span>남은시간 = <span style=\"color: #800000; text-decoration-color: #800000; font-weight: bold\">84416초</span>                             <span style=\"color: #7f7f7f; text-decoration-color: #7f7f7f\">&lt;ipython-input-15-8bb000f4e062&gt;:123</span>\n",
       "</pre>\n"
      ],
      "text/plain": [
       "\u001b[2;36m          \u001b[0m\u001b[2;36m \u001b[0m남은시간 = \u001b[1;31m84416초\u001b[0m                             \u001b[2m<ipython-input-15-8bb000f4e062>\u001b[0m\u001b[2m:123\u001b[0m\n"
      ]
     },
     "metadata": {},
     "output_type": "display_data"
    },
    {
     "data": {
      "text/html": [
       "<pre style=\"white-space:pre;overflow-x:auto;line-height:normal;font-family:Menlo,'DejaVu Sans Mono',consolas,'Courier New',monospace\"><span style=\"color: #7fbfbf; text-decoration-color: #7fbfbf\">[20:33:06] </span>남은시간 = <span style=\"color: #800000; text-decoration-color: #800000; font-weight: bold\">84415초</span>                             <span style=\"color: #7f7f7f; text-decoration-color: #7f7f7f\">&lt;ipython-input-15-8bb000f4e062&gt;:123</span>\n",
       "</pre>\n"
      ],
      "text/plain": [
       "\u001b[2;36m[20:33:06]\u001b[0m\u001b[2;36m \u001b[0m남은시간 = \u001b[1;31m84415초\u001b[0m                             \u001b[2m<ipython-input-15-8bb000f4e062>\u001b[0m\u001b[2m:123\u001b[0m\n"
      ]
     },
     "metadata": {},
     "output_type": "display_data"
    },
    {
     "data": {
      "text/html": [
       "<pre style=\"white-space:pre;overflow-x:auto;line-height:normal;font-family:Menlo,'DejaVu Sans Mono',consolas,'Courier New',monospace\"><span style=\"color: #7fbfbf; text-decoration-color: #7fbfbf\">           </span>남은시간 = <span style=\"color: #800000; text-decoration-color: #800000; font-weight: bold\">84414초</span>                             <span style=\"color: #7f7f7f; text-decoration-color: #7f7f7f\">&lt;ipython-input-15-8bb000f4e062&gt;:123</span>\n",
       "</pre>\n"
      ],
      "text/plain": [
       "\u001b[2;36m          \u001b[0m\u001b[2;36m \u001b[0m남은시간 = \u001b[1;31m84414초\u001b[0m                             \u001b[2m<ipython-input-15-8bb000f4e062>\u001b[0m\u001b[2m:123\u001b[0m\n"
      ]
     },
     "metadata": {},
     "output_type": "display_data"
    },
    {
     "data": {
      "text/html": [
       "<pre style=\"white-space:pre;overflow-x:auto;line-height:normal;font-family:Menlo,'DejaVu Sans Mono',consolas,'Courier New',monospace\"><span style=\"color: #7fbfbf; text-decoration-color: #7fbfbf\">[20:33:07] </span>남은시간 = <span style=\"color: #800000; text-decoration-color: #800000; font-weight: bold\">84413초</span>                             <span style=\"color: #7f7f7f; text-decoration-color: #7f7f7f\">&lt;ipython-input-15-8bb000f4e062&gt;:123</span>\n",
       "</pre>\n"
      ],
      "text/plain": [
       "\u001b[2;36m[20:33:07]\u001b[0m\u001b[2;36m \u001b[0m남은시간 = \u001b[1;31m84413초\u001b[0m                             \u001b[2m<ipython-input-15-8bb000f4e062>\u001b[0m\u001b[2m:123\u001b[0m\n"
      ]
     },
     "metadata": {},
     "output_type": "display_data"
    },
    {
     "data": {
      "text/html": [
       "<pre style=\"white-space:pre;overflow-x:auto;line-height:normal;font-family:Menlo,'DejaVu Sans Mono',consolas,'Courier New',monospace\"><span style=\"color: #7fbfbf; text-decoration-color: #7fbfbf\">           </span>남은시간 = <span style=\"color: #800000; text-decoration-color: #800000; font-weight: bold\">84413초</span>                             <span style=\"color: #7f7f7f; text-decoration-color: #7f7f7f\">&lt;ipython-input-15-8bb000f4e062&gt;:123</span>\n",
       "</pre>\n"
      ],
      "text/plain": [
       "\u001b[2;36m          \u001b[0m\u001b[2;36m \u001b[0m남은시간 = \u001b[1;31m84413초\u001b[0m                             \u001b[2m<ipython-input-15-8bb000f4e062>\u001b[0m\u001b[2m:123\u001b[0m\n"
      ]
     },
     "metadata": {},
     "output_type": "display_data"
    },
    {
     "data": {
      "text/html": [
       "<pre style=\"white-space:pre;overflow-x:auto;line-height:normal;font-family:Menlo,'DejaVu Sans Mono',consolas,'Courier New',monospace\"><span style=\"color: #7fbfbf; text-decoration-color: #7fbfbf\">[20:33:08] </span>남은시간 = <span style=\"color: #800000; text-decoration-color: #800000; font-weight: bold\">84412초</span>                             <span style=\"color: #7f7f7f; text-decoration-color: #7f7f7f\">&lt;ipython-input-15-8bb000f4e062&gt;:123</span>\n",
       "</pre>\n"
      ],
      "text/plain": [
       "\u001b[2;36m[20:33:08]\u001b[0m\u001b[2;36m \u001b[0m남은시간 = \u001b[1;31m84412초\u001b[0m                             \u001b[2m<ipython-input-15-8bb000f4e062>\u001b[0m\u001b[2m:123\u001b[0m\n"
      ]
     },
     "metadata": {},
     "output_type": "display_data"
    },
    {
     "data": {
      "text/html": [
       "<pre style=\"white-space:pre;overflow-x:auto;line-height:normal;font-family:Menlo,'DejaVu Sans Mono',consolas,'Courier New',monospace\"><span style=\"color: #7fbfbf; text-decoration-color: #7fbfbf\">[20:33:09] </span>남은시간 = <span style=\"color: #800000; text-decoration-color: #800000; font-weight: bold\">84412초</span>                             <span style=\"color: #7f7f7f; text-decoration-color: #7f7f7f\">&lt;ipython-input-15-8bb000f4e062&gt;:123</span>\n",
       "</pre>\n"
      ],
      "text/plain": [
       "\u001b[2;36m[20:33:09]\u001b[0m\u001b[2;36m \u001b[0m남은시간 = \u001b[1;31m84412초\u001b[0m                             \u001b[2m<ipython-input-15-8bb000f4e062>\u001b[0m\u001b[2m:123\u001b[0m\n"
      ]
     },
     "metadata": {},
     "output_type": "display_data"
    },
    {
     "data": {
      "text/html": [
       "<pre style=\"white-space:pre;overflow-x:auto;line-height:normal;font-family:Menlo,'DejaVu Sans Mono',consolas,'Courier New',monospace\"><span style=\"color: #7fbfbf; text-decoration-color: #7fbfbf\">           </span>남은시간 = <span style=\"color: #800000; text-decoration-color: #800000; font-weight: bold\">84411초</span>                             <span style=\"color: #7f7f7f; text-decoration-color: #7f7f7f\">&lt;ipython-input-15-8bb000f4e062&gt;:123</span>\n",
       "</pre>\n"
      ],
      "text/plain": [
       "\u001b[2;36m          \u001b[0m\u001b[2;36m \u001b[0m남은시간 = \u001b[1;31m84411초\u001b[0m                             \u001b[2m<ipython-input-15-8bb000f4e062>\u001b[0m\u001b[2m:123\u001b[0m\n"
      ]
     },
     "metadata": {},
     "output_type": "display_data"
    },
    {
     "data": {
      "text/html": [
       "<pre style=\"white-space:pre;overflow-x:auto;line-height:normal;font-family:Menlo,'DejaVu Sans Mono',consolas,'Courier New',monospace\"><span style=\"color: #7fbfbf; text-decoration-color: #7fbfbf\">[20:33:10] </span>남은시간 = <span style=\"color: #800000; text-decoration-color: #800000; font-weight: bold\">84410초</span>                             <span style=\"color: #7f7f7f; text-decoration-color: #7f7f7f\">&lt;ipython-input-15-8bb000f4e062&gt;:123</span>\n",
       "</pre>\n"
      ],
      "text/plain": [
       "\u001b[2;36m[20:33:10]\u001b[0m\u001b[2;36m \u001b[0m남은시간 = \u001b[1;31m84410초\u001b[0m                             \u001b[2m<ipython-input-15-8bb000f4e062>\u001b[0m\u001b[2m:123\u001b[0m\n"
      ]
     },
     "metadata": {},
     "output_type": "display_data"
    },
    {
     "data": {
      "text/html": [
       "<pre style=\"white-space:pre;overflow-x:auto;line-height:normal;font-family:Menlo,'DejaVu Sans Mono',consolas,'Courier New',monospace\"><span style=\"color: #7fbfbf; text-decoration-color: #7fbfbf\">           </span>남은시간 = <span style=\"color: #800000; text-decoration-color: #800000; font-weight: bold\">84410초</span>                             <span style=\"color: #7f7f7f; text-decoration-color: #7f7f7f\">&lt;ipython-input-15-8bb000f4e062&gt;:123</span>\n",
       "</pre>\n"
      ],
      "text/plain": [
       "\u001b[2;36m          \u001b[0m\u001b[2;36m \u001b[0m남은시간 = \u001b[1;31m84410초\u001b[0m                             \u001b[2m<ipython-input-15-8bb000f4e062>\u001b[0m\u001b[2m:123\u001b[0m\n"
      ]
     },
     "metadata": {},
     "output_type": "display_data"
    },
    {
     "data": {
      "text/html": [
       "<pre style=\"white-space:pre;overflow-x:auto;line-height:normal;font-family:Menlo,'DejaVu Sans Mono',consolas,'Courier New',monospace\"><span style=\"color: #7fbfbf; text-decoration-color: #7fbfbf\">[20:33:11] </span>남은시간 = <span style=\"color: #800000; text-decoration-color: #800000; font-weight: bold\">84409초</span>                             <span style=\"color: #7f7f7f; text-decoration-color: #7f7f7f\">&lt;ipython-input-15-8bb000f4e062&gt;:123</span>\n",
       "</pre>\n"
      ],
      "text/plain": [
       "\u001b[2;36m[20:33:11]\u001b[0m\u001b[2;36m \u001b[0m남은시간 = \u001b[1;31m84409초\u001b[0m                             \u001b[2m<ipython-input-15-8bb000f4e062>\u001b[0m\u001b[2m:123\u001b[0m\n"
      ]
     },
     "metadata": {},
     "output_type": "display_data"
    },
    {
     "data": {
      "text/html": [
       "<pre style=\"white-space:pre;overflow-x:auto;line-height:normal;font-family:Menlo,'DejaVu Sans Mono',consolas,'Courier New',monospace\"><span style=\"color: #7fbfbf; text-decoration-color: #7fbfbf\">           </span>남은시간 = <span style=\"color: #800000; text-decoration-color: #800000; font-weight: bold\">84409초</span>                             <span style=\"color: #7f7f7f; text-decoration-color: #7f7f7f\">&lt;ipython-input-15-8bb000f4e062&gt;:123</span>\n",
       "</pre>\n"
      ],
      "text/plain": [
       "\u001b[2;36m          \u001b[0m\u001b[2;36m \u001b[0m남은시간 = \u001b[1;31m84409초\u001b[0m                             \u001b[2m<ipython-input-15-8bb000f4e062>\u001b[0m\u001b[2m:123\u001b[0m\n"
      ]
     },
     "metadata": {},
     "output_type": "display_data"
    },
    {
     "data": {
      "text/html": [
       "<pre style=\"white-space:pre;overflow-x:auto;line-height:normal;font-family:Menlo,'DejaVu Sans Mono',consolas,'Courier New',monospace\"><span style=\"color: #7fbfbf; text-decoration-color: #7fbfbf\">[20:33:12] </span>남은시간 = <span style=\"color: #800000; text-decoration-color: #800000; font-weight: bold\">84408초</span>                             <span style=\"color: #7f7f7f; text-decoration-color: #7f7f7f\">&lt;ipython-input-15-8bb000f4e062&gt;:123</span>\n",
       "</pre>\n"
      ],
      "text/plain": [
       "\u001b[2;36m[20:33:12]\u001b[0m\u001b[2;36m \u001b[0m남은시간 = \u001b[1;31m84408초\u001b[0m                             \u001b[2m<ipython-input-15-8bb000f4e062>\u001b[0m\u001b[2m:123\u001b[0m\n"
      ]
     },
     "metadata": {},
     "output_type": "display_data"
    },
    {
     "data": {
      "text/html": [
       "<pre style=\"white-space:pre;overflow-x:auto;line-height:normal;font-family:Menlo,'DejaVu Sans Mono',consolas,'Courier New',monospace\"><span style=\"color: #7fbfbf; text-decoration-color: #7fbfbf\">[20:33:13] </span>남은시간 = <span style=\"color: #800000; text-decoration-color: #800000; font-weight: bold\">84408초</span>                             <span style=\"color: #7f7f7f; text-decoration-color: #7f7f7f\">&lt;ipython-input-15-8bb000f4e062&gt;:123</span>\n",
       "</pre>\n"
      ],
      "text/plain": [
       "\u001b[2;36m[20:33:13]\u001b[0m\u001b[2;36m \u001b[0m남은시간 = \u001b[1;31m84408초\u001b[0m                             \u001b[2m<ipython-input-15-8bb000f4e062>\u001b[0m\u001b[2m:123\u001b[0m\n"
      ]
     },
     "metadata": {},
     "output_type": "display_data"
    },
    {
     "data": {
      "text/html": [
       "<pre style=\"white-space:pre;overflow-x:auto;line-height:normal;font-family:Menlo,'DejaVu Sans Mono',consolas,'Courier New',monospace\"><span style=\"color: #7fbfbf; text-decoration-color: #7fbfbf\">           </span>남은시간 = <span style=\"color: #800000; text-decoration-color: #800000; font-weight: bold\">84407초</span>                             <span style=\"color: #7f7f7f; text-decoration-color: #7f7f7f\">&lt;ipython-input-15-8bb000f4e062&gt;:123</span>\n",
       "</pre>\n"
      ],
      "text/plain": [
       "\u001b[2;36m          \u001b[0m\u001b[2;36m \u001b[0m남은시간 = \u001b[1;31m84407초\u001b[0m                             \u001b[2m<ipython-input-15-8bb000f4e062>\u001b[0m\u001b[2m:123\u001b[0m\n"
      ]
     },
     "metadata": {},
     "output_type": "display_data"
    },
    {
     "data": {
      "text/html": [
       "<pre style=\"white-space:pre;overflow-x:auto;line-height:normal;font-family:Menlo,'DejaVu Sans Mono',consolas,'Courier New',monospace\"><span style=\"color: #7fbfbf; text-decoration-color: #7fbfbf\">           </span>남은시간 = <span style=\"color: #800000; text-decoration-color: #800000; font-weight: bold\">84406초</span>                             <span style=\"color: #7f7f7f; text-decoration-color: #7f7f7f\">&lt;ipython-input-15-8bb000f4e062&gt;:123</span>\n",
       "</pre>\n"
      ],
      "text/plain": [
       "\u001b[2;36m          \u001b[0m\u001b[2;36m \u001b[0m남은시간 = \u001b[1;31m84406초\u001b[0m                             \u001b[2m<ipython-input-15-8bb000f4e062>\u001b[0m\u001b[2m:123\u001b[0m\n"
      ]
     },
     "metadata": {},
     "output_type": "display_data"
    },
    {
     "data": {
      "text/html": [
       "<pre style=\"white-space:pre;overflow-x:auto;line-height:normal;font-family:Menlo,'DejaVu Sans Mono',consolas,'Courier New',monospace\"><span style=\"color: #7fbfbf; text-decoration-color: #7fbfbf\">[20:33:15] </span>남은시간 = <span style=\"color: #800000; text-decoration-color: #800000; font-weight: bold\">84405초</span>                             <span style=\"color: #7f7f7f; text-decoration-color: #7f7f7f\">&lt;ipython-input-15-8bb000f4e062&gt;:123</span>\n",
       "</pre>\n"
      ],
      "text/plain": [
       "\u001b[2;36m[20:33:15]\u001b[0m\u001b[2;36m \u001b[0m남은시간 = \u001b[1;31m84405초\u001b[0m                             \u001b[2m<ipython-input-15-8bb000f4e062>\u001b[0m\u001b[2m:123\u001b[0m\n"
      ]
     },
     "metadata": {},
     "output_type": "display_data"
    },
    {
     "data": {
      "text/html": [
       "<pre style=\"white-space:pre;overflow-x:auto;line-height:normal;font-family:Menlo,'DejaVu Sans Mono',consolas,'Courier New',monospace\"><span style=\"color: #7fbfbf; text-decoration-color: #7fbfbf\">           </span>남은시간 = <span style=\"color: #800000; text-decoration-color: #800000; font-weight: bold\">84405초</span>                             <span style=\"color: #7f7f7f; text-decoration-color: #7f7f7f\">&lt;ipython-input-15-8bb000f4e062&gt;:123</span>\n",
       "</pre>\n"
      ],
      "text/plain": [
       "\u001b[2;36m          \u001b[0m\u001b[2;36m \u001b[0m남은시간 = \u001b[1;31m84405초\u001b[0m                             \u001b[2m<ipython-input-15-8bb000f4e062>\u001b[0m\u001b[2m:123\u001b[0m\n"
      ]
     },
     "metadata": {},
     "output_type": "display_data"
    },
    {
     "data": {
      "text/html": [
       "<pre style=\"white-space:pre;overflow-x:auto;line-height:normal;font-family:Menlo,'DejaVu Sans Mono',consolas,'Courier New',monospace\"><span style=\"color: #7fbfbf; text-decoration-color: #7fbfbf\">[20:33:16] </span>남은시간 = <span style=\"color: #800000; text-decoration-color: #800000; font-weight: bold\">84404초</span>                             <span style=\"color: #7f7f7f; text-decoration-color: #7f7f7f\">&lt;ipython-input-15-8bb000f4e062&gt;:123</span>\n",
       "</pre>\n"
      ],
      "text/plain": [
       "\u001b[2;36m[20:33:16]\u001b[0m\u001b[2;36m \u001b[0m남은시간 = \u001b[1;31m84404초\u001b[0m                             \u001b[2m<ipython-input-15-8bb000f4e062>\u001b[0m\u001b[2m:123\u001b[0m\n"
      ]
     },
     "metadata": {},
     "output_type": "display_data"
    },
    {
     "data": {
      "text/html": [
       "<pre style=\"white-space:pre;overflow-x:auto;line-height:normal;font-family:Menlo,'DejaVu Sans Mono',consolas,'Courier New',monospace\"><span style=\"color: #7fbfbf; text-decoration-color: #7fbfbf\">           </span>남은시간 = <span style=\"color: #800000; text-decoration-color: #800000; font-weight: bold\">84404초</span>                             <span style=\"color: #7f7f7f; text-decoration-color: #7f7f7f\">&lt;ipython-input-15-8bb000f4e062&gt;:123</span>\n",
       "</pre>\n"
      ],
      "text/plain": [
       "\u001b[2;36m          \u001b[0m\u001b[2;36m \u001b[0m남은시간 = \u001b[1;31m84404초\u001b[0m                             \u001b[2m<ipython-input-15-8bb000f4e062>\u001b[0m\u001b[2m:123\u001b[0m\n"
      ]
     },
     "metadata": {},
     "output_type": "display_data"
    },
    {
     "data": {
      "text/html": [
       "<pre style=\"white-space:pre;overflow-x:auto;line-height:normal;font-family:Menlo,'DejaVu Sans Mono',consolas,'Courier New',monospace\"><span style=\"color: #7fbfbf; text-decoration-color: #7fbfbf\">[20:33:17] </span>남은시간 = <span style=\"color: #800000; text-decoration-color: #800000; font-weight: bold\">84403초</span>                             <span style=\"color: #7f7f7f; text-decoration-color: #7f7f7f\">&lt;ipython-input-15-8bb000f4e062&gt;:123</span>\n",
       "</pre>\n"
      ],
      "text/plain": [
       "\u001b[2;36m[20:33:17]\u001b[0m\u001b[2;36m \u001b[0m남은시간 = \u001b[1;31m84403초\u001b[0m                             \u001b[2m<ipython-input-15-8bb000f4e062>\u001b[0m\u001b[2m:123\u001b[0m\n"
      ]
     },
     "metadata": {},
     "output_type": "display_data"
    },
    {
     "data": {
      "text/html": [
       "<pre style=\"white-space:pre;overflow-x:auto;line-height:normal;font-family:Menlo,'DejaVu Sans Mono',consolas,'Courier New',monospace\"><span style=\"color: #7fbfbf; text-decoration-color: #7fbfbf\">[20:33:18] </span>남은시간 = <span style=\"color: #800000; text-decoration-color: #800000; font-weight: bold\">84403초</span>                             <span style=\"color: #7f7f7f; text-decoration-color: #7f7f7f\">&lt;ipython-input-15-8bb000f4e062&gt;:123</span>\n",
       "</pre>\n"
      ],
      "text/plain": [
       "\u001b[2;36m[20:33:18]\u001b[0m\u001b[2;36m \u001b[0m남은시간 = \u001b[1;31m84403초\u001b[0m                             \u001b[2m<ipython-input-15-8bb000f4e062>\u001b[0m\u001b[2m:123\u001b[0m\n"
      ]
     },
     "metadata": {},
     "output_type": "display_data"
    },
    {
     "data": {
      "text/html": [
       "<pre style=\"white-space:pre;overflow-x:auto;line-height:normal;font-family:Menlo,'DejaVu Sans Mono',consolas,'Courier New',monospace\"><span style=\"color: #7fbfbf; text-decoration-color: #7fbfbf\">           </span>남은시간 = <span style=\"color: #800000; text-decoration-color: #800000; font-weight: bold\">84402초</span>                             <span style=\"color: #7f7f7f; text-decoration-color: #7f7f7f\">&lt;ipython-input-15-8bb000f4e062&gt;:123</span>\n",
       "</pre>\n"
      ],
      "text/plain": [
       "\u001b[2;36m          \u001b[0m\u001b[2;36m \u001b[0m남은시간 = \u001b[1;31m84402초\u001b[0m                             \u001b[2m<ipython-input-15-8bb000f4e062>\u001b[0m\u001b[2m:123\u001b[0m\n"
      ]
     },
     "metadata": {},
     "output_type": "display_data"
    },
    {
     "data": {
      "text/html": [
       "<pre style=\"white-space:pre;overflow-x:auto;line-height:normal;font-family:Menlo,'DejaVu Sans Mono',consolas,'Courier New',monospace\"><span style=\"color: #7fbfbf; text-decoration-color: #7fbfbf\">[20:33:19] </span>남은시간 = <span style=\"color: #800000; text-decoration-color: #800000; font-weight: bold\">84401초</span>                             <span style=\"color: #7f7f7f; text-decoration-color: #7f7f7f\">&lt;ipython-input-15-8bb000f4e062&gt;:123</span>\n",
       "</pre>\n"
      ],
      "text/plain": [
       "\u001b[2;36m[20:33:19]\u001b[0m\u001b[2;36m \u001b[0m남은시간 = \u001b[1;31m84401초\u001b[0m                             \u001b[2m<ipython-input-15-8bb000f4e062>\u001b[0m\u001b[2m:123\u001b[0m\n"
      ]
     },
     "metadata": {},
     "output_type": "display_data"
    },
    {
     "data": {
      "text/html": [
       "<pre style=\"white-space:pre;overflow-x:auto;line-height:normal;font-family:Menlo,'DejaVu Sans Mono',consolas,'Courier New',monospace\"><span style=\"color: #7fbfbf; text-decoration-color: #7fbfbf\">           </span>남은시간 = <span style=\"color: #800000; text-decoration-color: #800000; font-weight: bold\">84401초</span>                             <span style=\"color: #7f7f7f; text-decoration-color: #7f7f7f\">&lt;ipython-input-15-8bb000f4e062&gt;:123</span>\n",
       "</pre>\n"
      ],
      "text/plain": [
       "\u001b[2;36m          \u001b[0m\u001b[2;36m \u001b[0m남은시간 = \u001b[1;31m84401초\u001b[0m                             \u001b[2m<ipython-input-15-8bb000f4e062>\u001b[0m\u001b[2m:123\u001b[0m\n"
      ]
     },
     "metadata": {},
     "output_type": "display_data"
    },
    {
     "data": {
      "text/html": [
       "<pre style=\"white-space:pre;overflow-x:auto;line-height:normal;font-family:Menlo,'DejaVu Sans Mono',consolas,'Courier New',monospace\"><span style=\"color: #7fbfbf; text-decoration-color: #7fbfbf\">           </span>남은시간 = <span style=\"color: #800000; text-decoration-color: #800000; font-weight: bold\">84400초</span>                             <span style=\"color: #7f7f7f; text-decoration-color: #7f7f7f\">&lt;ipython-input-15-8bb000f4e062&gt;:123</span>\n",
       "</pre>\n"
      ],
      "text/plain": [
       "\u001b[2;36m          \u001b[0m\u001b[2;36m \u001b[0m남은시간 = \u001b[1;31m84400초\u001b[0m                             \u001b[2m<ipython-input-15-8bb000f4e062>\u001b[0m\u001b[2m:123\u001b[0m\n"
      ]
     },
     "metadata": {},
     "output_type": "display_data"
    },
    {
     "data": {
      "text/html": [
       "<pre style=\"white-space:pre;overflow-x:auto;line-height:normal;font-family:Menlo,'DejaVu Sans Mono',consolas,'Courier New',monospace\"><span style=\"color: #7fbfbf; text-decoration-color: #7fbfbf\">[20:33:21] </span>남은시간 = <span style=\"color: #800000; text-decoration-color: #800000; font-weight: bold\">84399초</span>                             <span style=\"color: #7f7f7f; text-decoration-color: #7f7f7f\">&lt;ipython-input-15-8bb000f4e062&gt;:123</span>\n",
       "</pre>\n"
      ],
      "text/plain": [
       "\u001b[2;36m[20:33:21]\u001b[0m\u001b[2;36m \u001b[0m남은시간 = \u001b[1;31m84399초\u001b[0m                             \u001b[2m<ipython-input-15-8bb000f4e062>\u001b[0m\u001b[2m:123\u001b[0m\n"
      ]
     },
     "metadata": {},
     "output_type": "display_data"
    },
    {
     "data": {
      "text/html": [
       "<pre style=\"white-space:pre;overflow-x:auto;line-height:normal;font-family:Menlo,'DejaVu Sans Mono',consolas,'Courier New',monospace\"><span style=\"color: #7fbfbf; text-decoration-color: #7fbfbf\">[20:33:22] </span>남은시간 = <span style=\"color: #800000; text-decoration-color: #800000; font-weight: bold\">84399초</span>                             <span style=\"color: #7f7f7f; text-decoration-color: #7f7f7f\">&lt;ipython-input-15-8bb000f4e062&gt;:123</span>\n",
       "</pre>\n"
      ],
      "text/plain": [
       "\u001b[2;36m[20:33:22]\u001b[0m\u001b[2;36m \u001b[0m남은시간 = \u001b[1;31m84399초\u001b[0m                             \u001b[2m<ipython-input-15-8bb000f4e062>\u001b[0m\u001b[2m:123\u001b[0m\n"
      ]
     },
     "metadata": {},
     "output_type": "display_data"
    },
    {
     "data": {
      "text/html": [
       "<pre style=\"white-space:pre;overflow-x:auto;line-height:normal;font-family:Menlo,'DejaVu Sans Mono',consolas,'Courier New',monospace\"><span style=\"color: #7fbfbf; text-decoration-color: #7fbfbf\">           </span>남은시간 = <span style=\"color: #800000; text-decoration-color: #800000; font-weight: bold\">84398초</span>                             <span style=\"color: #7f7f7f; text-decoration-color: #7f7f7f\">&lt;ipython-input-15-8bb000f4e062&gt;:123</span>\n",
       "</pre>\n"
      ],
      "text/plain": [
       "\u001b[2;36m          \u001b[0m\u001b[2;36m \u001b[0m남은시간 = \u001b[1;31m84398초\u001b[0m                             \u001b[2m<ipython-input-15-8bb000f4e062>\u001b[0m\u001b[2m:123\u001b[0m\n"
      ]
     },
     "metadata": {},
     "output_type": "display_data"
    },
    {
     "data": {
      "text/html": [
       "<pre style=\"white-space:pre;overflow-x:auto;line-height:normal;font-family:Menlo,'DejaVu Sans Mono',consolas,'Courier New',monospace\"><span style=\"color: #7fbfbf; text-decoration-color: #7fbfbf\">[20:33:23] </span>남은시간 = <span style=\"color: #800000; text-decoration-color: #800000; font-weight: bold\">84397초</span>                             <span style=\"color: #7f7f7f; text-decoration-color: #7f7f7f\">&lt;ipython-input-15-8bb000f4e062&gt;:123</span>\n",
       "</pre>\n"
      ],
      "text/plain": [
       "\u001b[2;36m[20:33:23]\u001b[0m\u001b[2;36m \u001b[0m남은시간 = \u001b[1;31m84397초\u001b[0m                             \u001b[2m<ipython-input-15-8bb000f4e062>\u001b[0m\u001b[2m:123\u001b[0m\n"
      ]
     },
     "metadata": {},
     "output_type": "display_data"
    },
    {
     "data": {
      "text/html": [
       "<pre style=\"white-space:pre;overflow-x:auto;line-height:normal;font-family:Menlo,'DejaVu Sans Mono',consolas,'Courier New',monospace\"><span style=\"color: #7fbfbf; text-decoration-color: #7fbfbf\">           </span>남은시간 = <span style=\"color: #800000; text-decoration-color: #800000; font-weight: bold\">84397초</span>                             <span style=\"color: #7f7f7f; text-decoration-color: #7f7f7f\">&lt;ipython-input-15-8bb000f4e062&gt;:123</span>\n",
       "</pre>\n"
      ],
      "text/plain": [
       "\u001b[2;36m          \u001b[0m\u001b[2;36m \u001b[0m남은시간 = \u001b[1;31m84397초\u001b[0m                             \u001b[2m<ipython-input-15-8bb000f4e062>\u001b[0m\u001b[2m:123\u001b[0m\n"
      ]
     },
     "metadata": {},
     "output_type": "display_data"
    },
    {
     "data": {
      "text/html": [
       "<pre style=\"white-space:pre;overflow-x:auto;line-height:normal;font-family:Menlo,'DejaVu Sans Mono',consolas,'Courier New',monospace\"><span style=\"color: #7fbfbf; text-decoration-color: #7fbfbf\">[20:33:24] </span>남은시간 = <span style=\"color: #800000; text-decoration-color: #800000; font-weight: bold\">84396초</span>                             <span style=\"color: #7f7f7f; text-decoration-color: #7f7f7f\">&lt;ipython-input-15-8bb000f4e062&gt;:123</span>\n",
       "</pre>\n"
      ],
      "text/plain": [
       "\u001b[2;36m[20:33:24]\u001b[0m\u001b[2;36m \u001b[0m남은시간 = \u001b[1;31m84396초\u001b[0m                             \u001b[2m<ipython-input-15-8bb000f4e062>\u001b[0m\u001b[2m:123\u001b[0m\n"
      ]
     },
     "metadata": {},
     "output_type": "display_data"
    },
    {
     "data": {
      "text/html": [
       "<pre style=\"white-space:pre;overflow-x:auto;line-height:normal;font-family:Menlo,'DejaVu Sans Mono',consolas,'Courier New',monospace\"><span style=\"color: #7fbfbf; text-decoration-color: #7fbfbf\">[20:33:25] </span>남은시간 = <span style=\"color: #800000; text-decoration-color: #800000; font-weight: bold\">84396초</span>                             <span style=\"color: #7f7f7f; text-decoration-color: #7f7f7f\">&lt;ipython-input-15-8bb000f4e062&gt;:123</span>\n",
       "</pre>\n"
      ],
      "text/plain": [
       "\u001b[2;36m[20:33:25]\u001b[0m\u001b[2;36m \u001b[0m남은시간 = \u001b[1;31m84396초\u001b[0m                             \u001b[2m<ipython-input-15-8bb000f4e062>\u001b[0m\u001b[2m:123\u001b[0m\n"
      ]
     },
     "metadata": {},
     "output_type": "display_data"
    },
    {
     "data": {
      "text/html": [
       "<pre style=\"white-space:pre;overflow-x:auto;line-height:normal;font-family:Menlo,'DejaVu Sans Mono',consolas,'Courier New',monospace\"><span style=\"color: #7fbfbf; text-decoration-color: #7fbfbf\">           </span>남은시간 = <span style=\"color: #800000; text-decoration-color: #800000; font-weight: bold\">84395초</span>                             <span style=\"color: #7f7f7f; text-decoration-color: #7f7f7f\">&lt;ipython-input-15-8bb000f4e062&gt;:123</span>\n",
       "</pre>\n"
      ],
      "text/plain": [
       "\u001b[2;36m          \u001b[0m\u001b[2;36m \u001b[0m남은시간 = \u001b[1;31m84395초\u001b[0m                             \u001b[2m<ipython-input-15-8bb000f4e062>\u001b[0m\u001b[2m:123\u001b[0m\n"
      ]
     },
     "metadata": {},
     "output_type": "display_data"
    },
    {
     "data": {
      "text/html": [
       "<pre style=\"white-space:pre;overflow-x:auto;line-height:normal;font-family:Menlo,'DejaVu Sans Mono',consolas,'Courier New',monospace\"><span style=\"color: #7fbfbf; text-decoration-color: #7fbfbf\">[20:33:26] </span>남은시간 = <span style=\"color: #800000; text-decoration-color: #800000; font-weight: bold\">84395초</span>                             <span style=\"color: #7f7f7f; text-decoration-color: #7f7f7f\">&lt;ipython-input-15-8bb000f4e062&gt;:123</span>\n",
       "</pre>\n"
      ],
      "text/plain": [
       "\u001b[2;36m[20:33:26]\u001b[0m\u001b[2;36m \u001b[0m남은시간 = \u001b[1;31m84395초\u001b[0m                             \u001b[2m<ipython-input-15-8bb000f4e062>\u001b[0m\u001b[2m:123\u001b[0m\n"
      ]
     },
     "metadata": {},
     "output_type": "display_data"
    },
    {
     "data": {
      "text/html": [
       "<pre style=\"white-space:pre;overflow-x:auto;line-height:normal;font-family:Menlo,'DejaVu Sans Mono',consolas,'Courier New',monospace\"><span style=\"color: #7fbfbf; text-decoration-color: #7fbfbf\">           </span>남은시간 = <span style=\"color: #800000; text-decoration-color: #800000; font-weight: bold\">84394초</span>                             <span style=\"color: #7f7f7f; text-decoration-color: #7f7f7f\">&lt;ipython-input-15-8bb000f4e062&gt;:123</span>\n",
       "</pre>\n"
      ],
      "text/plain": [
       "\u001b[2;36m          \u001b[0m\u001b[2;36m \u001b[0m남은시간 = \u001b[1;31m84394초\u001b[0m                             \u001b[2m<ipython-input-15-8bb000f4e062>\u001b[0m\u001b[2m:123\u001b[0m\n"
      ]
     },
     "metadata": {},
     "output_type": "display_data"
    },
    {
     "data": {
      "text/html": [
       "<pre style=\"white-space:pre;overflow-x:auto;line-height:normal;font-family:Menlo,'DejaVu Sans Mono',consolas,'Courier New',monospace\"><span style=\"color: #7fbfbf; text-decoration-color: #7fbfbf\">[20:33:27] </span>남은시간 = <span style=\"color: #800000; text-decoration-color: #800000; font-weight: bold\">84393초</span>                             <span style=\"color: #7f7f7f; text-decoration-color: #7f7f7f\">&lt;ipython-input-15-8bb000f4e062&gt;:123</span>\n",
       "</pre>\n"
      ],
      "text/plain": [
       "\u001b[2;36m[20:33:27]\u001b[0m\u001b[2;36m \u001b[0m남은시간 = \u001b[1;31m84393초\u001b[0m                             \u001b[2m<ipython-input-15-8bb000f4e062>\u001b[0m\u001b[2m:123\u001b[0m\n"
      ]
     },
     "metadata": {},
     "output_type": "display_data"
    },
    {
     "data": {
      "text/html": [
       "<pre style=\"white-space:pre;overflow-x:auto;line-height:normal;font-family:Menlo,'DejaVu Sans Mono',consolas,'Courier New',monospace\"><span style=\"color: #7fbfbf; text-decoration-color: #7fbfbf\">           </span>남은시간 = <span style=\"color: #800000; text-decoration-color: #800000; font-weight: bold\">84393초</span>                             <span style=\"color: #7f7f7f; text-decoration-color: #7f7f7f\">&lt;ipython-input-15-8bb000f4e062&gt;:123</span>\n",
       "</pre>\n"
      ],
      "text/plain": [
       "\u001b[2;36m          \u001b[0m\u001b[2;36m \u001b[0m남은시간 = \u001b[1;31m84393초\u001b[0m                             \u001b[2m<ipython-input-15-8bb000f4e062>\u001b[0m\u001b[2m:123\u001b[0m\n"
      ]
     },
     "metadata": {},
     "output_type": "display_data"
    },
    {
     "data": {
      "text/html": [
       "<pre style=\"white-space:pre;overflow-x:auto;line-height:normal;font-family:Menlo,'DejaVu Sans Mono',consolas,'Courier New',monospace\"><span style=\"color: #7fbfbf; text-decoration-color: #7fbfbf\">[20:33:28] </span>남은시간 = <span style=\"color: #800000; text-decoration-color: #800000; font-weight: bold\">84392초</span>                             <span style=\"color: #7f7f7f; text-decoration-color: #7f7f7f\">&lt;ipython-input-15-8bb000f4e062&gt;:123</span>\n",
       "</pre>\n"
      ],
      "text/plain": [
       "\u001b[2;36m[20:33:28]\u001b[0m\u001b[2;36m \u001b[0m남은시간 = \u001b[1;31m84392초\u001b[0m                             \u001b[2m<ipython-input-15-8bb000f4e062>\u001b[0m\u001b[2m:123\u001b[0m\n"
      ]
     },
     "metadata": {},
     "output_type": "display_data"
    },
    {
     "data": {
      "text/html": [
       "<pre style=\"white-space:pre;overflow-x:auto;line-height:normal;font-family:Menlo,'DejaVu Sans Mono',consolas,'Courier New',monospace\"><span style=\"color: #7fbfbf; text-decoration-color: #7fbfbf\">           </span>남은시간 = <span style=\"color: #800000; text-decoration-color: #800000; font-weight: bold\">84392초</span>                             <span style=\"color: #7f7f7f; text-decoration-color: #7f7f7f\">&lt;ipython-input-15-8bb000f4e062&gt;:123</span>\n",
       "</pre>\n"
      ],
      "text/plain": [
       "\u001b[2;36m          \u001b[0m\u001b[2;36m \u001b[0m남은시간 = \u001b[1;31m84392초\u001b[0m                             \u001b[2m<ipython-input-15-8bb000f4e062>\u001b[0m\u001b[2m:123\u001b[0m\n"
      ]
     },
     "metadata": {},
     "output_type": "display_data"
    },
    {
     "data": {
      "text/html": [
       "<pre style=\"white-space:pre;overflow-x:auto;line-height:normal;font-family:Menlo,'DejaVu Sans Mono',consolas,'Courier New',monospace\"><span style=\"color: #7fbfbf; text-decoration-color: #7fbfbf\">[20:33:29] </span>남은시간 = <span style=\"color: #800000; text-decoration-color: #800000; font-weight: bold\">84391초</span>                             <span style=\"color: #7f7f7f; text-decoration-color: #7f7f7f\">&lt;ipython-input-15-8bb000f4e062&gt;:123</span>\n",
       "</pre>\n"
      ],
      "text/plain": [
       "\u001b[2;36m[20:33:29]\u001b[0m\u001b[2;36m \u001b[0m남은시간 = \u001b[1;31m84391초\u001b[0m                             \u001b[2m<ipython-input-15-8bb000f4e062>\u001b[0m\u001b[2m:123\u001b[0m\n"
      ]
     },
     "metadata": {},
     "output_type": "display_data"
    },
    {
     "data": {
      "text/html": [
       "<pre style=\"white-space:pre;overflow-x:auto;line-height:normal;font-family:Menlo,'DejaVu Sans Mono',consolas,'Courier New',monospace\"><span style=\"color: #7fbfbf; text-decoration-color: #7fbfbf\">[20:33:30] </span>남은시간 = <span style=\"color: #800000; text-decoration-color: #800000; font-weight: bold\">84391초</span>                             <span style=\"color: #7f7f7f; text-decoration-color: #7f7f7f\">&lt;ipython-input-15-8bb000f4e062&gt;:123</span>\n",
       "</pre>\n"
      ],
      "text/plain": [
       "\u001b[2;36m[20:33:30]\u001b[0m\u001b[2;36m \u001b[0m남은시간 = \u001b[1;31m84391초\u001b[0m                             \u001b[2m<ipython-input-15-8bb000f4e062>\u001b[0m\u001b[2m:123\u001b[0m\n"
      ]
     },
     "metadata": {},
     "output_type": "display_data"
    },
    {
     "data": {
      "text/html": [
       "<pre style=\"white-space:pre;overflow-x:auto;line-height:normal;font-family:Menlo,'DejaVu Sans Mono',consolas,'Courier New',monospace\"><span style=\"color: #7fbfbf; text-decoration-color: #7fbfbf\">           </span>남은시간 = <span style=\"color: #800000; text-decoration-color: #800000; font-weight: bold\">84390초</span>                             <span style=\"color: #7f7f7f; text-decoration-color: #7f7f7f\">&lt;ipython-input-15-8bb000f4e062&gt;:123</span>\n",
       "</pre>\n"
      ],
      "text/plain": [
       "\u001b[2;36m          \u001b[0m\u001b[2;36m \u001b[0m남은시간 = \u001b[1;31m84390초\u001b[0m                             \u001b[2m<ipython-input-15-8bb000f4e062>\u001b[0m\u001b[2m:123\u001b[0m\n"
      ]
     },
     "metadata": {},
     "output_type": "display_data"
    },
    {
     "data": {
      "text/html": [
       "<pre style=\"white-space:pre;overflow-x:auto;line-height:normal;font-family:Menlo,'DejaVu Sans Mono',consolas,'Courier New',monospace\"><span style=\"color: #7fbfbf; text-decoration-color: #7fbfbf\">[20:33:31] </span>남은시간 = <span style=\"color: #800000; text-decoration-color: #800000; font-weight: bold\">84390초</span>                             <span style=\"color: #7f7f7f; text-decoration-color: #7f7f7f\">&lt;ipython-input-15-8bb000f4e062&gt;:123</span>\n",
       "</pre>\n"
      ],
      "text/plain": [
       "\u001b[2;36m[20:33:31]\u001b[0m\u001b[2;36m \u001b[0m남은시간 = \u001b[1;31m84390초\u001b[0m                             \u001b[2m<ipython-input-15-8bb000f4e062>\u001b[0m\u001b[2m:123\u001b[0m\n"
      ]
     },
     "metadata": {},
     "output_type": "display_data"
    },
    {
     "data": {
      "text/html": [
       "<pre style=\"white-space:pre;overflow-x:auto;line-height:normal;font-family:Menlo,'DejaVu Sans Mono',consolas,'Courier New',monospace\"><span style=\"color: #7fbfbf; text-decoration-color: #7fbfbf\">           </span>남은시간 = <span style=\"color: #800000; text-decoration-color: #800000; font-weight: bold\">84389초</span>                             <span style=\"color: #7f7f7f; text-decoration-color: #7f7f7f\">&lt;ipython-input-15-8bb000f4e062&gt;:123</span>\n",
       "</pre>\n"
      ],
      "text/plain": [
       "\u001b[2;36m          \u001b[0m\u001b[2;36m \u001b[0m남은시간 = \u001b[1;31m84389초\u001b[0m                             \u001b[2m<ipython-input-15-8bb000f4e062>\u001b[0m\u001b[2m:123\u001b[0m\n"
      ]
     },
     "metadata": {},
     "output_type": "display_data"
    },
    {
     "data": {
      "text/html": [
       "<pre style=\"white-space:pre;overflow-x:auto;line-height:normal;font-family:Menlo,'DejaVu Sans Mono',consolas,'Courier New',monospace\"><span style=\"color: #7fbfbf; text-decoration-color: #7fbfbf\">[20:33:32] </span>남은시간 = <span style=\"color: #800000; text-decoration-color: #800000; font-weight: bold\">84388초</span>                             <span style=\"color: #7f7f7f; text-decoration-color: #7f7f7f\">&lt;ipython-input-15-8bb000f4e062&gt;:123</span>\n",
       "</pre>\n"
      ],
      "text/plain": [
       "\u001b[2;36m[20:33:32]\u001b[0m\u001b[2;36m \u001b[0m남은시간 = \u001b[1;31m84388초\u001b[0m                             \u001b[2m<ipython-input-15-8bb000f4e062>\u001b[0m\u001b[2m:123\u001b[0m\n"
      ]
     },
     "metadata": {},
     "output_type": "display_data"
    },
    {
     "data": {
      "text/html": [
       "<pre style=\"white-space:pre;overflow-x:auto;line-height:normal;font-family:Menlo,'DejaVu Sans Mono',consolas,'Courier New',monospace\"><span style=\"color: #7fbfbf; text-decoration-color: #7fbfbf\">           </span>남은시간 = <span style=\"color: #800000; text-decoration-color: #800000; font-weight: bold\">84388초</span>                             <span style=\"color: #7f7f7f; text-decoration-color: #7f7f7f\">&lt;ipython-input-15-8bb000f4e062&gt;:123</span>\n",
       "</pre>\n"
      ],
      "text/plain": [
       "\u001b[2;36m          \u001b[0m\u001b[2;36m \u001b[0m남은시간 = \u001b[1;31m84388초\u001b[0m                             \u001b[2m<ipython-input-15-8bb000f4e062>\u001b[0m\u001b[2m:123\u001b[0m\n"
      ]
     },
     "metadata": {},
     "output_type": "display_data"
    },
    {
     "data": {
      "text/html": [
       "<pre style=\"white-space:pre;overflow-x:auto;line-height:normal;font-family:Menlo,'DejaVu Sans Mono',consolas,'Courier New',monospace\"><span style=\"color: #7fbfbf; text-decoration-color: #7fbfbf\">[20:33:33] </span>남은시간 = <span style=\"color: #800000; text-decoration-color: #800000; font-weight: bold\">84387초</span>                             <span style=\"color: #7f7f7f; text-decoration-color: #7f7f7f\">&lt;ipython-input-15-8bb000f4e062&gt;:123</span>\n",
       "</pre>\n"
      ],
      "text/plain": [
       "\u001b[2;36m[20:33:33]\u001b[0m\u001b[2;36m \u001b[0m남은시간 = \u001b[1;31m84387초\u001b[0m                             \u001b[2m<ipython-input-15-8bb000f4e062>\u001b[0m\u001b[2m:123\u001b[0m\n"
      ]
     },
     "metadata": {},
     "output_type": "display_data"
    },
    {
     "data": {
      "text/html": [
       "<pre style=\"white-space:pre;overflow-x:auto;line-height:normal;font-family:Menlo,'DejaVu Sans Mono',consolas,'Courier New',monospace\"><span style=\"color: #7fbfbf; text-decoration-color: #7fbfbf\">           </span>남은시간 = <span style=\"color: #800000; text-decoration-color: #800000; font-weight: bold\">84387초</span>                             <span style=\"color: #7f7f7f; text-decoration-color: #7f7f7f\">&lt;ipython-input-15-8bb000f4e062&gt;:123</span>\n",
       "</pre>\n"
      ],
      "text/plain": [
       "\u001b[2;36m          \u001b[0m\u001b[2;36m \u001b[0m남은시간 = \u001b[1;31m84387초\u001b[0m                             \u001b[2m<ipython-input-15-8bb000f4e062>\u001b[0m\u001b[2m:123\u001b[0m\n"
      ]
     },
     "metadata": {},
     "output_type": "display_data"
    },
    {
     "data": {
      "text/html": [
       "<pre style=\"white-space:pre;overflow-x:auto;line-height:normal;font-family:Menlo,'DejaVu Sans Mono',consolas,'Courier New',monospace\"><span style=\"color: #7fbfbf; text-decoration-color: #7fbfbf\">[20:33:34] </span>남은시간 = <span style=\"color: #800000; text-decoration-color: #800000; font-weight: bold\">84386초</span>                             <span style=\"color: #7f7f7f; text-decoration-color: #7f7f7f\">&lt;ipython-input-15-8bb000f4e062&gt;:123</span>\n",
       "</pre>\n"
      ],
      "text/plain": [
       "\u001b[2;36m[20:33:34]\u001b[0m\u001b[2;36m \u001b[0m남은시간 = \u001b[1;31m84386초\u001b[0m                             \u001b[2m<ipython-input-15-8bb000f4e062>\u001b[0m\u001b[2m:123\u001b[0m\n"
      ]
     },
     "metadata": {},
     "output_type": "display_data"
    },
    {
     "data": {
      "text/html": [
       "<pre style=\"white-space:pre;overflow-x:auto;line-height:normal;font-family:Menlo,'DejaVu Sans Mono',consolas,'Courier New',monospace\"><span style=\"color: #7fbfbf; text-decoration-color: #7fbfbf\">[20:33:35] </span>남은시간 = <span style=\"color: #800000; text-decoration-color: #800000; font-weight: bold\">84386초</span>                             <span style=\"color: #7f7f7f; text-decoration-color: #7f7f7f\">&lt;ipython-input-15-8bb000f4e062&gt;:123</span>\n",
       "</pre>\n"
      ],
      "text/plain": [
       "\u001b[2;36m[20:33:35]\u001b[0m\u001b[2;36m \u001b[0m남은시간 = \u001b[1;31m84386초\u001b[0m                             \u001b[2m<ipython-input-15-8bb000f4e062>\u001b[0m\u001b[2m:123\u001b[0m\n"
      ]
     },
     "metadata": {},
     "output_type": "display_data"
    },
    {
     "data": {
      "text/html": [
       "<pre style=\"white-space:pre;overflow-x:auto;line-height:normal;font-family:Menlo,'DejaVu Sans Mono',consolas,'Courier New',monospace\"><span style=\"color: #7fbfbf; text-decoration-color: #7fbfbf\">           </span>남은시간 = <span style=\"color: #800000; text-decoration-color: #800000; font-weight: bold\">84385초</span>                             <span style=\"color: #7f7f7f; text-decoration-color: #7f7f7f\">&lt;ipython-input-15-8bb000f4e062&gt;:123</span>\n",
       "</pre>\n"
      ],
      "text/plain": [
       "\u001b[2;36m          \u001b[0m\u001b[2;36m \u001b[0m남은시간 = \u001b[1;31m84385초\u001b[0m                             \u001b[2m<ipython-input-15-8bb000f4e062>\u001b[0m\u001b[2m:123\u001b[0m\n"
      ]
     },
     "metadata": {},
     "output_type": "display_data"
    },
    {
     "data": {
      "text/html": [
       "<pre style=\"white-space:pre;overflow-x:auto;line-height:normal;font-family:Menlo,'DejaVu Sans Mono',consolas,'Courier New',monospace\"><span style=\"color: #7fbfbf; text-decoration-color: #7fbfbf\">[20:33:36] </span>남은시간 = <span style=\"color: #800000; text-decoration-color: #800000; font-weight: bold\">84384초</span>                             <span style=\"color: #7f7f7f; text-decoration-color: #7f7f7f\">&lt;ipython-input-15-8bb000f4e062&gt;:123</span>\n",
       "</pre>\n"
      ],
      "text/plain": [
       "\u001b[2;36m[20:33:36]\u001b[0m\u001b[2;36m \u001b[0m남은시간 = \u001b[1;31m84384초\u001b[0m                             \u001b[2m<ipython-input-15-8bb000f4e062>\u001b[0m\u001b[2m:123\u001b[0m\n"
      ]
     },
     "metadata": {},
     "output_type": "display_data"
    },
    {
     "data": {
      "text/html": [
       "<pre style=\"white-space:pre;overflow-x:auto;line-height:normal;font-family:Menlo,'DejaVu Sans Mono',consolas,'Courier New',monospace\"><span style=\"color: #7fbfbf; text-decoration-color: #7fbfbf\">           </span>남은시간 = <span style=\"color: #800000; text-decoration-color: #800000; font-weight: bold\">84384초</span>                             <span style=\"color: #7f7f7f; text-decoration-color: #7f7f7f\">&lt;ipython-input-15-8bb000f4e062&gt;:123</span>\n",
       "</pre>\n"
      ],
      "text/plain": [
       "\u001b[2;36m          \u001b[0m\u001b[2;36m \u001b[0m남은시간 = \u001b[1;31m84384초\u001b[0m                             \u001b[2m<ipython-input-15-8bb000f4e062>\u001b[0m\u001b[2m:123\u001b[0m\n"
      ]
     },
     "metadata": {},
     "output_type": "display_data"
    },
    {
     "data": {
      "text/html": [
       "<pre style=\"white-space:pre;overflow-x:auto;line-height:normal;font-family:Menlo,'DejaVu Sans Mono',consolas,'Courier New',monospace\"><span style=\"color: #7fbfbf; text-decoration-color: #7fbfbf\">[20:33:37] </span>남은시간 = <span style=\"color: #800000; text-decoration-color: #800000; font-weight: bold\">84383초</span>                             <span style=\"color: #7f7f7f; text-decoration-color: #7f7f7f\">&lt;ipython-input-15-8bb000f4e062&gt;:123</span>\n",
       "</pre>\n"
      ],
      "text/plain": [
       "\u001b[2;36m[20:33:37]\u001b[0m\u001b[2;36m \u001b[0m남은시간 = \u001b[1;31m84383초\u001b[0m                             \u001b[2m<ipython-input-15-8bb000f4e062>\u001b[0m\u001b[2m:123\u001b[0m\n"
      ]
     },
     "metadata": {},
     "output_type": "display_data"
    },
    {
     "data": {
      "text/html": [
       "<pre style=\"white-space:pre;overflow-x:auto;line-height:normal;font-family:Menlo,'DejaVu Sans Mono',consolas,'Courier New',monospace\"><span style=\"color: #7fbfbf; text-decoration-color: #7fbfbf\">           </span>남은시간 = <span style=\"color: #800000; text-decoration-color: #800000; font-weight: bold\">84383초</span>                             <span style=\"color: #7f7f7f; text-decoration-color: #7f7f7f\">&lt;ipython-input-15-8bb000f4e062&gt;:123</span>\n",
       "</pre>\n"
      ],
      "text/plain": [
       "\u001b[2;36m          \u001b[0m\u001b[2;36m \u001b[0m남은시간 = \u001b[1;31m84383초\u001b[0m                             \u001b[2m<ipython-input-15-8bb000f4e062>\u001b[0m\u001b[2m:123\u001b[0m\n"
      ]
     },
     "metadata": {},
     "output_type": "display_data"
    },
    {
     "data": {
      "text/html": [
       "<pre style=\"white-space:pre;overflow-x:auto;line-height:normal;font-family:Menlo,'DejaVu Sans Mono',consolas,'Courier New',monospace\"><span style=\"color: #7fbfbf; text-decoration-color: #7fbfbf\">[20:33:38] </span>남은시간 = <span style=\"color: #800000; text-decoration-color: #800000; font-weight: bold\">84382초</span>                             <span style=\"color: #7f7f7f; text-decoration-color: #7f7f7f\">&lt;ipython-input-15-8bb000f4e062&gt;:123</span>\n",
       "</pre>\n"
      ],
      "text/plain": [
       "\u001b[2;36m[20:33:38]\u001b[0m\u001b[2;36m \u001b[0m남은시간 = \u001b[1;31m84382초\u001b[0m                             \u001b[2m<ipython-input-15-8bb000f4e062>\u001b[0m\u001b[2m:123\u001b[0m\n"
      ]
     },
     "metadata": {},
     "output_type": "display_data"
    },
    {
     "data": {
      "text/html": [
       "<pre style=\"white-space:pre;overflow-x:auto;line-height:normal;font-family:Menlo,'DejaVu Sans Mono',consolas,'Courier New',monospace\"><span style=\"color: #7fbfbf; text-decoration-color: #7fbfbf\">[20:33:39] </span>남은시간 = <span style=\"color: #800000; text-decoration-color: #800000; font-weight: bold\">84382초</span>                             <span style=\"color: #7f7f7f; text-decoration-color: #7f7f7f\">&lt;ipython-input-15-8bb000f4e062&gt;:123</span>\n",
       "</pre>\n"
      ],
      "text/plain": [
       "\u001b[2;36m[20:33:39]\u001b[0m\u001b[2;36m \u001b[0m남은시간 = \u001b[1;31m84382초\u001b[0m                             \u001b[2m<ipython-input-15-8bb000f4e062>\u001b[0m\u001b[2m:123\u001b[0m\n"
      ]
     },
     "metadata": {},
     "output_type": "display_data"
    },
    {
     "data": {
      "text/html": [
       "<pre style=\"white-space:pre;overflow-x:auto;line-height:normal;font-family:Menlo,'DejaVu Sans Mono',consolas,'Courier New',monospace\"><span style=\"color: #7fbfbf; text-decoration-color: #7fbfbf\">           </span>남은시간 = <span style=\"color: #800000; text-decoration-color: #800000; font-weight: bold\">84381초</span>                             <span style=\"color: #7f7f7f; text-decoration-color: #7f7f7f\">&lt;ipython-input-15-8bb000f4e062&gt;:123</span>\n",
       "</pre>\n"
      ],
      "text/plain": [
       "\u001b[2;36m          \u001b[0m\u001b[2;36m \u001b[0m남은시간 = \u001b[1;31m84381초\u001b[0m                             \u001b[2m<ipython-input-15-8bb000f4e062>\u001b[0m\u001b[2m:123\u001b[0m\n"
      ]
     },
     "metadata": {},
     "output_type": "display_data"
    },
    {
     "data": {
      "text/html": [
       "<pre style=\"white-space:pre;overflow-x:auto;line-height:normal;font-family:Menlo,'DejaVu Sans Mono',consolas,'Courier New',monospace\"><span style=\"color: #7fbfbf; text-decoration-color: #7fbfbf\">[20:33:40] </span>남은시간 = <span style=\"color: #800000; text-decoration-color: #800000; font-weight: bold\">84380초</span>                             <span style=\"color: #7f7f7f; text-decoration-color: #7f7f7f\">&lt;ipython-input-15-8bb000f4e062&gt;:123</span>\n",
       "</pre>\n"
      ],
      "text/plain": [
       "\u001b[2;36m[20:33:40]\u001b[0m\u001b[2;36m \u001b[0m남은시간 = \u001b[1;31m84380초\u001b[0m                             \u001b[2m<ipython-input-15-8bb000f4e062>\u001b[0m\u001b[2m:123\u001b[0m\n"
      ]
     },
     "metadata": {},
     "output_type": "display_data"
    },
    {
     "data": {
      "text/html": [
       "<pre style=\"white-space:pre;overflow-x:auto;line-height:normal;font-family:Menlo,'DejaVu Sans Mono',consolas,'Courier New',monospace\"><span style=\"color: #7fbfbf; text-decoration-color: #7fbfbf\">           </span>남은시간 = <span style=\"color: #800000; text-decoration-color: #800000; font-weight: bold\">84380초</span>                             <span style=\"color: #7f7f7f; text-decoration-color: #7f7f7f\">&lt;ipython-input-15-8bb000f4e062&gt;:123</span>\n",
       "</pre>\n"
      ],
      "text/plain": [
       "\u001b[2;36m          \u001b[0m\u001b[2;36m \u001b[0m남은시간 = \u001b[1;31m84380초\u001b[0m                             \u001b[2m<ipython-input-15-8bb000f4e062>\u001b[0m\u001b[2m:123\u001b[0m\n"
      ]
     },
     "metadata": {},
     "output_type": "display_data"
    },
    {
     "data": {
      "text/html": [
       "<pre style=\"white-space:pre;overflow-x:auto;line-height:normal;font-family:Menlo,'DejaVu Sans Mono',consolas,'Courier New',monospace\"><span style=\"color: #7fbfbf; text-decoration-color: #7fbfbf\">[20:33:41] </span>남은시간 = <span style=\"color: #800000; text-decoration-color: #800000; font-weight: bold\">84379초</span>                             <span style=\"color: #7f7f7f; text-decoration-color: #7f7f7f\">&lt;ipython-input-15-8bb000f4e062&gt;:123</span>\n",
       "</pre>\n"
      ],
      "text/plain": [
       "\u001b[2;36m[20:33:41]\u001b[0m\u001b[2;36m \u001b[0m남은시간 = \u001b[1;31m84379초\u001b[0m                             \u001b[2m<ipython-input-15-8bb000f4e062>\u001b[0m\u001b[2m:123\u001b[0m\n"
      ]
     },
     "metadata": {},
     "output_type": "display_data"
    },
    {
     "data": {
      "text/html": [
       "<pre style=\"white-space:pre;overflow-x:auto;line-height:normal;font-family:Menlo,'DejaVu Sans Mono',consolas,'Courier New',monospace\"><span style=\"color: #7fbfbf; text-decoration-color: #7fbfbf\">[20:33:42] </span>남은시간 = <span style=\"color: #800000; text-decoration-color: #800000; font-weight: bold\">84379초</span>                             <span style=\"color: #7f7f7f; text-decoration-color: #7f7f7f\">&lt;ipython-input-15-8bb000f4e062&gt;:123</span>\n",
       "</pre>\n"
      ],
      "text/plain": [
       "\u001b[2;36m[20:33:42]\u001b[0m\u001b[2;36m \u001b[0m남은시간 = \u001b[1;31m84379초\u001b[0m                             \u001b[2m<ipython-input-15-8bb000f4e062>\u001b[0m\u001b[2m:123\u001b[0m\n"
      ]
     },
     "metadata": {},
     "output_type": "display_data"
    },
    {
     "data": {
      "text/html": [
       "<pre style=\"white-space:pre;overflow-x:auto;line-height:normal;font-family:Menlo,'DejaVu Sans Mono',consolas,'Courier New',monospace\"><span style=\"color: #7fbfbf; text-decoration-color: #7fbfbf\">           </span>남은시간 = <span style=\"color: #800000; text-decoration-color: #800000; font-weight: bold\">84378초</span>                             <span style=\"color: #7f7f7f; text-decoration-color: #7f7f7f\">&lt;ipython-input-15-8bb000f4e062&gt;:123</span>\n",
       "</pre>\n"
      ],
      "text/plain": [
       "\u001b[2;36m          \u001b[0m\u001b[2;36m \u001b[0m남은시간 = \u001b[1;31m84378초\u001b[0m                             \u001b[2m<ipython-input-15-8bb000f4e062>\u001b[0m\u001b[2m:123\u001b[0m\n"
      ]
     },
     "metadata": {},
     "output_type": "display_data"
    },
    {
     "data": {
      "text/html": [
       "<pre style=\"white-space:pre;overflow-x:auto;line-height:normal;font-family:Menlo,'DejaVu Sans Mono',consolas,'Courier New',monospace\"><span style=\"color: #7fbfbf; text-decoration-color: #7fbfbf\">[20:33:43] </span>남은시간 = <span style=\"color: #800000; text-decoration-color: #800000; font-weight: bold\">84378초</span>                             <span style=\"color: #7f7f7f; text-decoration-color: #7f7f7f\">&lt;ipython-input-15-8bb000f4e062&gt;:123</span>\n",
       "</pre>\n"
      ],
      "text/plain": [
       "\u001b[2;36m[20:33:43]\u001b[0m\u001b[2;36m \u001b[0m남은시간 = \u001b[1;31m84378초\u001b[0m                             \u001b[2m<ipython-input-15-8bb000f4e062>\u001b[0m\u001b[2m:123\u001b[0m\n"
      ]
     },
     "metadata": {},
     "output_type": "display_data"
    },
    {
     "data": {
      "text/html": [
       "<pre style=\"white-space:pre;overflow-x:auto;line-height:normal;font-family:Menlo,'DejaVu Sans Mono',consolas,'Courier New',monospace\"><span style=\"color: #7fbfbf; text-decoration-color: #7fbfbf\">           </span>남은시간 = <span style=\"color: #800000; text-decoration-color: #800000; font-weight: bold\">84377초</span>                             <span style=\"color: #7f7f7f; text-decoration-color: #7f7f7f\">&lt;ipython-input-15-8bb000f4e062&gt;:123</span>\n",
       "</pre>\n"
      ],
      "text/plain": [
       "\u001b[2;36m          \u001b[0m\u001b[2;36m \u001b[0m남은시간 = \u001b[1;31m84377초\u001b[0m                             \u001b[2m<ipython-input-15-8bb000f4e062>\u001b[0m\u001b[2m:123\u001b[0m\n"
      ]
     },
     "metadata": {},
     "output_type": "display_data"
    },
    {
     "data": {
      "text/html": [
       "<pre style=\"white-space:pre;overflow-x:auto;line-height:normal;font-family:Menlo,'DejaVu Sans Mono',consolas,'Courier New',monospace\"><span style=\"color: #7fbfbf; text-decoration-color: #7fbfbf\">[20:33:44] </span>남은시간 = <span style=\"color: #800000; text-decoration-color: #800000; font-weight: bold\">84376초</span>                             <span style=\"color: #7f7f7f; text-decoration-color: #7f7f7f\">&lt;ipython-input-15-8bb000f4e062&gt;:123</span>\n",
       "</pre>\n"
      ],
      "text/plain": [
       "\u001b[2;36m[20:33:44]\u001b[0m\u001b[2;36m \u001b[0m남은시간 = \u001b[1;31m84376초\u001b[0m                             \u001b[2m<ipython-input-15-8bb000f4e062>\u001b[0m\u001b[2m:123\u001b[0m\n"
      ]
     },
     "metadata": {},
     "output_type": "display_data"
    },
    {
     "data": {
      "text/html": [
       "<pre style=\"white-space:pre;overflow-x:auto;line-height:normal;font-family:Menlo,'DejaVu Sans Mono',consolas,'Courier New',monospace\"><span style=\"color: #7fbfbf; text-decoration-color: #7fbfbf\">           </span>남은시간 = <span style=\"color: #800000; text-decoration-color: #800000; font-weight: bold\">84376초</span>                             <span style=\"color: #7f7f7f; text-decoration-color: #7f7f7f\">&lt;ipython-input-15-8bb000f4e062&gt;:123</span>\n",
       "</pre>\n"
      ],
      "text/plain": [
       "\u001b[2;36m          \u001b[0m\u001b[2;36m \u001b[0m남은시간 = \u001b[1;31m84376초\u001b[0m                             \u001b[2m<ipython-input-15-8bb000f4e062>\u001b[0m\u001b[2m:123\u001b[0m\n"
      ]
     },
     "metadata": {},
     "output_type": "display_data"
    },
    {
     "data": {
      "text/html": [
       "<pre style=\"white-space:pre;overflow-x:auto;line-height:normal;font-family:Menlo,'DejaVu Sans Mono',consolas,'Courier New',monospace\"><span style=\"color: #7fbfbf; text-decoration-color: #7fbfbf\">[20:33:45] </span>남은시간 = <span style=\"color: #800000; text-decoration-color: #800000; font-weight: bold\">84375초</span>                             <span style=\"color: #7f7f7f; text-decoration-color: #7f7f7f\">&lt;ipython-input-15-8bb000f4e062&gt;:123</span>\n",
       "</pre>\n"
      ],
      "text/plain": [
       "\u001b[2;36m[20:33:45]\u001b[0m\u001b[2;36m \u001b[0m남은시간 = \u001b[1;31m84375초\u001b[0m                             \u001b[2m<ipython-input-15-8bb000f4e062>\u001b[0m\u001b[2m:123\u001b[0m\n"
      ]
     },
     "metadata": {},
     "output_type": "display_data"
    },
    {
     "data": {
      "text/html": [
       "<pre style=\"white-space:pre;overflow-x:auto;line-height:normal;font-family:Menlo,'DejaVu Sans Mono',consolas,'Courier New',monospace\"><span style=\"color: #7fbfbf; text-decoration-color: #7fbfbf\">           </span>남은시간 = <span style=\"color: #800000; text-decoration-color: #800000; font-weight: bold\">84375초</span>                             <span style=\"color: #7f7f7f; text-decoration-color: #7f7f7f\">&lt;ipython-input-15-8bb000f4e062&gt;:123</span>\n",
       "</pre>\n"
      ],
      "text/plain": [
       "\u001b[2;36m          \u001b[0m\u001b[2;36m \u001b[0m남은시간 = \u001b[1;31m84375초\u001b[0m                             \u001b[2m<ipython-input-15-8bb000f4e062>\u001b[0m\u001b[2m:123\u001b[0m\n"
      ]
     },
     "metadata": {},
     "output_type": "display_data"
    },
    {
     "data": {
      "text/html": [
       "<pre style=\"white-space:pre;overflow-x:auto;line-height:normal;font-family:Menlo,'DejaVu Sans Mono',consolas,'Courier New',monospace\"><span style=\"color: #7fbfbf; text-decoration-color: #7fbfbf\">[20:33:46] </span>남은시간 = <span style=\"color: #800000; text-decoration-color: #800000; font-weight: bold\">84374초</span>                             <span style=\"color: #7f7f7f; text-decoration-color: #7f7f7f\">&lt;ipython-input-15-8bb000f4e062&gt;:123</span>\n",
       "</pre>\n"
      ],
      "text/plain": [
       "\u001b[2;36m[20:33:46]\u001b[0m\u001b[2;36m \u001b[0m남은시간 = \u001b[1;31m84374초\u001b[0m                             \u001b[2m<ipython-input-15-8bb000f4e062>\u001b[0m\u001b[2m:123\u001b[0m\n"
      ]
     },
     "metadata": {},
     "output_type": "display_data"
    },
    {
     "data": {
      "text/html": [
       "<pre style=\"white-space:pre;overflow-x:auto;line-height:normal;font-family:Menlo,'DejaVu Sans Mono',consolas,'Courier New',monospace\"><span style=\"color: #7fbfbf; text-decoration-color: #7fbfbf\">[20:33:47] </span>남은시간 = <span style=\"color: #800000; text-decoration-color: #800000; font-weight: bold\">84374초</span>                             <span style=\"color: #7f7f7f; text-decoration-color: #7f7f7f\">&lt;ipython-input-15-8bb000f4e062&gt;:123</span>\n",
       "</pre>\n"
      ],
      "text/plain": [
       "\u001b[2;36m[20:33:47]\u001b[0m\u001b[2;36m \u001b[0m남은시간 = \u001b[1;31m84374초\u001b[0m                             \u001b[2m<ipython-input-15-8bb000f4e062>\u001b[0m\u001b[2m:123\u001b[0m\n"
      ]
     },
     "metadata": {},
     "output_type": "display_data"
    },
    {
     "data": {
      "text/html": [
       "<pre style=\"white-space:pre;overflow-x:auto;line-height:normal;font-family:Menlo,'DejaVu Sans Mono',consolas,'Courier New',monospace\"><span style=\"color: #7fbfbf; text-decoration-color: #7fbfbf\">           </span>남은시간 = <span style=\"color: #800000; text-decoration-color: #800000; font-weight: bold\">84373초</span>                             <span style=\"color: #7f7f7f; text-decoration-color: #7f7f7f\">&lt;ipython-input-15-8bb000f4e062&gt;:123</span>\n",
       "</pre>\n"
      ],
      "text/plain": [
       "\u001b[2;36m          \u001b[0m\u001b[2;36m \u001b[0m남은시간 = \u001b[1;31m84373초\u001b[0m                             \u001b[2m<ipython-input-15-8bb000f4e062>\u001b[0m\u001b[2m:123\u001b[0m\n"
      ]
     },
     "metadata": {},
     "output_type": "display_data"
    },
    {
     "data": {
      "text/html": [
       "<pre style=\"white-space:pre;overflow-x:auto;line-height:normal;font-family:Menlo,'DejaVu Sans Mono',consolas,'Courier New',monospace\"><span style=\"color: #7fbfbf; text-decoration-color: #7fbfbf\">[20:33:48] </span>남은시간 = <span style=\"color: #800000; text-decoration-color: #800000; font-weight: bold\">84372초</span>                             <span style=\"color: #7f7f7f; text-decoration-color: #7f7f7f\">&lt;ipython-input-15-8bb000f4e062&gt;:123</span>\n",
       "</pre>\n"
      ],
      "text/plain": [
       "\u001b[2;36m[20:33:48]\u001b[0m\u001b[2;36m \u001b[0m남은시간 = \u001b[1;31m84372초\u001b[0m                             \u001b[2m<ipython-input-15-8bb000f4e062>\u001b[0m\u001b[2m:123\u001b[0m\n"
      ]
     },
     "metadata": {},
     "output_type": "display_data"
    },
    {
     "data": {
      "text/html": [
       "<pre style=\"white-space:pre;overflow-x:auto;line-height:normal;font-family:Menlo,'DejaVu Sans Mono',consolas,'Courier New',monospace\"><span style=\"color: #7fbfbf; text-decoration-color: #7fbfbf\">           </span>남은시간 = <span style=\"color: #800000; text-decoration-color: #800000; font-weight: bold\">84372초</span>                             <span style=\"color: #7f7f7f; text-decoration-color: #7f7f7f\">&lt;ipython-input-15-8bb000f4e062&gt;:123</span>\n",
       "</pre>\n"
      ],
      "text/plain": [
       "\u001b[2;36m          \u001b[0m\u001b[2;36m \u001b[0m남은시간 = \u001b[1;31m84372초\u001b[0m                             \u001b[2m<ipython-input-15-8bb000f4e062>\u001b[0m\u001b[2m:123\u001b[0m\n"
      ]
     },
     "metadata": {},
     "output_type": "display_data"
    },
    {
     "data": {
      "text/html": [
       "<pre style=\"white-space:pre;overflow-x:auto;line-height:normal;font-family:Menlo,'DejaVu Sans Mono',consolas,'Courier New',monospace\"><span style=\"color: #7fbfbf; text-decoration-color: #7fbfbf\">[20:33:49] </span>남은시간 = <span style=\"color: #800000; text-decoration-color: #800000; font-weight: bold\">84371초</span>                             <span style=\"color: #7f7f7f; text-decoration-color: #7f7f7f\">&lt;ipython-input-15-8bb000f4e062&gt;:123</span>\n",
       "</pre>\n"
      ],
      "text/plain": [
       "\u001b[2;36m[20:33:49]\u001b[0m\u001b[2;36m \u001b[0m남은시간 = \u001b[1;31m84371초\u001b[0m                             \u001b[2m<ipython-input-15-8bb000f4e062>\u001b[0m\u001b[2m:123\u001b[0m\n"
      ]
     },
     "metadata": {},
     "output_type": "display_data"
    },
    {
     "data": {
      "text/html": [
       "<pre style=\"white-space:pre;overflow-x:auto;line-height:normal;font-family:Menlo,'DejaVu Sans Mono',consolas,'Courier New',monospace\"><span style=\"color: #7fbfbf; text-decoration-color: #7fbfbf\">           </span>남은시간 = <span style=\"color: #800000; text-decoration-color: #800000; font-weight: bold\">84371초</span>                             <span style=\"color: #7f7f7f; text-decoration-color: #7f7f7f\">&lt;ipython-input-15-8bb000f4e062&gt;:123</span>\n",
       "</pre>\n"
      ],
      "text/plain": [
       "\u001b[2;36m          \u001b[0m\u001b[2;36m \u001b[0m남은시간 = \u001b[1;31m84371초\u001b[0m                             \u001b[2m<ipython-input-15-8bb000f4e062>\u001b[0m\u001b[2m:123\u001b[0m\n"
      ]
     },
     "metadata": {},
     "output_type": "display_data"
    },
    {
     "data": {
      "text/html": [
       "<pre style=\"white-space:pre;overflow-x:auto;line-height:normal;font-family:Menlo,'DejaVu Sans Mono',consolas,'Courier New',monospace\"><span style=\"color: #7fbfbf; text-decoration-color: #7fbfbf\">[20:33:50] </span>남은시간 = <span style=\"color: #800000; text-decoration-color: #800000; font-weight: bold\">84370초</span>                             <span style=\"color: #7f7f7f; text-decoration-color: #7f7f7f\">&lt;ipython-input-15-8bb000f4e062&gt;:123</span>\n",
       "</pre>\n"
      ],
      "text/plain": [
       "\u001b[2;36m[20:33:50]\u001b[0m\u001b[2;36m \u001b[0m남은시간 = \u001b[1;31m84370초\u001b[0m                             \u001b[2m<ipython-input-15-8bb000f4e062>\u001b[0m\u001b[2m:123\u001b[0m\n"
      ]
     },
     "metadata": {},
     "output_type": "display_data"
    },
    {
     "data": {
      "text/html": [
       "<pre style=\"white-space:pre;overflow-x:auto;line-height:normal;font-family:Menlo,'DejaVu Sans Mono',consolas,'Courier New',monospace\"><span style=\"color: #7fbfbf; text-decoration-color: #7fbfbf\">[20:33:51] </span>남은시간 = <span style=\"color: #800000; text-decoration-color: #800000; font-weight: bold\">84370초</span>                             <span style=\"color: #7f7f7f; text-decoration-color: #7f7f7f\">&lt;ipython-input-15-8bb000f4e062&gt;:123</span>\n",
       "</pre>\n"
      ],
      "text/plain": [
       "\u001b[2;36m[20:33:51]\u001b[0m\u001b[2;36m \u001b[0m남은시간 = \u001b[1;31m84370초\u001b[0m                             \u001b[2m<ipython-input-15-8bb000f4e062>\u001b[0m\u001b[2m:123\u001b[0m\n"
      ]
     },
     "metadata": {},
     "output_type": "display_data"
    },
    {
     "data": {
      "text/html": [
       "<pre style=\"white-space:pre;overflow-x:auto;line-height:normal;font-family:Menlo,'DejaVu Sans Mono',consolas,'Courier New',monospace\"><span style=\"color: #7fbfbf; text-decoration-color: #7fbfbf\">           </span>남은시간 = <span style=\"color: #800000; text-decoration-color: #800000; font-weight: bold\">84369초</span>                             <span style=\"color: #7f7f7f; text-decoration-color: #7f7f7f\">&lt;ipython-input-15-8bb000f4e062&gt;:123</span>\n",
       "</pre>\n"
      ],
      "text/plain": [
       "\u001b[2;36m          \u001b[0m\u001b[2;36m \u001b[0m남은시간 = \u001b[1;31m84369초\u001b[0m                             \u001b[2m<ipython-input-15-8bb000f4e062>\u001b[0m\u001b[2m:123\u001b[0m\n"
      ]
     },
     "metadata": {},
     "output_type": "display_data"
    },
    {
     "data": {
      "text/html": [
       "<pre style=\"white-space:pre;overflow-x:auto;line-height:normal;font-family:Menlo,'DejaVu Sans Mono',consolas,'Courier New',monospace\"><span style=\"color: #7fbfbf; text-decoration-color: #7fbfbf\">[20:33:52] </span>남은시간 = <span style=\"color: #800000; text-decoration-color: #800000; font-weight: bold\">84369초</span>                             <span style=\"color: #7f7f7f; text-decoration-color: #7f7f7f\">&lt;ipython-input-15-8bb000f4e062&gt;:123</span>\n",
       "</pre>\n"
      ],
      "text/plain": [
       "\u001b[2;36m[20:33:52]\u001b[0m\u001b[2;36m \u001b[0m남은시간 = \u001b[1;31m84369초\u001b[0m                             \u001b[2m<ipython-input-15-8bb000f4e062>\u001b[0m\u001b[2m:123\u001b[0m\n"
      ]
     },
     "metadata": {},
     "output_type": "display_data"
    },
    {
     "data": {
      "text/html": [
       "<pre style=\"white-space:pre;overflow-x:auto;line-height:normal;font-family:Menlo,'DejaVu Sans Mono',consolas,'Courier New',monospace\"><span style=\"color: #7fbfbf; text-decoration-color: #7fbfbf\">           </span>남은시간 = <span style=\"color: #800000; text-decoration-color: #800000; font-weight: bold\">84368초</span>                             <span style=\"color: #7f7f7f; text-decoration-color: #7f7f7f\">&lt;ipython-input-15-8bb000f4e062&gt;:123</span>\n",
       "</pre>\n"
      ],
      "text/plain": [
       "\u001b[2;36m          \u001b[0m\u001b[2;36m \u001b[0m남은시간 = \u001b[1;31m84368초\u001b[0m                             \u001b[2m<ipython-input-15-8bb000f4e062>\u001b[0m\u001b[2m:123\u001b[0m\n"
      ]
     },
     "metadata": {},
     "output_type": "display_data"
    },
    {
     "data": {
      "text/html": [
       "<pre style=\"white-space:pre;overflow-x:auto;line-height:normal;font-family:Menlo,'DejaVu Sans Mono',consolas,'Courier New',monospace\"><span style=\"color: #7fbfbf; text-decoration-color: #7fbfbf\">[20:33:53] </span>남은시간 = <span style=\"color: #800000; text-decoration-color: #800000; font-weight: bold\">84367초</span>                             <span style=\"color: #7f7f7f; text-decoration-color: #7f7f7f\">&lt;ipython-input-15-8bb000f4e062&gt;:123</span>\n",
       "</pre>\n"
      ],
      "text/plain": [
       "\u001b[2;36m[20:33:53]\u001b[0m\u001b[2;36m \u001b[0m남은시간 = \u001b[1;31m84367초\u001b[0m                             \u001b[2m<ipython-input-15-8bb000f4e062>\u001b[0m\u001b[2m:123\u001b[0m\n"
      ]
     },
     "metadata": {},
     "output_type": "display_data"
    },
    {
     "data": {
      "text/html": [
       "<pre style=\"white-space:pre;overflow-x:auto;line-height:normal;font-family:Menlo,'DejaVu Sans Mono',consolas,'Courier New',monospace\"><span style=\"color: #7fbfbf; text-decoration-color: #7fbfbf\">           </span>남은시간 = <span style=\"color: #800000; text-decoration-color: #800000; font-weight: bold\">84367초</span>                             <span style=\"color: #7f7f7f; text-decoration-color: #7f7f7f\">&lt;ipython-input-15-8bb000f4e062&gt;:123</span>\n",
       "</pre>\n"
      ],
      "text/plain": [
       "\u001b[2;36m          \u001b[0m\u001b[2;36m \u001b[0m남은시간 = \u001b[1;31m84367초\u001b[0m                             \u001b[2m<ipython-input-15-8bb000f4e062>\u001b[0m\u001b[2m:123\u001b[0m\n"
      ]
     },
     "metadata": {},
     "output_type": "display_data"
    },
    {
     "data": {
      "text/html": [
       "<pre style=\"white-space:pre;overflow-x:auto;line-height:normal;font-family:Menlo,'DejaVu Sans Mono',consolas,'Courier New',monospace\"><span style=\"color: #7fbfbf; text-decoration-color: #7fbfbf\">[20:33:54] </span>남은시간 = <span style=\"color: #800000; text-decoration-color: #800000; font-weight: bold\">84366초</span>                             <span style=\"color: #7f7f7f; text-decoration-color: #7f7f7f\">&lt;ipython-input-15-8bb000f4e062&gt;:123</span>\n",
       "</pre>\n"
      ],
      "text/plain": [
       "\u001b[2;36m[20:33:54]\u001b[0m\u001b[2;36m \u001b[0m남은시간 = \u001b[1;31m84366초\u001b[0m                             \u001b[2m<ipython-input-15-8bb000f4e062>\u001b[0m\u001b[2m:123\u001b[0m\n"
      ]
     },
     "metadata": {},
     "output_type": "display_data"
    },
    {
     "data": {
      "text/html": [
       "<pre style=\"white-space:pre;overflow-x:auto;line-height:normal;font-family:Menlo,'DejaVu Sans Mono',consolas,'Courier New',monospace\"><span style=\"color: #7fbfbf; text-decoration-color: #7fbfbf\">           </span>남은시간 = <span style=\"color: #800000; text-decoration-color: #800000; font-weight: bold\">84366초</span>                             <span style=\"color: #7f7f7f; text-decoration-color: #7f7f7f\">&lt;ipython-input-15-8bb000f4e062&gt;:123</span>\n",
       "</pre>\n"
      ],
      "text/plain": [
       "\u001b[2;36m          \u001b[0m\u001b[2;36m \u001b[0m남은시간 = \u001b[1;31m84366초\u001b[0m                             \u001b[2m<ipython-input-15-8bb000f4e062>\u001b[0m\u001b[2m:123\u001b[0m\n"
      ]
     },
     "metadata": {},
     "output_type": "display_data"
    },
    {
     "data": {
      "text/html": [
       "<pre style=\"white-space:pre;overflow-x:auto;line-height:normal;font-family:Menlo,'DejaVu Sans Mono',consolas,'Courier New',monospace\"><span style=\"color: #7fbfbf; text-decoration-color: #7fbfbf\">[20:33:55] </span>남은시간 = <span style=\"color: #800000; text-decoration-color: #800000; font-weight: bold\">84365초</span>                             <span style=\"color: #7f7f7f; text-decoration-color: #7f7f7f\">&lt;ipython-input-15-8bb000f4e062&gt;:123</span>\n",
       "</pre>\n"
      ],
      "text/plain": [
       "\u001b[2;36m[20:33:55]\u001b[0m\u001b[2;36m \u001b[0m남은시간 = \u001b[1;31m84365초\u001b[0m                             \u001b[2m<ipython-input-15-8bb000f4e062>\u001b[0m\u001b[2m:123\u001b[0m\n"
      ]
     },
     "metadata": {},
     "output_type": "display_data"
    },
    {
     "data": {
      "text/html": [
       "<pre style=\"white-space:pre;overflow-x:auto;line-height:normal;font-family:Menlo,'DejaVu Sans Mono',consolas,'Courier New',monospace\"><span style=\"color: #7fbfbf; text-decoration-color: #7fbfbf\">[20:33:56] </span>남은시간 = <span style=\"color: #800000; text-decoration-color: #800000; font-weight: bold\">84365초</span>                             <span style=\"color: #7f7f7f; text-decoration-color: #7f7f7f\">&lt;ipython-input-15-8bb000f4e062&gt;:123</span>\n",
       "</pre>\n"
      ],
      "text/plain": [
       "\u001b[2;36m[20:33:56]\u001b[0m\u001b[2;36m \u001b[0m남은시간 = \u001b[1;31m84365초\u001b[0m                             \u001b[2m<ipython-input-15-8bb000f4e062>\u001b[0m\u001b[2m:123\u001b[0m\n"
      ]
     },
     "metadata": {},
     "output_type": "display_data"
    },
    {
     "data": {
      "text/html": [
       "<pre style=\"white-space:pre;overflow-x:auto;line-height:normal;font-family:Menlo,'DejaVu Sans Mono',consolas,'Courier New',monospace\"><span style=\"color: #7fbfbf; text-decoration-color: #7fbfbf\">           </span>남은시간 = <span style=\"color: #800000; text-decoration-color: #800000; font-weight: bold\">84364초</span>                             <span style=\"color: #7f7f7f; text-decoration-color: #7f7f7f\">&lt;ipython-input-15-8bb000f4e062&gt;:123</span>\n",
       "</pre>\n"
      ],
      "text/plain": [
       "\u001b[2;36m          \u001b[0m\u001b[2;36m \u001b[0m남은시간 = \u001b[1;31m84364초\u001b[0m                             \u001b[2m<ipython-input-15-8bb000f4e062>\u001b[0m\u001b[2m:123\u001b[0m\n"
      ]
     },
     "metadata": {},
     "output_type": "display_data"
    },
    {
     "data": {
      "text/html": [
       "<pre style=\"white-space:pre;overflow-x:auto;line-height:normal;font-family:Menlo,'DejaVu Sans Mono',consolas,'Courier New',monospace\"><span style=\"color: #7fbfbf; text-decoration-color: #7fbfbf\">[20:33:57] </span>남은시간 = <span style=\"color: #800000; text-decoration-color: #800000; font-weight: bold\">84363초</span>                             <span style=\"color: #7f7f7f; text-decoration-color: #7f7f7f\">&lt;ipython-input-15-8bb000f4e062&gt;:123</span>\n",
       "</pre>\n"
      ],
      "text/plain": [
       "\u001b[2;36m[20:33:57]\u001b[0m\u001b[2;36m \u001b[0m남은시간 = \u001b[1;31m84363초\u001b[0m                             \u001b[2m<ipython-input-15-8bb000f4e062>\u001b[0m\u001b[2m:123\u001b[0m\n"
      ]
     },
     "metadata": {},
     "output_type": "display_data"
    },
    {
     "data": {
      "text/html": [
       "<pre style=\"white-space:pre;overflow-x:auto;line-height:normal;font-family:Menlo,'DejaVu Sans Mono',consolas,'Courier New',monospace\"><span style=\"color: #7fbfbf; text-decoration-color: #7fbfbf\">           </span>남은시간 = <span style=\"color: #800000; text-decoration-color: #800000; font-weight: bold\">84363초</span>                             <span style=\"color: #7f7f7f; text-decoration-color: #7f7f7f\">&lt;ipython-input-15-8bb000f4e062&gt;:123</span>\n",
       "</pre>\n"
      ],
      "text/plain": [
       "\u001b[2;36m          \u001b[0m\u001b[2;36m \u001b[0m남은시간 = \u001b[1;31m84363초\u001b[0m                             \u001b[2m<ipython-input-15-8bb000f4e062>\u001b[0m\u001b[2m:123\u001b[0m\n"
      ]
     },
     "metadata": {},
     "output_type": "display_data"
    },
    {
     "data": {
      "text/html": [
       "<pre style=\"white-space:pre;overflow-x:auto;line-height:normal;font-family:Menlo,'DejaVu Sans Mono',consolas,'Courier New',monospace\"><span style=\"color: #7fbfbf; text-decoration-color: #7fbfbf\">[20:33:58] </span>남은시간 = <span style=\"color: #800000; text-decoration-color: #800000; font-weight: bold\">84362초</span>                             <span style=\"color: #7f7f7f; text-decoration-color: #7f7f7f\">&lt;ipython-input-15-8bb000f4e062&gt;:123</span>\n",
       "</pre>\n"
      ],
      "text/plain": [
       "\u001b[2;36m[20:33:58]\u001b[0m\u001b[2;36m \u001b[0m남은시간 = \u001b[1;31m84362초\u001b[0m                             \u001b[2m<ipython-input-15-8bb000f4e062>\u001b[0m\u001b[2m:123\u001b[0m\n"
      ]
     },
     "metadata": {},
     "output_type": "display_data"
    },
    {
     "data": {
      "text/html": [
       "<pre style=\"white-space:pre;overflow-x:auto;line-height:normal;font-family:Menlo,'DejaVu Sans Mono',consolas,'Courier New',monospace\"><span style=\"color: #7fbfbf; text-decoration-color: #7fbfbf\">           </span>남은시간 = <span style=\"color: #800000; text-decoration-color: #800000; font-weight: bold\">84362초</span>                             <span style=\"color: #7f7f7f; text-decoration-color: #7f7f7f\">&lt;ipython-input-15-8bb000f4e062&gt;:123</span>\n",
       "</pre>\n"
      ],
      "text/plain": [
       "\u001b[2;36m          \u001b[0m\u001b[2;36m \u001b[0m남은시간 = \u001b[1;31m84362초\u001b[0m                             \u001b[2m<ipython-input-15-8bb000f4e062>\u001b[0m\u001b[2m:123\u001b[0m\n"
      ]
     },
     "metadata": {},
     "output_type": "display_data"
    },
    {
     "data": {
      "text/html": [
       "<pre style=\"white-space:pre;overflow-x:auto;line-height:normal;font-family:Menlo,'DejaVu Sans Mono',consolas,'Courier New',monospace\"><span style=\"color: #7fbfbf; text-decoration-color: #7fbfbf\">[20:33:59] </span>남은시간 = <span style=\"color: #800000; text-decoration-color: #800000; font-weight: bold\">84361초</span>                             <span style=\"color: #7f7f7f; text-decoration-color: #7f7f7f\">&lt;ipython-input-15-8bb000f4e062&gt;:123</span>\n",
       "</pre>\n"
      ],
      "text/plain": [
       "\u001b[2;36m[20:33:59]\u001b[0m\u001b[2;36m \u001b[0m남은시간 = \u001b[1;31m84361초\u001b[0m                             \u001b[2m<ipython-input-15-8bb000f4e062>\u001b[0m\u001b[2m:123\u001b[0m\n"
      ]
     },
     "metadata": {},
     "output_type": "display_data"
    },
    {
     "data": {
      "text/html": [
       "<pre style=\"white-space:pre;overflow-x:auto;line-height:normal;font-family:Menlo,'DejaVu Sans Mono',consolas,'Courier New',monospace\"><span style=\"color: #7fbfbf; text-decoration-color: #7fbfbf\">[20:34:00] </span>남은시간 = <span style=\"color: #800000; text-decoration-color: #800000; font-weight: bold\">84361초</span>                             <span style=\"color: #7f7f7f; text-decoration-color: #7f7f7f\">&lt;ipython-input-15-8bb000f4e062&gt;:123</span>\n",
       "</pre>\n"
      ],
      "text/plain": [
       "\u001b[2;36m[20:34:00]\u001b[0m\u001b[2;36m \u001b[0m남은시간 = \u001b[1;31m84361초\u001b[0m                             \u001b[2m<ipython-input-15-8bb000f4e062>\u001b[0m\u001b[2m:123\u001b[0m\n"
      ]
     },
     "metadata": {},
     "output_type": "display_data"
    },
    {
     "data": {
      "text/html": [
       "<pre style=\"white-space:pre;overflow-x:auto;line-height:normal;font-family:Menlo,'DejaVu Sans Mono',consolas,'Courier New',monospace\"><span style=\"color: #7fbfbf; text-decoration-color: #7fbfbf\">           </span>남은시간 = <span style=\"color: #800000; text-decoration-color: #800000; font-weight: bold\">84360초</span>                             <span style=\"color: #7f7f7f; text-decoration-color: #7f7f7f\">&lt;ipython-input-15-8bb000f4e062&gt;:123</span>\n",
       "</pre>\n"
      ],
      "text/plain": [
       "\u001b[2;36m          \u001b[0m\u001b[2;36m \u001b[0m남은시간 = \u001b[1;31m84360초\u001b[0m                             \u001b[2m<ipython-input-15-8bb000f4e062>\u001b[0m\u001b[2m:123\u001b[0m\n"
      ]
     },
     "metadata": {},
     "output_type": "display_data"
    },
    {
     "data": {
      "text/html": [
       "<pre style=\"white-space:pre;overflow-x:auto;line-height:normal;font-family:Menlo,'DejaVu Sans Mono',consolas,'Courier New',monospace\"><span style=\"color: #7fbfbf; text-decoration-color: #7fbfbf\">[20:34:01] </span>남은시간 = <span style=\"color: #800000; text-decoration-color: #800000; font-weight: bold\">84360초</span>                             <span style=\"color: #7f7f7f; text-decoration-color: #7f7f7f\">&lt;ipython-input-15-8bb000f4e062&gt;:123</span>\n",
       "</pre>\n"
      ],
      "text/plain": [
       "\u001b[2;36m[20:34:01]\u001b[0m\u001b[2;36m \u001b[0m남은시간 = \u001b[1;31m84360초\u001b[0m                             \u001b[2m<ipython-input-15-8bb000f4e062>\u001b[0m\u001b[2m:123\u001b[0m\n"
      ]
     },
     "metadata": {},
     "output_type": "display_data"
    },
    {
     "data": {
      "text/html": [
       "<pre style=\"white-space:pre;overflow-x:auto;line-height:normal;font-family:Menlo,'DejaVu Sans Mono',consolas,'Courier New',monospace\"><span style=\"color: #7fbfbf; text-decoration-color: #7fbfbf\">           </span>남은시간 = <span style=\"color: #800000; text-decoration-color: #800000; font-weight: bold\">84359초</span>                             <span style=\"color: #7f7f7f; text-decoration-color: #7f7f7f\">&lt;ipython-input-15-8bb000f4e062&gt;:123</span>\n",
       "</pre>\n"
      ],
      "text/plain": [
       "\u001b[2;36m          \u001b[0m\u001b[2;36m \u001b[0m남은시간 = \u001b[1;31m84359초\u001b[0m                             \u001b[2m<ipython-input-15-8bb000f4e062>\u001b[0m\u001b[2m:123\u001b[0m\n"
      ]
     },
     "metadata": {},
     "output_type": "display_data"
    },
    {
     "data": {
      "text/html": [
       "<pre style=\"white-space:pre;overflow-x:auto;line-height:normal;font-family:Menlo,'DejaVu Sans Mono',consolas,'Courier New',monospace\"><span style=\"color: #7fbfbf; text-decoration-color: #7fbfbf\">[20:34:02] </span>남은시간 = <span style=\"color: #800000; text-decoration-color: #800000; font-weight: bold\">84358초</span>                             <span style=\"color: #7f7f7f; text-decoration-color: #7f7f7f\">&lt;ipython-input-15-8bb000f4e062&gt;:123</span>\n",
       "</pre>\n"
      ],
      "text/plain": [
       "\u001b[2;36m[20:34:02]\u001b[0m\u001b[2;36m \u001b[0m남은시간 = \u001b[1;31m84358초\u001b[0m                             \u001b[2m<ipython-input-15-8bb000f4e062>\u001b[0m\u001b[2m:123\u001b[0m\n"
      ]
     },
     "metadata": {},
     "output_type": "display_data"
    },
    {
     "data": {
      "text/html": [
       "<pre style=\"white-space:pre;overflow-x:auto;line-height:normal;font-family:Menlo,'DejaVu Sans Mono',consolas,'Courier New',monospace\"><span style=\"color: #7fbfbf; text-decoration-color: #7fbfbf\">           </span>남은시간 = <span style=\"color: #800000; text-decoration-color: #800000; font-weight: bold\">84358초</span>                             <span style=\"color: #7f7f7f; text-decoration-color: #7f7f7f\">&lt;ipython-input-15-8bb000f4e062&gt;:123</span>\n",
       "</pre>\n"
      ],
      "text/plain": [
       "\u001b[2;36m          \u001b[0m\u001b[2;36m \u001b[0m남은시간 = \u001b[1;31m84358초\u001b[0m                             \u001b[2m<ipython-input-15-8bb000f4e062>\u001b[0m\u001b[2m:123\u001b[0m\n"
      ]
     },
     "metadata": {},
     "output_type": "display_data"
    },
    {
     "data": {
      "text/html": [
       "<pre style=\"white-space:pre;overflow-x:auto;line-height:normal;font-family:Menlo,'DejaVu Sans Mono',consolas,'Courier New',monospace\"><span style=\"color: #7fbfbf; text-decoration-color: #7fbfbf\">[20:34:03] </span>남은시간 = <span style=\"color: #800000; text-decoration-color: #800000; font-weight: bold\">84357초</span>                             <span style=\"color: #7f7f7f; text-decoration-color: #7f7f7f\">&lt;ipython-input-15-8bb000f4e062&gt;:123</span>\n",
       "</pre>\n"
      ],
      "text/plain": [
       "\u001b[2;36m[20:34:03]\u001b[0m\u001b[2;36m \u001b[0m남은시간 = \u001b[1;31m84357초\u001b[0m                             \u001b[2m<ipython-input-15-8bb000f4e062>\u001b[0m\u001b[2m:123\u001b[0m\n"
      ]
     },
     "metadata": {},
     "output_type": "display_data"
    },
    {
     "data": {
      "text/html": [
       "<pre style=\"white-space:pre;overflow-x:auto;line-height:normal;font-family:Menlo,'DejaVu Sans Mono',consolas,'Courier New',monospace\"><span style=\"color: #7fbfbf; text-decoration-color: #7fbfbf\">           </span>남은시간 = <span style=\"color: #800000; text-decoration-color: #800000; font-weight: bold\">84356초</span>                             <span style=\"color: #7f7f7f; text-decoration-color: #7f7f7f\">&lt;ipython-input-15-8bb000f4e062&gt;:123</span>\n",
       "</pre>\n"
      ],
      "text/plain": [
       "\u001b[2;36m          \u001b[0m\u001b[2;36m \u001b[0m남은시간 = \u001b[1;31m84356초\u001b[0m                             \u001b[2m<ipython-input-15-8bb000f4e062>\u001b[0m\u001b[2m:123\u001b[0m\n"
      ]
     },
     "metadata": {},
     "output_type": "display_data"
    },
    {
     "data": {
      "text/html": [
       "<pre style=\"white-space:pre;overflow-x:auto;line-height:normal;font-family:Menlo,'DejaVu Sans Mono',consolas,'Courier New',monospace\"><span style=\"color: #7fbfbf; text-decoration-color: #7fbfbf\">[20:34:05] </span>남은시간 = <span style=\"color: #800000; text-decoration-color: #800000; font-weight: bold\">84356초</span>                             <span style=\"color: #7f7f7f; text-decoration-color: #7f7f7f\">&lt;ipython-input-15-8bb000f4e062&gt;:123</span>\n",
       "</pre>\n"
      ],
      "text/plain": [
       "\u001b[2;36m[20:34:05]\u001b[0m\u001b[2;36m \u001b[0m남은시간 = \u001b[1;31m84356초\u001b[0m                             \u001b[2m<ipython-input-15-8bb000f4e062>\u001b[0m\u001b[2m:123\u001b[0m\n"
      ]
     },
     "metadata": {},
     "output_type": "display_data"
    },
    {
     "data": {
      "text/html": [
       "<pre style=\"white-space:pre;overflow-x:auto;line-height:normal;font-family:Menlo,'DejaVu Sans Mono',consolas,'Courier New',monospace\"><span style=\"color: #7fbfbf; text-decoration-color: #7fbfbf\">           </span>남은시간 = <span style=\"color: #800000; text-decoration-color: #800000; font-weight: bold\">84355초</span>                             <span style=\"color: #7f7f7f; text-decoration-color: #7f7f7f\">&lt;ipython-input-15-8bb000f4e062&gt;:123</span>\n",
       "</pre>\n"
      ],
      "text/plain": [
       "\u001b[2;36m          \u001b[0m\u001b[2;36m \u001b[0m남은시간 = \u001b[1;31m84355초\u001b[0m                             \u001b[2m<ipython-input-15-8bb000f4e062>\u001b[0m\u001b[2m:123\u001b[0m\n"
      ]
     },
     "metadata": {},
     "output_type": "display_data"
    },
    {
     "data": {
      "text/html": [
       "<pre style=\"white-space:pre;overflow-x:auto;line-height:normal;font-family:Menlo,'DejaVu Sans Mono',consolas,'Courier New',monospace\"><span style=\"color: #7fbfbf; text-decoration-color: #7fbfbf\">[20:34:06] </span>남은시간 = <span style=\"color: #800000; text-decoration-color: #800000; font-weight: bold\">84354초</span>                             <span style=\"color: #7f7f7f; text-decoration-color: #7f7f7f\">&lt;ipython-input-15-8bb000f4e062&gt;:123</span>\n",
       "</pre>\n"
      ],
      "text/plain": [
       "\u001b[2;36m[20:34:06]\u001b[0m\u001b[2;36m \u001b[0m남은시간 = \u001b[1;31m84354초\u001b[0m                             \u001b[2m<ipython-input-15-8bb000f4e062>\u001b[0m\u001b[2m:123\u001b[0m\n"
      ]
     },
     "metadata": {},
     "output_type": "display_data"
    },
    {
     "data": {
      "text/html": [
       "<pre style=\"white-space:pre;overflow-x:auto;line-height:normal;font-family:Menlo,'DejaVu Sans Mono',consolas,'Courier New',monospace\"><span style=\"color: #7fbfbf; text-decoration-color: #7fbfbf\">           </span>남은시간 = <span style=\"color: #800000; text-decoration-color: #800000; font-weight: bold\">84354초</span>                             <span style=\"color: #7f7f7f; text-decoration-color: #7f7f7f\">&lt;ipython-input-15-8bb000f4e062&gt;:123</span>\n",
       "</pre>\n"
      ],
      "text/plain": [
       "\u001b[2;36m          \u001b[0m\u001b[2;36m \u001b[0m남은시간 = \u001b[1;31m84354초\u001b[0m                             \u001b[2m<ipython-input-15-8bb000f4e062>\u001b[0m\u001b[2m:123\u001b[0m\n"
      ]
     },
     "metadata": {},
     "output_type": "display_data"
    },
    {
     "data": {
      "text/html": [
       "<pre style=\"white-space:pre;overflow-x:auto;line-height:normal;font-family:Menlo,'DejaVu Sans Mono',consolas,'Courier New',monospace\"><span style=\"color: #7fbfbf; text-decoration-color: #7fbfbf\">[20:34:07] </span>남은시간 = <span style=\"color: #800000; text-decoration-color: #800000; font-weight: bold\">84353초</span>                             <span style=\"color: #7f7f7f; text-decoration-color: #7f7f7f\">&lt;ipython-input-15-8bb000f4e062&gt;:123</span>\n",
       "</pre>\n"
      ],
      "text/plain": [
       "\u001b[2;36m[20:34:07]\u001b[0m\u001b[2;36m \u001b[0m남은시간 = \u001b[1;31m84353초\u001b[0m                             \u001b[2m<ipython-input-15-8bb000f4e062>\u001b[0m\u001b[2m:123\u001b[0m\n"
      ]
     },
     "metadata": {},
     "output_type": "display_data"
    },
    {
     "data": {
      "text/html": [
       "<pre style=\"white-space:pre;overflow-x:auto;line-height:normal;font-family:Menlo,'DejaVu Sans Mono',consolas,'Courier New',monospace\"><span style=\"color: #7fbfbf; text-decoration-color: #7fbfbf\">[20:34:08] </span>남은시간 = <span style=\"color: #800000; text-decoration-color: #800000; font-weight: bold\">84353초</span>                             <span style=\"color: #7f7f7f; text-decoration-color: #7f7f7f\">&lt;ipython-input-15-8bb000f4e062&gt;:123</span>\n",
       "</pre>\n"
      ],
      "text/plain": [
       "\u001b[2;36m[20:34:08]\u001b[0m\u001b[2;36m \u001b[0m남은시간 = \u001b[1;31m84353초\u001b[0m                             \u001b[2m<ipython-input-15-8bb000f4e062>\u001b[0m\u001b[2m:123\u001b[0m\n"
      ]
     },
     "metadata": {},
     "output_type": "display_data"
    },
    {
     "data": {
      "text/html": [
       "<pre style=\"white-space:pre;overflow-x:auto;line-height:normal;font-family:Menlo,'DejaVu Sans Mono',consolas,'Courier New',monospace\"><span style=\"color: #7fbfbf; text-decoration-color: #7fbfbf\">           </span>남은시간 = <span style=\"color: #800000; text-decoration-color: #800000; font-weight: bold\">84352초</span>                             <span style=\"color: #7f7f7f; text-decoration-color: #7f7f7f\">&lt;ipython-input-15-8bb000f4e062&gt;:123</span>\n",
       "</pre>\n"
      ],
      "text/plain": [
       "\u001b[2;36m          \u001b[0m\u001b[2;36m \u001b[0m남은시간 = \u001b[1;31m84352초\u001b[0m                             \u001b[2m<ipython-input-15-8bb000f4e062>\u001b[0m\u001b[2m:123\u001b[0m\n"
      ]
     },
     "metadata": {},
     "output_type": "display_data"
    },
    {
     "data": {
      "text/html": [
       "<pre style=\"white-space:pre;overflow-x:auto;line-height:normal;font-family:Menlo,'DejaVu Sans Mono',consolas,'Courier New',monospace\"><span style=\"color: #7fbfbf; text-decoration-color: #7fbfbf\">[20:34:09] </span>남은시간 = <span style=\"color: #800000; text-decoration-color: #800000; font-weight: bold\">84352초</span>                             <span style=\"color: #7f7f7f; text-decoration-color: #7f7f7f\">&lt;ipython-input-15-8bb000f4e062&gt;:123</span>\n",
       "</pre>\n"
      ],
      "text/plain": [
       "\u001b[2;36m[20:34:09]\u001b[0m\u001b[2;36m \u001b[0m남은시간 = \u001b[1;31m84352초\u001b[0m                             \u001b[2m<ipython-input-15-8bb000f4e062>\u001b[0m\u001b[2m:123\u001b[0m\n"
      ]
     },
     "metadata": {},
     "output_type": "display_data"
    },
    {
     "data": {
      "text/html": [
       "<pre style=\"white-space:pre;overflow-x:auto;line-height:normal;font-family:Menlo,'DejaVu Sans Mono',consolas,'Courier New',monospace\"><span style=\"color: #7fbfbf; text-decoration-color: #7fbfbf\">           </span>남은시간 = <span style=\"color: #800000; text-decoration-color: #800000; font-weight: bold\">84351초</span>                             <span style=\"color: #7f7f7f; text-decoration-color: #7f7f7f\">&lt;ipython-input-15-8bb000f4e062&gt;:123</span>\n",
       "</pre>\n"
      ],
      "text/plain": [
       "\u001b[2;36m          \u001b[0m\u001b[2;36m \u001b[0m남은시간 = \u001b[1;31m84351초\u001b[0m                             \u001b[2m<ipython-input-15-8bb000f4e062>\u001b[0m\u001b[2m:123\u001b[0m\n"
      ]
     },
     "metadata": {},
     "output_type": "display_data"
    },
    {
     "data": {
      "text/html": [
       "<pre style=\"white-space:pre;overflow-x:auto;line-height:normal;font-family:Menlo,'DejaVu Sans Mono',consolas,'Courier New',monospace\"><span style=\"color: #7fbfbf; text-decoration-color: #7fbfbf\">           </span>남은시간 = <span style=\"color: #800000; text-decoration-color: #800000; font-weight: bold\">84350초</span>                             <span style=\"color: #7f7f7f; text-decoration-color: #7f7f7f\">&lt;ipython-input-15-8bb000f4e062&gt;:123</span>\n",
       "</pre>\n"
      ],
      "text/plain": [
       "\u001b[2;36m          \u001b[0m\u001b[2;36m \u001b[0m남은시간 = \u001b[1;31m84350초\u001b[0m                             \u001b[2m<ipython-input-15-8bb000f4e062>\u001b[0m\u001b[2m:123\u001b[0m\n"
      ]
     },
     "metadata": {},
     "output_type": "display_data"
    },
    {
     "data": {
      "text/html": [
       "<pre style=\"white-space:pre;overflow-x:auto;line-height:normal;font-family:Menlo,'DejaVu Sans Mono',consolas,'Courier New',monospace\"><span style=\"color: #7fbfbf; text-decoration-color: #7fbfbf\">[20:34:11] </span>남은시간 = <span style=\"color: #800000; text-decoration-color: #800000; font-weight: bold\">84349초</span>                             <span style=\"color: #7f7f7f; text-decoration-color: #7f7f7f\">&lt;ipython-input-15-8bb000f4e062&gt;:123</span>\n",
       "</pre>\n"
      ],
      "text/plain": [
       "\u001b[2;36m[20:34:11]\u001b[0m\u001b[2;36m \u001b[0m남은시간 = \u001b[1;31m84349초\u001b[0m                             \u001b[2m<ipython-input-15-8bb000f4e062>\u001b[0m\u001b[2m:123\u001b[0m\n"
      ]
     },
     "metadata": {},
     "output_type": "display_data"
    },
    {
     "data": {
      "text/html": [
       "<pre style=\"white-space:pre;overflow-x:auto;line-height:normal;font-family:Menlo,'DejaVu Sans Mono',consolas,'Courier New',monospace\"><span style=\"color: #7fbfbf; text-decoration-color: #7fbfbf\">[20:34:12] </span>남은시간 = <span style=\"color: #800000; text-decoration-color: #800000; font-weight: bold\">84349초</span>                             <span style=\"color: #7f7f7f; text-decoration-color: #7f7f7f\">&lt;ipython-input-15-8bb000f4e062&gt;:123</span>\n",
       "</pre>\n"
      ],
      "text/plain": [
       "\u001b[2;36m[20:34:12]\u001b[0m\u001b[2;36m \u001b[0m남은시간 = \u001b[1;31m84349초\u001b[0m                             \u001b[2m<ipython-input-15-8bb000f4e062>\u001b[0m\u001b[2m:123\u001b[0m\n"
      ]
     },
     "metadata": {},
     "output_type": "display_data"
    },
    {
     "data": {
      "text/html": [
       "<pre style=\"white-space:pre;overflow-x:auto;line-height:normal;font-family:Menlo,'DejaVu Sans Mono',consolas,'Courier New',monospace\"><span style=\"color: #7fbfbf; text-decoration-color: #7fbfbf\">           </span>남은시간 = <span style=\"color: #800000; text-decoration-color: #800000; font-weight: bold\">84348초</span>                             <span style=\"color: #7f7f7f; text-decoration-color: #7f7f7f\">&lt;ipython-input-15-8bb000f4e062&gt;:123</span>\n",
       "</pre>\n"
      ],
      "text/plain": [
       "\u001b[2;36m          \u001b[0m\u001b[2;36m \u001b[0m남은시간 = \u001b[1;31m84348초\u001b[0m                             \u001b[2m<ipython-input-15-8bb000f4e062>\u001b[0m\u001b[2m:123\u001b[0m\n"
      ]
     },
     "metadata": {},
     "output_type": "display_data"
    },
    {
     "data": {
      "text/html": [
       "<pre style=\"white-space:pre;overflow-x:auto;line-height:normal;font-family:Menlo,'DejaVu Sans Mono',consolas,'Courier New',monospace\"><span style=\"color: #7fbfbf; text-decoration-color: #7fbfbf\">[20:34:13] </span>남은시간 = <span style=\"color: #800000; text-decoration-color: #800000; font-weight: bold\">84348초</span>                             <span style=\"color: #7f7f7f; text-decoration-color: #7f7f7f\">&lt;ipython-input-15-8bb000f4e062&gt;:123</span>\n",
       "</pre>\n"
      ],
      "text/plain": [
       "\u001b[2;36m[20:34:13]\u001b[0m\u001b[2;36m \u001b[0m남은시간 = \u001b[1;31m84348초\u001b[0m                             \u001b[2m<ipython-input-15-8bb000f4e062>\u001b[0m\u001b[2m:123\u001b[0m\n"
      ]
     },
     "metadata": {},
     "output_type": "display_data"
    },
    {
     "data": {
      "text/html": [
       "<pre style=\"white-space:pre;overflow-x:auto;line-height:normal;font-family:Menlo,'DejaVu Sans Mono',consolas,'Courier New',monospace\"><span style=\"color: #7fbfbf; text-decoration-color: #7fbfbf\">           </span>남은시간 = <span style=\"color: #800000; text-decoration-color: #800000; font-weight: bold\">84347초</span>                             <span style=\"color: #7f7f7f; text-decoration-color: #7f7f7f\">&lt;ipython-input-15-8bb000f4e062&gt;:123</span>\n",
       "</pre>\n"
      ],
      "text/plain": [
       "\u001b[2;36m          \u001b[0m\u001b[2;36m \u001b[0m남은시간 = \u001b[1;31m84347초\u001b[0m                             \u001b[2m<ipython-input-15-8bb000f4e062>\u001b[0m\u001b[2m:123\u001b[0m\n"
      ]
     },
     "metadata": {},
     "output_type": "display_data"
    },
    {
     "data": {
      "text/html": [
       "<pre style=\"white-space:pre;overflow-x:auto;line-height:normal;font-family:Menlo,'DejaVu Sans Mono',consolas,'Courier New',monospace\"><span style=\"color: #7fbfbf; text-decoration-color: #7fbfbf\">[20:34:14] </span>남은시간 = <span style=\"color: #800000; text-decoration-color: #800000; font-weight: bold\">84346초</span>                             <span style=\"color: #7f7f7f; text-decoration-color: #7f7f7f\">&lt;ipython-input-15-8bb000f4e062&gt;:123</span>\n",
       "</pre>\n"
      ],
      "text/plain": [
       "\u001b[2;36m[20:34:14]\u001b[0m\u001b[2;36m \u001b[0m남은시간 = \u001b[1;31m84346초\u001b[0m                             \u001b[2m<ipython-input-15-8bb000f4e062>\u001b[0m\u001b[2m:123\u001b[0m\n"
      ]
     },
     "metadata": {},
     "output_type": "display_data"
    },
    {
     "data": {
      "text/html": [
       "<pre style=\"white-space:pre;overflow-x:auto;line-height:normal;font-family:Menlo,'DejaVu Sans Mono',consolas,'Courier New',monospace\"><span style=\"color: #7fbfbf; text-decoration-color: #7fbfbf\">           </span>남은시간 = <span style=\"color: #800000; text-decoration-color: #800000; font-weight: bold\">84346초</span>                             <span style=\"color: #7f7f7f; text-decoration-color: #7f7f7f\">&lt;ipython-input-15-8bb000f4e062&gt;:123</span>\n",
       "</pre>\n"
      ],
      "text/plain": [
       "\u001b[2;36m          \u001b[0m\u001b[2;36m \u001b[0m남은시간 = \u001b[1;31m84346초\u001b[0m                             \u001b[2m<ipython-input-15-8bb000f4e062>\u001b[0m\u001b[2m:123\u001b[0m\n"
      ]
     },
     "metadata": {},
     "output_type": "display_data"
    },
    {
     "data": {
      "text/html": [
       "<pre style=\"white-space:pre;overflow-x:auto;line-height:normal;font-family:Menlo,'DejaVu Sans Mono',consolas,'Courier New',monospace\"><span style=\"color: #7fbfbf; text-decoration-color: #7fbfbf\">[20:34:15] </span>남은시간 = <span style=\"color: #800000; text-decoration-color: #800000; font-weight: bold\">84345초</span>                             <span style=\"color: #7f7f7f; text-decoration-color: #7f7f7f\">&lt;ipython-input-15-8bb000f4e062&gt;:123</span>\n",
       "</pre>\n"
      ],
      "text/plain": [
       "\u001b[2;36m[20:34:15]\u001b[0m\u001b[2;36m \u001b[0m남은시간 = \u001b[1;31m84345초\u001b[0m                             \u001b[2m<ipython-input-15-8bb000f4e062>\u001b[0m\u001b[2m:123\u001b[0m\n"
      ]
     },
     "metadata": {},
     "output_type": "display_data"
    },
    {
     "data": {
      "text/html": [
       "<pre style=\"white-space:pre;overflow-x:auto;line-height:normal;font-family:Menlo,'DejaVu Sans Mono',consolas,'Courier New',monospace\"><span style=\"color: #7fbfbf; text-decoration-color: #7fbfbf\">           </span>남은시간 = <span style=\"color: #800000; text-decoration-color: #800000; font-weight: bold\">84345초</span>                             <span style=\"color: #7f7f7f; text-decoration-color: #7f7f7f\">&lt;ipython-input-15-8bb000f4e062&gt;:123</span>\n",
       "</pre>\n"
      ],
      "text/plain": [
       "\u001b[2;36m          \u001b[0m\u001b[2;36m \u001b[0m남은시간 = \u001b[1;31m84345초\u001b[0m                             \u001b[2m<ipython-input-15-8bb000f4e062>\u001b[0m\u001b[2m:123\u001b[0m\n"
      ]
     },
     "metadata": {},
     "output_type": "display_data"
    },
    {
     "data": {
      "text/html": [
       "<pre style=\"white-space:pre;overflow-x:auto;line-height:normal;font-family:Menlo,'DejaVu Sans Mono',consolas,'Courier New',monospace\"><span style=\"color: #7fbfbf; text-decoration-color: #7fbfbf\">[20:34:16] </span>남은시간 = <span style=\"color: #800000; text-decoration-color: #800000; font-weight: bold\">84344초</span>                             <span style=\"color: #7f7f7f; text-decoration-color: #7f7f7f\">&lt;ipython-input-15-8bb000f4e062&gt;:123</span>\n",
       "</pre>\n"
      ],
      "text/plain": [
       "\u001b[2;36m[20:34:16]\u001b[0m\u001b[2;36m \u001b[0m남은시간 = \u001b[1;31m84344초\u001b[0m                             \u001b[2m<ipython-input-15-8bb000f4e062>\u001b[0m\u001b[2m:123\u001b[0m\n"
      ]
     },
     "metadata": {},
     "output_type": "display_data"
    },
    {
     "data": {
      "text/html": [
       "<pre style=\"white-space:pre;overflow-x:auto;line-height:normal;font-family:Menlo,'DejaVu Sans Mono',consolas,'Courier New',monospace\"><span style=\"color: #7fbfbf; text-decoration-color: #7fbfbf\">[20:34:17] </span>남은시간 = <span style=\"color: #800000; text-decoration-color: #800000; font-weight: bold\">84344초</span>                             <span style=\"color: #7f7f7f; text-decoration-color: #7f7f7f\">&lt;ipython-input-15-8bb000f4e062&gt;:123</span>\n",
       "</pre>\n"
      ],
      "text/plain": [
       "\u001b[2;36m[20:34:17]\u001b[0m\u001b[2;36m \u001b[0m남은시간 = \u001b[1;31m84344초\u001b[0m                             \u001b[2m<ipython-input-15-8bb000f4e062>\u001b[0m\u001b[2m:123\u001b[0m\n"
      ]
     },
     "metadata": {},
     "output_type": "display_data"
    },
    {
     "data": {
      "text/html": [
       "<pre style=\"white-space:pre;overflow-x:auto;line-height:normal;font-family:Menlo,'DejaVu Sans Mono',consolas,'Courier New',monospace\"><span style=\"color: #7fbfbf; text-decoration-color: #7fbfbf\">           </span>남은시간 = <span style=\"color: #800000; text-decoration-color: #800000; font-weight: bold\">84343초</span>                             <span style=\"color: #7f7f7f; text-decoration-color: #7f7f7f\">&lt;ipython-input-15-8bb000f4e062&gt;:123</span>\n",
       "</pre>\n"
      ],
      "text/plain": [
       "\u001b[2;36m          \u001b[0m\u001b[2;36m \u001b[0m남은시간 = \u001b[1;31m84343초\u001b[0m                             \u001b[2m<ipython-input-15-8bb000f4e062>\u001b[0m\u001b[2m:123\u001b[0m\n"
      ]
     },
     "metadata": {},
     "output_type": "display_data"
    },
    {
     "data": {
      "text/html": [
       "<pre style=\"white-space:pre;overflow-x:auto;line-height:normal;font-family:Menlo,'DejaVu Sans Mono',consolas,'Courier New',monospace\"><span style=\"color: #7fbfbf; text-decoration-color: #7fbfbf\">[20:34:18] </span>남은시간 = <span style=\"color: #800000; text-decoration-color: #800000; font-weight: bold\">84342초</span>                             <span style=\"color: #7f7f7f; text-decoration-color: #7f7f7f\">&lt;ipython-input-15-8bb000f4e062&gt;:123</span>\n",
       "</pre>\n"
      ],
      "text/plain": [
       "\u001b[2;36m[20:34:18]\u001b[0m\u001b[2;36m \u001b[0m남은시간 = \u001b[1;31m84342초\u001b[0m                             \u001b[2m<ipython-input-15-8bb000f4e062>\u001b[0m\u001b[2m:123\u001b[0m\n"
      ]
     },
     "metadata": {},
     "output_type": "display_data"
    },
    {
     "data": {
      "text/html": [
       "<pre style=\"white-space:pre;overflow-x:auto;line-height:normal;font-family:Menlo,'DejaVu Sans Mono',consolas,'Courier New',monospace\"><span style=\"color: #7fbfbf; text-decoration-color: #7fbfbf\">           </span>남은시간 = <span style=\"color: #800000; text-decoration-color: #800000; font-weight: bold\">84342초</span>                             <span style=\"color: #7f7f7f; text-decoration-color: #7f7f7f\">&lt;ipython-input-15-8bb000f4e062&gt;:123</span>\n",
       "</pre>\n"
      ],
      "text/plain": [
       "\u001b[2;36m          \u001b[0m\u001b[2;36m \u001b[0m남은시간 = \u001b[1;31m84342초\u001b[0m                             \u001b[2m<ipython-input-15-8bb000f4e062>\u001b[0m\u001b[2m:123\u001b[0m\n"
      ]
     },
     "metadata": {},
     "output_type": "display_data"
    },
    {
     "data": {
      "text/html": [
       "<pre style=\"white-space:pre;overflow-x:auto;line-height:normal;font-family:Menlo,'DejaVu Sans Mono',consolas,'Courier New',monospace\"><span style=\"color: #7fbfbf; text-decoration-color: #7fbfbf\">[20:34:19] </span>남은시간 = <span style=\"color: #800000; text-decoration-color: #800000; font-weight: bold\">84341초</span>                             <span style=\"color: #7f7f7f; text-decoration-color: #7f7f7f\">&lt;ipython-input-15-8bb000f4e062&gt;:123</span>\n",
       "</pre>\n"
      ],
      "text/plain": [
       "\u001b[2;36m[20:34:19]\u001b[0m\u001b[2;36m \u001b[0m남은시간 = \u001b[1;31m84341초\u001b[0m                             \u001b[2m<ipython-input-15-8bb000f4e062>\u001b[0m\u001b[2m:123\u001b[0m\n"
      ]
     },
     "metadata": {},
     "output_type": "display_data"
    },
    {
     "data": {
      "text/html": [
       "<pre style=\"white-space:pre;overflow-x:auto;line-height:normal;font-family:Menlo,'DejaVu Sans Mono',consolas,'Courier New',monospace\"><span style=\"color: #7fbfbf; text-decoration-color: #7fbfbf\">           </span>남은시간 = <span style=\"color: #800000; text-decoration-color: #800000; font-weight: bold\">84341초</span>                             <span style=\"color: #7f7f7f; text-decoration-color: #7f7f7f\">&lt;ipython-input-15-8bb000f4e062&gt;:123</span>\n",
       "</pre>\n"
      ],
      "text/plain": [
       "\u001b[2;36m          \u001b[0m\u001b[2;36m \u001b[0m남은시간 = \u001b[1;31m84341초\u001b[0m                             \u001b[2m<ipython-input-15-8bb000f4e062>\u001b[0m\u001b[2m:123\u001b[0m\n"
      ]
     },
     "metadata": {},
     "output_type": "display_data"
    },
    {
     "data": {
      "text/html": [
       "<pre style=\"white-space:pre;overflow-x:auto;line-height:normal;font-family:Menlo,'DejaVu Sans Mono',consolas,'Courier New',monospace\"><span style=\"color: #7fbfbf; text-decoration-color: #7fbfbf\">[20:34:20] </span>남은시간 = <span style=\"color: #800000; text-decoration-color: #800000; font-weight: bold\">84340초</span>                             <span style=\"color: #7f7f7f; text-decoration-color: #7f7f7f\">&lt;ipython-input-15-8bb000f4e062&gt;:123</span>\n",
       "</pre>\n"
      ],
      "text/plain": [
       "\u001b[2;36m[20:34:20]\u001b[0m\u001b[2;36m \u001b[0m남은시간 = \u001b[1;31m84340초\u001b[0m                             \u001b[2m<ipython-input-15-8bb000f4e062>\u001b[0m\u001b[2m:123\u001b[0m\n"
      ]
     },
     "metadata": {},
     "output_type": "display_data"
    },
    {
     "data": {
      "text/html": [
       "<pre style=\"white-space:pre;overflow-x:auto;line-height:normal;font-family:Menlo,'DejaVu Sans Mono',consolas,'Courier New',monospace\"><span style=\"color: #7fbfbf; text-decoration-color: #7fbfbf\">[20:34:21] </span>남은시간 = <span style=\"color: #800000; text-decoration-color: #800000; font-weight: bold\">84340초</span>                             <span style=\"color: #7f7f7f; text-decoration-color: #7f7f7f\">&lt;ipython-input-15-8bb000f4e062&gt;:123</span>\n",
       "</pre>\n"
      ],
      "text/plain": [
       "\u001b[2;36m[20:34:21]\u001b[0m\u001b[2;36m \u001b[0m남은시간 = \u001b[1;31m84340초\u001b[0m                             \u001b[2m<ipython-input-15-8bb000f4e062>\u001b[0m\u001b[2m:123\u001b[0m\n"
      ]
     },
     "metadata": {},
     "output_type": "display_data"
    },
    {
     "data": {
      "text/html": [
       "<pre style=\"white-space:pre;overflow-x:auto;line-height:normal;font-family:Menlo,'DejaVu Sans Mono',consolas,'Courier New',monospace\"><span style=\"color: #7fbfbf; text-decoration-color: #7fbfbf\">           </span>남은시간 = <span style=\"color: #800000; text-decoration-color: #800000; font-weight: bold\">84339초</span>                             <span style=\"color: #7f7f7f; text-decoration-color: #7f7f7f\">&lt;ipython-input-15-8bb000f4e062&gt;:123</span>\n",
       "</pre>\n"
      ],
      "text/plain": [
       "\u001b[2;36m          \u001b[0m\u001b[2;36m \u001b[0m남은시간 = \u001b[1;31m84339초\u001b[0m                             \u001b[2m<ipython-input-15-8bb000f4e062>\u001b[0m\u001b[2m:123\u001b[0m\n"
      ]
     },
     "metadata": {},
     "output_type": "display_data"
    },
    {
     "data": {
      "text/html": [
       "<pre style=\"white-space:pre;overflow-x:auto;line-height:normal;font-family:Menlo,'DejaVu Sans Mono',consolas,'Courier New',monospace\"><span style=\"color: #7fbfbf; text-decoration-color: #7fbfbf\">[20:34:22] </span>남은시간 = <span style=\"color: #800000; text-decoration-color: #800000; font-weight: bold\">84339초</span>                             <span style=\"color: #7f7f7f; text-decoration-color: #7f7f7f\">&lt;ipython-input-15-8bb000f4e062&gt;:123</span>\n",
       "</pre>\n"
      ],
      "text/plain": [
       "\u001b[2;36m[20:34:22]\u001b[0m\u001b[2;36m \u001b[0m남은시간 = \u001b[1;31m84339초\u001b[0m                             \u001b[2m<ipython-input-15-8bb000f4e062>\u001b[0m\u001b[2m:123\u001b[0m\n"
      ]
     },
     "metadata": {},
     "output_type": "display_data"
    },
    {
     "data": {
      "text/html": [
       "<pre style=\"white-space:pre;overflow-x:auto;line-height:normal;font-family:Menlo,'DejaVu Sans Mono',consolas,'Courier New',monospace\"><span style=\"color: #7fbfbf; text-decoration-color: #7fbfbf\">           </span>남은시간 = <span style=\"color: #800000; text-decoration-color: #800000; font-weight: bold\">84338초</span>                             <span style=\"color: #7f7f7f; text-decoration-color: #7f7f7f\">&lt;ipython-input-15-8bb000f4e062&gt;:123</span>\n",
       "</pre>\n"
      ],
      "text/plain": [
       "\u001b[2;36m          \u001b[0m\u001b[2;36m \u001b[0m남은시간 = \u001b[1;31m84338초\u001b[0m                             \u001b[2m<ipython-input-15-8bb000f4e062>\u001b[0m\u001b[2m:123\u001b[0m\n"
      ]
     },
     "metadata": {},
     "output_type": "display_data"
    },
    {
     "data": {
      "text/html": [
       "<pre style=\"white-space:pre;overflow-x:auto;line-height:normal;font-family:Menlo,'DejaVu Sans Mono',consolas,'Courier New',monospace\"><span style=\"color: #7fbfbf; text-decoration-color: #7fbfbf\">[20:34:23] </span>남은시간 = <span style=\"color: #800000; text-decoration-color: #800000; font-weight: bold\">84337초</span>                             <span style=\"color: #7f7f7f; text-decoration-color: #7f7f7f\">&lt;ipython-input-15-8bb000f4e062&gt;:123</span>\n",
       "</pre>\n"
      ],
      "text/plain": [
       "\u001b[2;36m[20:34:23]\u001b[0m\u001b[2;36m \u001b[0m남은시간 = \u001b[1;31m84337초\u001b[0m                             \u001b[2m<ipython-input-15-8bb000f4e062>\u001b[0m\u001b[2m:123\u001b[0m\n"
      ]
     },
     "metadata": {},
     "output_type": "display_data"
    },
    {
     "data": {
      "text/html": [
       "<pre style=\"white-space:pre;overflow-x:auto;line-height:normal;font-family:Menlo,'DejaVu Sans Mono',consolas,'Courier New',monospace\"><span style=\"color: #7fbfbf; text-decoration-color: #7fbfbf\">           </span>남은시간 = <span style=\"color: #800000; text-decoration-color: #800000; font-weight: bold\">84337초</span>                             <span style=\"color: #7f7f7f; text-decoration-color: #7f7f7f\">&lt;ipython-input-15-8bb000f4e062&gt;:123</span>\n",
       "</pre>\n"
      ],
      "text/plain": [
       "\u001b[2;36m          \u001b[0m\u001b[2;36m \u001b[0m남은시간 = \u001b[1;31m84337초\u001b[0m                             \u001b[2m<ipython-input-15-8bb000f4e062>\u001b[0m\u001b[2m:123\u001b[0m\n"
      ]
     },
     "metadata": {},
     "output_type": "display_data"
    },
    {
     "data": {
      "text/html": [
       "<pre style=\"white-space:pre;overflow-x:auto;line-height:normal;font-family:Menlo,'DejaVu Sans Mono',consolas,'Courier New',monospace\"><span style=\"color: #7fbfbf; text-decoration-color: #7fbfbf\">[20:34:25] </span>남은시간 = <span style=\"color: #800000; text-decoration-color: #800000; font-weight: bold\">84336초</span>                             <span style=\"color: #7f7f7f; text-decoration-color: #7f7f7f\">&lt;ipython-input-15-8bb000f4e062&gt;:123</span>\n",
       "</pre>\n"
      ],
      "text/plain": [
       "\u001b[2;36m[20:34:25]\u001b[0m\u001b[2;36m \u001b[0m남은시간 = \u001b[1;31m84336초\u001b[0m                             \u001b[2m<ipython-input-15-8bb000f4e062>\u001b[0m\u001b[2m:123\u001b[0m\n"
      ]
     },
     "metadata": {},
     "output_type": "display_data"
    },
    {
     "data": {
      "text/html": [
       "<pre style=\"white-space:pre;overflow-x:auto;line-height:normal;font-family:Menlo,'DejaVu Sans Mono',consolas,'Courier New',monospace\"><span style=\"color: #7fbfbf; text-decoration-color: #7fbfbf\">           </span>남은시간 = <span style=\"color: #800000; text-decoration-color: #800000; font-weight: bold\">84335초</span>                             <span style=\"color: #7f7f7f; text-decoration-color: #7f7f7f\">&lt;ipython-input-15-8bb000f4e062&gt;:123</span>\n",
       "</pre>\n"
      ],
      "text/plain": [
       "\u001b[2;36m          \u001b[0m\u001b[2;36m \u001b[0m남은시간 = \u001b[1;31m84335초\u001b[0m                             \u001b[2m<ipython-input-15-8bb000f4e062>\u001b[0m\u001b[2m:123\u001b[0m\n"
      ]
     },
     "metadata": {},
     "output_type": "display_data"
    },
    {
     "data": {
      "text/html": [
       "<pre style=\"white-space:pre;overflow-x:auto;line-height:normal;font-family:Menlo,'DejaVu Sans Mono',consolas,'Courier New',monospace\"><span style=\"color: #7fbfbf; text-decoration-color: #7fbfbf\">[20:34:26] </span>남은시간 = <span style=\"color: #800000; text-decoration-color: #800000; font-weight: bold\">84335초</span>                             <span style=\"color: #7f7f7f; text-decoration-color: #7f7f7f\">&lt;ipython-input-15-8bb000f4e062&gt;:123</span>\n",
       "</pre>\n"
      ],
      "text/plain": [
       "\u001b[2;36m[20:34:26]\u001b[0m\u001b[2;36m \u001b[0m남은시간 = \u001b[1;31m84335초\u001b[0m                             \u001b[2m<ipython-input-15-8bb000f4e062>\u001b[0m\u001b[2m:123\u001b[0m\n"
      ]
     },
     "metadata": {},
     "output_type": "display_data"
    },
    {
     "data": {
      "text/html": [
       "<pre style=\"white-space:pre;overflow-x:auto;line-height:normal;font-family:Menlo,'DejaVu Sans Mono',consolas,'Courier New',monospace\"><span style=\"color: #7fbfbf; text-decoration-color: #7fbfbf\">[20:34:27] </span>남은시간 = <span style=\"color: #800000; text-decoration-color: #800000; font-weight: bold\">84333초</span>                             <span style=\"color: #7f7f7f; text-decoration-color: #7f7f7f\">&lt;ipython-input-15-8bb000f4e062&gt;:123</span>\n",
       "</pre>\n"
      ],
      "text/plain": [
       "\u001b[2;36m[20:34:27]\u001b[0m\u001b[2;36m \u001b[0m남은시간 = \u001b[1;31m84333초\u001b[0m                             \u001b[2m<ipython-input-15-8bb000f4e062>\u001b[0m\u001b[2m:123\u001b[0m\n"
      ]
     },
     "metadata": {},
     "output_type": "display_data"
    },
    {
     "data": {
      "text/html": [
       "<pre style=\"white-space:pre;overflow-x:auto;line-height:normal;font-family:Menlo,'DejaVu Sans Mono',consolas,'Courier New',monospace\"><span style=\"color: #7fbfbf; text-decoration-color: #7fbfbf\">           </span>남은시간 = <span style=\"color: #800000; text-decoration-color: #800000; font-weight: bold\">84333초</span>                             <span style=\"color: #7f7f7f; text-decoration-color: #7f7f7f\">&lt;ipython-input-15-8bb000f4e062&gt;:123</span>\n",
       "</pre>\n"
      ],
      "text/plain": [
       "\u001b[2;36m          \u001b[0m\u001b[2;36m \u001b[0m남은시간 = \u001b[1;31m84333초\u001b[0m                             \u001b[2m<ipython-input-15-8bb000f4e062>\u001b[0m\u001b[2m:123\u001b[0m\n"
      ]
     },
     "metadata": {},
     "output_type": "display_data"
    },
    {
     "data": {
      "text/html": [
       "<pre style=\"white-space:pre;overflow-x:auto;line-height:normal;font-family:Menlo,'DejaVu Sans Mono',consolas,'Courier New',monospace\"><span style=\"color: #7fbfbf; text-decoration-color: #7fbfbf\">[20:34:28] </span>남은시간 = <span style=\"color: #800000; text-decoration-color: #800000; font-weight: bold\">84332초</span>                             <span style=\"color: #7f7f7f; text-decoration-color: #7f7f7f\">&lt;ipython-input-15-8bb000f4e062&gt;:123</span>\n",
       "</pre>\n"
      ],
      "text/plain": [
       "\u001b[2;36m[20:34:28]\u001b[0m\u001b[2;36m \u001b[0m남은시간 = \u001b[1;31m84332초\u001b[0m                             \u001b[2m<ipython-input-15-8bb000f4e062>\u001b[0m\u001b[2m:123\u001b[0m\n"
      ]
     },
     "metadata": {},
     "output_type": "display_data"
    },
    {
     "data": {
      "text/html": [
       "<pre style=\"white-space:pre;overflow-x:auto;line-height:normal;font-family:Menlo,'DejaVu Sans Mono',consolas,'Courier New',monospace\"><span style=\"color: #7fbfbf; text-decoration-color: #7fbfbf\">           </span>남은시간 = <span style=\"color: #800000; text-decoration-color: #800000; font-weight: bold\">84332초</span>                             <span style=\"color: #7f7f7f; text-decoration-color: #7f7f7f\">&lt;ipython-input-15-8bb000f4e062&gt;:123</span>\n",
       "</pre>\n"
      ],
      "text/plain": [
       "\u001b[2;36m          \u001b[0m\u001b[2;36m \u001b[0m남은시간 = \u001b[1;31m84332초\u001b[0m                             \u001b[2m<ipython-input-15-8bb000f4e062>\u001b[0m\u001b[2m:123\u001b[0m\n"
      ]
     },
     "metadata": {},
     "output_type": "display_data"
    },
    {
     "data": {
      "text/html": [
       "<pre style=\"white-space:pre;overflow-x:auto;line-height:normal;font-family:Menlo,'DejaVu Sans Mono',consolas,'Courier New',monospace\"><span style=\"color: #7fbfbf; text-decoration-color: #7fbfbf\">[20:34:29] </span>남은시간 = <span style=\"color: #800000; text-decoration-color: #800000; font-weight: bold\">84331초</span>                             <span style=\"color: #7f7f7f; text-decoration-color: #7f7f7f\">&lt;ipython-input-15-8bb000f4e062&gt;:123</span>\n",
       "</pre>\n"
      ],
      "text/plain": [
       "\u001b[2;36m[20:34:29]\u001b[0m\u001b[2;36m \u001b[0m남은시간 = \u001b[1;31m84331초\u001b[0m                             \u001b[2m<ipython-input-15-8bb000f4e062>\u001b[0m\u001b[2m:123\u001b[0m\n"
      ]
     },
     "metadata": {},
     "output_type": "display_data"
    },
    {
     "data": {
      "text/html": [
       "<pre style=\"white-space:pre;overflow-x:auto;line-height:normal;font-family:Menlo,'DejaVu Sans Mono',consolas,'Courier New',monospace\"><span style=\"color: #7fbfbf; text-decoration-color: #7fbfbf\">[20:34:30] </span>남은시간 = <span style=\"color: #800000; text-decoration-color: #800000; font-weight: bold\">84331초</span>                             <span style=\"color: #7f7f7f; text-decoration-color: #7f7f7f\">&lt;ipython-input-15-8bb000f4e062&gt;:123</span>\n",
       "</pre>\n"
      ],
      "text/plain": [
       "\u001b[2;36m[20:34:30]\u001b[0m\u001b[2;36m \u001b[0m남은시간 = \u001b[1;31m84331초\u001b[0m                             \u001b[2m<ipython-input-15-8bb000f4e062>\u001b[0m\u001b[2m:123\u001b[0m\n"
      ]
     },
     "metadata": {},
     "output_type": "display_data"
    },
    {
     "data": {
      "text/html": [
       "<pre style=\"white-space:pre;overflow-x:auto;line-height:normal;font-family:Menlo,'DejaVu Sans Mono',consolas,'Courier New',monospace\"><span style=\"color: #7fbfbf; text-decoration-color: #7fbfbf\">           </span>남은시간 = <span style=\"color: #800000; text-decoration-color: #800000; font-weight: bold\">84330초</span>                             <span style=\"color: #7f7f7f; text-decoration-color: #7f7f7f\">&lt;ipython-input-15-8bb000f4e062&gt;:123</span>\n",
       "</pre>\n"
      ],
      "text/plain": [
       "\u001b[2;36m          \u001b[0m\u001b[2;36m \u001b[0m남은시간 = \u001b[1;31m84330초\u001b[0m                             \u001b[2m<ipython-input-15-8bb000f4e062>\u001b[0m\u001b[2m:123\u001b[0m\n"
      ]
     },
     "metadata": {},
     "output_type": "display_data"
    },
    {
     "data": {
      "text/html": [
       "<pre style=\"white-space:pre;overflow-x:auto;line-height:normal;font-family:Menlo,'DejaVu Sans Mono',consolas,'Courier New',monospace\"><span style=\"color: #7fbfbf; text-decoration-color: #7fbfbf\">[20:34:31] </span>남은시간 = <span style=\"color: #800000; text-decoration-color: #800000; font-weight: bold\">84330초</span>                             <span style=\"color: #7f7f7f; text-decoration-color: #7f7f7f\">&lt;ipython-input-15-8bb000f4e062&gt;:123</span>\n",
       "</pre>\n"
      ],
      "text/plain": [
       "\u001b[2;36m[20:34:31]\u001b[0m\u001b[2;36m \u001b[0m남은시간 = \u001b[1;31m84330초\u001b[0m                             \u001b[2m<ipython-input-15-8bb000f4e062>\u001b[0m\u001b[2m:123\u001b[0m\n"
      ]
     },
     "metadata": {},
     "output_type": "display_data"
    },
    {
     "data": {
      "text/html": [
       "<pre style=\"white-space:pre;overflow-x:auto;line-height:normal;font-family:Menlo,'DejaVu Sans Mono',consolas,'Courier New',monospace\"><span style=\"color: #7fbfbf; text-decoration-color: #7fbfbf\">           </span>남은시간 = <span style=\"color: #800000; text-decoration-color: #800000; font-weight: bold\">84329초</span>                             <span style=\"color: #7f7f7f; text-decoration-color: #7f7f7f\">&lt;ipython-input-15-8bb000f4e062&gt;:123</span>\n",
       "</pre>\n"
      ],
      "text/plain": [
       "\u001b[2;36m          \u001b[0m\u001b[2;36m \u001b[0m남은시간 = \u001b[1;31m84329초\u001b[0m                             \u001b[2m<ipython-input-15-8bb000f4e062>\u001b[0m\u001b[2m:123\u001b[0m\n"
      ]
     },
     "metadata": {},
     "output_type": "display_data"
    },
    {
     "data": {
      "text/html": [
       "<pre style=\"white-space:pre;overflow-x:auto;line-height:normal;font-family:Menlo,'DejaVu Sans Mono',consolas,'Courier New',monospace\"><span style=\"color: #7fbfbf; text-decoration-color: #7fbfbf\">[20:34:32] </span>남은시간 = <span style=\"color: #800000; text-decoration-color: #800000; font-weight: bold\">84328초</span>                             <span style=\"color: #7f7f7f; text-decoration-color: #7f7f7f\">&lt;ipython-input-15-8bb000f4e062&gt;:123</span>\n",
       "</pre>\n"
      ],
      "text/plain": [
       "\u001b[2;36m[20:34:32]\u001b[0m\u001b[2;36m \u001b[0m남은시간 = \u001b[1;31m84328초\u001b[0m                             \u001b[2m<ipython-input-15-8bb000f4e062>\u001b[0m\u001b[2m:123\u001b[0m\n"
      ]
     },
     "metadata": {},
     "output_type": "display_data"
    },
    {
     "data": {
      "text/html": [
       "<pre style=\"white-space:pre;overflow-x:auto;line-height:normal;font-family:Menlo,'DejaVu Sans Mono',consolas,'Courier New',monospace\"><span style=\"color: #7fbfbf; text-decoration-color: #7fbfbf\">           </span>남은시간 = <span style=\"color: #800000; text-decoration-color: #800000; font-weight: bold\">84328초</span>                             <span style=\"color: #7f7f7f; text-decoration-color: #7f7f7f\">&lt;ipython-input-15-8bb000f4e062&gt;:123</span>\n",
       "</pre>\n"
      ],
      "text/plain": [
       "\u001b[2;36m          \u001b[0m\u001b[2;36m \u001b[0m남은시간 = \u001b[1;31m84328초\u001b[0m                             \u001b[2m<ipython-input-15-8bb000f4e062>\u001b[0m\u001b[2m:123\u001b[0m\n"
      ]
     },
     "metadata": {},
     "output_type": "display_data"
    },
    {
     "data": {
      "text/html": [
       "<pre style=\"white-space:pre;overflow-x:auto;line-height:normal;font-family:Menlo,'DejaVu Sans Mono',consolas,'Courier New',monospace\"><span style=\"color: #7fbfbf; text-decoration-color: #7fbfbf\">[20:34:33] </span>남은시간 = <span style=\"color: #800000; text-decoration-color: #800000; font-weight: bold\">84327초</span>                             <span style=\"color: #7f7f7f; text-decoration-color: #7f7f7f\">&lt;ipython-input-15-8bb000f4e062&gt;:123</span>\n",
       "</pre>\n"
      ],
      "text/plain": [
       "\u001b[2;36m[20:34:33]\u001b[0m\u001b[2;36m \u001b[0m남은시간 = \u001b[1;31m84327초\u001b[0m                             \u001b[2m<ipython-input-15-8bb000f4e062>\u001b[0m\u001b[2m:123\u001b[0m\n"
      ]
     },
     "metadata": {},
     "output_type": "display_data"
    },
    {
     "data": {
      "text/html": [
       "<pre style=\"white-space:pre;overflow-x:auto;line-height:normal;font-family:Menlo,'DejaVu Sans Mono',consolas,'Courier New',monospace\"><span style=\"color: #7fbfbf; text-decoration-color: #7fbfbf\">[20:34:34] </span>남은시간 = <span style=\"color: #800000; text-decoration-color: #800000; font-weight: bold\">84327초</span>                             <span style=\"color: #7f7f7f; text-decoration-color: #7f7f7f\">&lt;ipython-input-15-8bb000f4e062&gt;:123</span>\n",
       "</pre>\n"
      ],
      "text/plain": [
       "\u001b[2;36m[20:34:34]\u001b[0m\u001b[2;36m \u001b[0m남은시간 = \u001b[1;31m84327초\u001b[0m                             \u001b[2m<ipython-input-15-8bb000f4e062>\u001b[0m\u001b[2m:123\u001b[0m\n"
      ]
     },
     "metadata": {},
     "output_type": "display_data"
    },
    {
     "data": {
      "text/html": [
       "<pre style=\"white-space:pre;overflow-x:auto;line-height:normal;font-family:Menlo,'DejaVu Sans Mono',consolas,'Courier New',monospace\"><span style=\"color: #7fbfbf; text-decoration-color: #7fbfbf\">           </span>남은시간 = <span style=\"color: #800000; text-decoration-color: #800000; font-weight: bold\">84326초</span>                             <span style=\"color: #7f7f7f; text-decoration-color: #7f7f7f\">&lt;ipython-input-15-8bb000f4e062&gt;:123</span>\n",
       "</pre>\n"
      ],
      "text/plain": [
       "\u001b[2;36m          \u001b[0m\u001b[2;36m \u001b[0m남은시간 = \u001b[1;31m84326초\u001b[0m                             \u001b[2m<ipython-input-15-8bb000f4e062>\u001b[0m\u001b[2m:123\u001b[0m\n"
      ]
     },
     "metadata": {},
     "output_type": "display_data"
    },
    {
     "data": {
      "text/html": [
       "<pre style=\"white-space:pre;overflow-x:auto;line-height:normal;font-family:Menlo,'DejaVu Sans Mono',consolas,'Courier New',monospace\"><span style=\"color: #7fbfbf; text-decoration-color: #7fbfbf\">[20:34:35] </span>남은시간 = <span style=\"color: #800000; text-decoration-color: #800000; font-weight: bold\">84326초</span>                             <span style=\"color: #7f7f7f; text-decoration-color: #7f7f7f\">&lt;ipython-input-15-8bb000f4e062&gt;:123</span>\n",
       "</pre>\n"
      ],
      "text/plain": [
       "\u001b[2;36m[20:34:35]\u001b[0m\u001b[2;36m \u001b[0m남은시간 = \u001b[1;31m84326초\u001b[0m                             \u001b[2m<ipython-input-15-8bb000f4e062>\u001b[0m\u001b[2m:123\u001b[0m\n"
      ]
     },
     "metadata": {},
     "output_type": "display_data"
    },
    {
     "data": {
      "text/html": [
       "<pre style=\"white-space:pre;overflow-x:auto;line-height:normal;font-family:Menlo,'DejaVu Sans Mono',consolas,'Courier New',monospace\"><span style=\"color: #7fbfbf; text-decoration-color: #7fbfbf\">           </span>남은시간 = <span style=\"color: #800000; text-decoration-color: #800000; font-weight: bold\">84325초</span>                             <span style=\"color: #7f7f7f; text-decoration-color: #7f7f7f\">&lt;ipython-input-15-8bb000f4e062&gt;:123</span>\n",
       "</pre>\n"
      ],
      "text/plain": [
       "\u001b[2;36m          \u001b[0m\u001b[2;36m \u001b[0m남은시간 = \u001b[1;31m84325초\u001b[0m                             \u001b[2m<ipython-input-15-8bb000f4e062>\u001b[0m\u001b[2m:123\u001b[0m\n"
      ]
     },
     "metadata": {},
     "output_type": "display_data"
    },
    {
     "data": {
      "text/html": [
       "<pre style=\"white-space:pre;overflow-x:auto;line-height:normal;font-family:Menlo,'DejaVu Sans Mono',consolas,'Courier New',monospace\"><span style=\"color: #7fbfbf; text-decoration-color: #7fbfbf\">[20:34:36] </span>남은시간 = <span style=\"color: #800000; text-decoration-color: #800000; font-weight: bold\">84324초</span>                             <span style=\"color: #7f7f7f; text-decoration-color: #7f7f7f\">&lt;ipython-input-15-8bb000f4e062&gt;:123</span>\n",
       "</pre>\n"
      ],
      "text/plain": [
       "\u001b[2;36m[20:34:36]\u001b[0m\u001b[2;36m \u001b[0m남은시간 = \u001b[1;31m84324초\u001b[0m                             \u001b[2m<ipython-input-15-8bb000f4e062>\u001b[0m\u001b[2m:123\u001b[0m\n"
      ]
     },
     "metadata": {},
     "output_type": "display_data"
    },
    {
     "data": {
      "text/html": [
       "<pre style=\"white-space:pre;overflow-x:auto;line-height:normal;font-family:Menlo,'DejaVu Sans Mono',consolas,'Courier New',monospace\"><span style=\"color: #7fbfbf; text-decoration-color: #7fbfbf\">           </span>남은시간 = <span style=\"color: #800000; text-decoration-color: #800000; font-weight: bold\">84324초</span>                             <span style=\"color: #7f7f7f; text-decoration-color: #7f7f7f\">&lt;ipython-input-15-8bb000f4e062&gt;:123</span>\n",
       "</pre>\n"
      ],
      "text/plain": [
       "\u001b[2;36m          \u001b[0m\u001b[2;36m \u001b[0m남은시간 = \u001b[1;31m84324초\u001b[0m                             \u001b[2m<ipython-input-15-8bb000f4e062>\u001b[0m\u001b[2m:123\u001b[0m\n"
      ]
     },
     "metadata": {},
     "output_type": "display_data"
    },
    {
     "data": {
      "text/html": [
       "<pre style=\"white-space:pre;overflow-x:auto;line-height:normal;font-family:Menlo,'DejaVu Sans Mono',consolas,'Courier New',monospace\"><span style=\"color: #7fbfbf; text-decoration-color: #7fbfbf\">[20:34:37] </span>남은시간 = <span style=\"color: #800000; text-decoration-color: #800000; font-weight: bold\">84323초</span>                             <span style=\"color: #7f7f7f; text-decoration-color: #7f7f7f\">&lt;ipython-input-15-8bb000f4e062&gt;:123</span>\n",
       "</pre>\n"
      ],
      "text/plain": [
       "\u001b[2;36m[20:34:37]\u001b[0m\u001b[2;36m \u001b[0m남은시간 = \u001b[1;31m84323초\u001b[0m                             \u001b[2m<ipython-input-15-8bb000f4e062>\u001b[0m\u001b[2m:123\u001b[0m\n"
      ]
     },
     "metadata": {},
     "output_type": "display_data"
    },
    {
     "data": {
      "text/html": [
       "<pre style=\"white-space:pre;overflow-x:auto;line-height:normal;font-family:Menlo,'DejaVu Sans Mono',consolas,'Courier New',monospace\"><span style=\"color: #7fbfbf; text-decoration-color: #7fbfbf\">[20:34:38] </span>남은시간 = <span style=\"color: #800000; text-decoration-color: #800000; font-weight: bold\">84323초</span>                             <span style=\"color: #7f7f7f; text-decoration-color: #7f7f7f\">&lt;ipython-input-15-8bb000f4e062&gt;:123</span>\n",
       "</pre>\n"
      ],
      "text/plain": [
       "\u001b[2;36m[20:34:38]\u001b[0m\u001b[2;36m \u001b[0m남은시간 = \u001b[1;31m84323초\u001b[0m                             \u001b[2m<ipython-input-15-8bb000f4e062>\u001b[0m\u001b[2m:123\u001b[0m\n"
      ]
     },
     "metadata": {},
     "output_type": "display_data"
    },
    {
     "data": {
      "text/html": [
       "<pre style=\"white-space:pre;overflow-x:auto;line-height:normal;font-family:Menlo,'DejaVu Sans Mono',consolas,'Courier New',monospace\"><span style=\"color: #7fbfbf; text-decoration-color: #7fbfbf\">           </span>남은시간 = <span style=\"color: #800000; text-decoration-color: #800000; font-weight: bold\">84322초</span>                             <span style=\"color: #7f7f7f; text-decoration-color: #7f7f7f\">&lt;ipython-input-15-8bb000f4e062&gt;:123</span>\n",
       "</pre>\n"
      ],
      "text/plain": [
       "\u001b[2;36m          \u001b[0m\u001b[2;36m \u001b[0m남은시간 = \u001b[1;31m84322초\u001b[0m                             \u001b[2m<ipython-input-15-8bb000f4e062>\u001b[0m\u001b[2m:123\u001b[0m\n"
      ]
     },
     "metadata": {},
     "output_type": "display_data"
    },
    {
     "data": {
      "text/html": [
       "<pre style=\"white-space:pre;overflow-x:auto;line-height:normal;font-family:Menlo,'DejaVu Sans Mono',consolas,'Courier New',monospace\"><span style=\"color: #7fbfbf; text-decoration-color: #7fbfbf\">[20:34:39] </span>남은시간 = <span style=\"color: #800000; text-decoration-color: #800000; font-weight: bold\">84321초</span>                             <span style=\"color: #7f7f7f; text-decoration-color: #7f7f7f\">&lt;ipython-input-15-8bb000f4e062&gt;:123</span>\n",
       "</pre>\n"
      ],
      "text/plain": [
       "\u001b[2;36m[20:34:39]\u001b[0m\u001b[2;36m \u001b[0m남은시간 = \u001b[1;31m84321초\u001b[0m                             \u001b[2m<ipython-input-15-8bb000f4e062>\u001b[0m\u001b[2m:123\u001b[0m\n"
      ]
     },
     "metadata": {},
     "output_type": "display_data"
    },
    {
     "data": {
      "text/html": [
       "<pre style=\"white-space:pre;overflow-x:auto;line-height:normal;font-family:Menlo,'DejaVu Sans Mono',consolas,'Courier New',monospace\"><span style=\"color: #7fbfbf; text-decoration-color: #7fbfbf\">           </span>남은시간 = <span style=\"color: #800000; text-decoration-color: #800000; font-weight: bold\">84321초</span>                             <span style=\"color: #7f7f7f; text-decoration-color: #7f7f7f\">&lt;ipython-input-15-8bb000f4e062&gt;:123</span>\n",
       "</pre>\n"
      ],
      "text/plain": [
       "\u001b[2;36m          \u001b[0m\u001b[2;36m \u001b[0m남은시간 = \u001b[1;31m84321초\u001b[0m                             \u001b[2m<ipython-input-15-8bb000f4e062>\u001b[0m\u001b[2m:123\u001b[0m\n"
      ]
     },
     "metadata": {},
     "output_type": "display_data"
    },
    {
     "data": {
      "text/html": [
       "<pre style=\"white-space:pre;overflow-x:auto;line-height:normal;font-family:Menlo,'DejaVu Sans Mono',consolas,'Courier New',monospace\"><span style=\"color: #7fbfbf; text-decoration-color: #7fbfbf\">[20:34:40] </span>남은시간 = <span style=\"color: #800000; text-decoration-color: #800000; font-weight: bold\">84320초</span>                             <span style=\"color: #7f7f7f; text-decoration-color: #7f7f7f\">&lt;ipython-input-15-8bb000f4e062&gt;:123</span>\n",
       "</pre>\n"
      ],
      "text/plain": [
       "\u001b[2;36m[20:34:40]\u001b[0m\u001b[2;36m \u001b[0m남은시간 = \u001b[1;31m84320초\u001b[0m                             \u001b[2m<ipython-input-15-8bb000f4e062>\u001b[0m\u001b[2m:123\u001b[0m\n"
      ]
     },
     "metadata": {},
     "output_type": "display_data"
    },
    {
     "data": {
      "text/html": [
       "<pre style=\"white-space:pre;overflow-x:auto;line-height:normal;font-family:Menlo,'DejaVu Sans Mono',consolas,'Courier New',monospace\"><span style=\"color: #7fbfbf; text-decoration-color: #7fbfbf\">           </span>남은시간 = <span style=\"color: #800000; text-decoration-color: #800000; font-weight: bold\">84320초</span>                             <span style=\"color: #7f7f7f; text-decoration-color: #7f7f7f\">&lt;ipython-input-15-8bb000f4e062&gt;:123</span>\n",
       "</pre>\n"
      ],
      "text/plain": [
       "\u001b[2;36m          \u001b[0m\u001b[2;36m \u001b[0m남은시간 = \u001b[1;31m84320초\u001b[0m                             \u001b[2m<ipython-input-15-8bb000f4e062>\u001b[0m\u001b[2m:123\u001b[0m\n"
      ]
     },
     "metadata": {},
     "output_type": "display_data"
    },
    {
     "data": {
      "text/html": [
       "<pre style=\"white-space:pre;overflow-x:auto;line-height:normal;font-family:Menlo,'DejaVu Sans Mono',consolas,'Courier New',monospace\"><span style=\"color: #7fbfbf; text-decoration-color: #7fbfbf\">[20:34:41] </span>남은시간 = <span style=\"color: #800000; text-decoration-color: #800000; font-weight: bold\">84319초</span>                             <span style=\"color: #7f7f7f; text-decoration-color: #7f7f7f\">&lt;ipython-input-15-8bb000f4e062&gt;:123</span>\n",
       "</pre>\n"
      ],
      "text/plain": [
       "\u001b[2;36m[20:34:41]\u001b[0m\u001b[2;36m \u001b[0m남은시간 = \u001b[1;31m84319초\u001b[0m                             \u001b[2m<ipython-input-15-8bb000f4e062>\u001b[0m\u001b[2m:123\u001b[0m\n"
      ]
     },
     "metadata": {},
     "output_type": "display_data"
    },
    {
     "data": {
      "text/html": [
       "<pre style=\"white-space:pre;overflow-x:auto;line-height:normal;font-family:Menlo,'DejaVu Sans Mono',consolas,'Courier New',monospace\"><span style=\"color: #7fbfbf; text-decoration-color: #7fbfbf\">[20:34:42] </span>남은시간 = <span style=\"color: #800000; text-decoration-color: #800000; font-weight: bold\">84319초</span>                             <span style=\"color: #7f7f7f; text-decoration-color: #7f7f7f\">&lt;ipython-input-15-8bb000f4e062&gt;:123</span>\n",
       "</pre>\n"
      ],
      "text/plain": [
       "\u001b[2;36m[20:34:42]\u001b[0m\u001b[2;36m \u001b[0m남은시간 = \u001b[1;31m84319초\u001b[0m                             \u001b[2m<ipython-input-15-8bb000f4e062>\u001b[0m\u001b[2m:123\u001b[0m\n"
      ]
     },
     "metadata": {},
     "output_type": "display_data"
    },
    {
     "data": {
      "text/html": [
       "<pre style=\"white-space:pre;overflow-x:auto;line-height:normal;font-family:Menlo,'DejaVu Sans Mono',consolas,'Courier New',monospace\"><span style=\"color: #7fbfbf; text-decoration-color: #7fbfbf\">           </span>남은시간 = <span style=\"color: #800000; text-decoration-color: #800000; font-weight: bold\">84318초</span>                             <span style=\"color: #7f7f7f; text-decoration-color: #7f7f7f\">&lt;ipython-input-15-8bb000f4e062&gt;:123</span>\n",
       "</pre>\n"
      ],
      "text/plain": [
       "\u001b[2;36m          \u001b[0m\u001b[2;36m \u001b[0m남은시간 = \u001b[1;31m84318초\u001b[0m                             \u001b[2m<ipython-input-15-8bb000f4e062>\u001b[0m\u001b[2m:123\u001b[0m\n"
      ]
     },
     "metadata": {},
     "output_type": "display_data"
    },
    {
     "data": {
      "text/html": [
       "<pre style=\"white-space:pre;overflow-x:auto;line-height:normal;font-family:Menlo,'DejaVu Sans Mono',consolas,'Courier New',monospace\"><span style=\"color: #7fbfbf; text-decoration-color: #7fbfbf\">[20:34:43] </span>남은시간 = <span style=\"color: #800000; text-decoration-color: #800000; font-weight: bold\">84318초</span>                             <span style=\"color: #7f7f7f; text-decoration-color: #7f7f7f\">&lt;ipython-input-15-8bb000f4e062&gt;:123</span>\n",
       "</pre>\n"
      ],
      "text/plain": [
       "\u001b[2;36m[20:34:43]\u001b[0m\u001b[2;36m \u001b[0m남은시간 = \u001b[1;31m84318초\u001b[0m                             \u001b[2m<ipython-input-15-8bb000f4e062>\u001b[0m\u001b[2m:123\u001b[0m\n"
      ]
     },
     "metadata": {},
     "output_type": "display_data"
    },
    {
     "data": {
      "text/html": [
       "<pre style=\"white-space:pre;overflow-x:auto;line-height:normal;font-family:Menlo,'DejaVu Sans Mono',consolas,'Courier New',monospace\"><span style=\"color: #7fbfbf; text-decoration-color: #7fbfbf\">           </span>남은시간 = <span style=\"color: #800000; text-decoration-color: #800000; font-weight: bold\">84317초</span>                             <span style=\"color: #7f7f7f; text-decoration-color: #7f7f7f\">&lt;ipython-input-15-8bb000f4e062&gt;:123</span>\n",
       "</pre>\n"
      ],
      "text/plain": [
       "\u001b[2;36m          \u001b[0m\u001b[2;36m \u001b[0m남은시간 = \u001b[1;31m84317초\u001b[0m                             \u001b[2m<ipython-input-15-8bb000f4e062>\u001b[0m\u001b[2m:123\u001b[0m\n"
      ]
     },
     "metadata": {},
     "output_type": "display_data"
    },
    {
     "data": {
      "text/html": [
       "<pre style=\"white-space:pre;overflow-x:auto;line-height:normal;font-family:Menlo,'DejaVu Sans Mono',consolas,'Courier New',monospace\"><span style=\"color: #7fbfbf; text-decoration-color: #7fbfbf\">[20:34:44] </span>남은시간 = <span style=\"color: #800000; text-decoration-color: #800000; font-weight: bold\">84316초</span>                             <span style=\"color: #7f7f7f; text-decoration-color: #7f7f7f\">&lt;ipython-input-15-8bb000f4e062&gt;:123</span>\n",
       "</pre>\n"
      ],
      "text/plain": [
       "\u001b[2;36m[20:34:44]\u001b[0m\u001b[2;36m \u001b[0m남은시간 = \u001b[1;31m84316초\u001b[0m                             \u001b[2m<ipython-input-15-8bb000f4e062>\u001b[0m\u001b[2m:123\u001b[0m\n"
      ]
     },
     "metadata": {},
     "output_type": "display_data"
    },
    {
     "data": {
      "text/html": [
       "<pre style=\"white-space:pre;overflow-x:auto;line-height:normal;font-family:Menlo,'DejaVu Sans Mono',consolas,'Courier New',monospace\"><span style=\"color: #7fbfbf; text-decoration-color: #7fbfbf\">           </span>남은시간 = <span style=\"color: #800000; text-decoration-color: #800000; font-weight: bold\">84316초</span>                             <span style=\"color: #7f7f7f; text-decoration-color: #7f7f7f\">&lt;ipython-input-15-8bb000f4e062&gt;:123</span>\n",
       "</pre>\n"
      ],
      "text/plain": [
       "\u001b[2;36m          \u001b[0m\u001b[2;36m \u001b[0m남은시간 = \u001b[1;31m84316초\u001b[0m                             \u001b[2m<ipython-input-15-8bb000f4e062>\u001b[0m\u001b[2m:123\u001b[0m\n"
      ]
     },
     "metadata": {},
     "output_type": "display_data"
    },
    {
     "data": {
      "text/html": [
       "<pre style=\"white-space:pre;overflow-x:auto;line-height:normal;font-family:Menlo,'DejaVu Sans Mono',consolas,'Courier New',monospace\"><span style=\"color: #7fbfbf; text-decoration-color: #7fbfbf\">[20:34:45] </span>남은시간 = <span style=\"color: #800000; text-decoration-color: #800000; font-weight: bold\">84315초</span>                             <span style=\"color: #7f7f7f; text-decoration-color: #7f7f7f\">&lt;ipython-input-15-8bb000f4e062&gt;:123</span>\n",
       "</pre>\n"
      ],
      "text/plain": [
       "\u001b[2;36m[20:34:45]\u001b[0m\u001b[2;36m \u001b[0m남은시간 = \u001b[1;31m84315초\u001b[0m                             \u001b[2m<ipython-input-15-8bb000f4e062>\u001b[0m\u001b[2m:123\u001b[0m\n"
      ]
     },
     "metadata": {},
     "output_type": "display_data"
    },
    {
     "data": {
      "text/html": [
       "<pre style=\"white-space:pre;overflow-x:auto;line-height:normal;font-family:Menlo,'DejaVu Sans Mono',consolas,'Courier New',monospace\"><span style=\"color: #7fbfbf; text-decoration-color: #7fbfbf\">[20:34:46] </span>남은시간 = <span style=\"color: #800000; text-decoration-color: #800000; font-weight: bold\">84315초</span>                             <span style=\"color: #7f7f7f; text-decoration-color: #7f7f7f\">&lt;ipython-input-15-8bb000f4e062&gt;:123</span>\n",
       "</pre>\n"
      ],
      "text/plain": [
       "\u001b[2;36m[20:34:46]\u001b[0m\u001b[2;36m \u001b[0m남은시간 = \u001b[1;31m84315초\u001b[0m                             \u001b[2m<ipython-input-15-8bb000f4e062>\u001b[0m\u001b[2m:123\u001b[0m\n"
      ]
     },
     "metadata": {},
     "output_type": "display_data"
    },
    {
     "data": {
      "text/html": [
       "<pre style=\"white-space:pre;overflow-x:auto;line-height:normal;font-family:Menlo,'DejaVu Sans Mono',consolas,'Courier New',monospace\"><span style=\"color: #7fbfbf; text-decoration-color: #7fbfbf\">           </span>남은시간 = <span style=\"color: #800000; text-decoration-color: #800000; font-weight: bold\">84314초</span>                             <span style=\"color: #7f7f7f; text-decoration-color: #7f7f7f\">&lt;ipython-input-15-8bb000f4e062&gt;:123</span>\n",
       "</pre>\n"
      ],
      "text/plain": [
       "\u001b[2;36m          \u001b[0m\u001b[2;36m \u001b[0m남은시간 = \u001b[1;31m84314초\u001b[0m                             \u001b[2m<ipython-input-15-8bb000f4e062>\u001b[0m\u001b[2m:123\u001b[0m\n"
      ]
     },
     "metadata": {},
     "output_type": "display_data"
    },
    {
     "data": {
      "text/html": [
       "<pre style=\"white-space:pre;overflow-x:auto;line-height:normal;font-family:Menlo,'DejaVu Sans Mono',consolas,'Courier New',monospace\"><span style=\"color: #7fbfbf; text-decoration-color: #7fbfbf\">[20:34:47] </span>남은시간 = <span style=\"color: #800000; text-decoration-color: #800000; font-weight: bold\">84314초</span>                             <span style=\"color: #7f7f7f; text-decoration-color: #7f7f7f\">&lt;ipython-input-15-8bb000f4e062&gt;:123</span>\n",
       "</pre>\n"
      ],
      "text/plain": [
       "\u001b[2;36m[20:34:47]\u001b[0m\u001b[2;36m \u001b[0m남은시간 = \u001b[1;31m84314초\u001b[0m                             \u001b[2m<ipython-input-15-8bb000f4e062>\u001b[0m\u001b[2m:123\u001b[0m\n"
      ]
     },
     "metadata": {},
     "output_type": "display_data"
    },
    {
     "data": {
      "text/html": [
       "<pre style=\"white-space:pre;overflow-x:auto;line-height:normal;font-family:Menlo,'DejaVu Sans Mono',consolas,'Courier New',monospace\"><span style=\"color: #7fbfbf; text-decoration-color: #7fbfbf\">           </span>남은시간 = <span style=\"color: #800000; text-decoration-color: #800000; font-weight: bold\">84313초</span>                             <span style=\"color: #7f7f7f; text-decoration-color: #7f7f7f\">&lt;ipython-input-15-8bb000f4e062&gt;:123</span>\n",
       "</pre>\n"
      ],
      "text/plain": [
       "\u001b[2;36m          \u001b[0m\u001b[2;36m \u001b[0m남은시간 = \u001b[1;31m84313초\u001b[0m                             \u001b[2m<ipython-input-15-8bb000f4e062>\u001b[0m\u001b[2m:123\u001b[0m\n"
      ]
     },
     "metadata": {},
     "output_type": "display_data"
    },
    {
     "data": {
      "text/html": [
       "<pre style=\"white-space:pre;overflow-x:auto;line-height:normal;font-family:Menlo,'DejaVu Sans Mono',consolas,'Courier New',monospace\"><span style=\"color: #7fbfbf; text-decoration-color: #7fbfbf\">[20:34:48] </span>남은시간 = <span style=\"color: #800000; text-decoration-color: #800000; font-weight: bold\">84312초</span>                             <span style=\"color: #7f7f7f; text-decoration-color: #7f7f7f\">&lt;ipython-input-15-8bb000f4e062&gt;:123</span>\n",
       "</pre>\n"
      ],
      "text/plain": [
       "\u001b[2;36m[20:34:48]\u001b[0m\u001b[2;36m \u001b[0m남은시간 = \u001b[1;31m84312초\u001b[0m                             \u001b[2m<ipython-input-15-8bb000f4e062>\u001b[0m\u001b[2m:123\u001b[0m\n"
      ]
     },
     "metadata": {},
     "output_type": "display_data"
    },
    {
     "data": {
      "text/html": [
       "<pre style=\"white-space:pre;overflow-x:auto;line-height:normal;font-family:Menlo,'DejaVu Sans Mono',consolas,'Courier New',monospace\"><span style=\"color: #7fbfbf; text-decoration-color: #7fbfbf\">           </span>남은시간 = <span style=\"color: #800000; text-decoration-color: #800000; font-weight: bold\">84312초</span>                             <span style=\"color: #7f7f7f; text-decoration-color: #7f7f7f\">&lt;ipython-input-15-8bb000f4e062&gt;:123</span>\n",
       "</pre>\n"
      ],
      "text/plain": [
       "\u001b[2;36m          \u001b[0m\u001b[2;36m \u001b[0m남은시간 = \u001b[1;31m84312초\u001b[0m                             \u001b[2m<ipython-input-15-8bb000f4e062>\u001b[0m\u001b[2m:123\u001b[0m\n"
      ]
     },
     "metadata": {},
     "output_type": "display_data"
    },
    {
     "data": {
      "text/html": [
       "<pre style=\"white-space:pre;overflow-x:auto;line-height:normal;font-family:Menlo,'DejaVu Sans Mono',consolas,'Courier New',monospace\"><span style=\"color: #7fbfbf; text-decoration-color: #7fbfbf\">[20:34:49] </span>남은시간 = <span style=\"color: #800000; text-decoration-color: #800000; font-weight: bold\">84311초</span>                             <span style=\"color: #7f7f7f; text-decoration-color: #7f7f7f\">&lt;ipython-input-15-8bb000f4e062&gt;:123</span>\n",
       "</pre>\n"
      ],
      "text/plain": [
       "\u001b[2;36m[20:34:49]\u001b[0m\u001b[2;36m \u001b[0m남은시간 = \u001b[1;31m84311초\u001b[0m                             \u001b[2m<ipython-input-15-8bb000f4e062>\u001b[0m\u001b[2m:123\u001b[0m\n"
      ]
     },
     "metadata": {},
     "output_type": "display_data"
    },
    {
     "data": {
      "text/html": [
       "<pre style=\"white-space:pre;overflow-x:auto;line-height:normal;font-family:Menlo,'DejaVu Sans Mono',consolas,'Courier New',monospace\"><span style=\"color: #7fbfbf; text-decoration-color: #7fbfbf\">           </span>남은시간 = <span style=\"color: #800000; text-decoration-color: #800000; font-weight: bold\">84311초</span>                             <span style=\"color: #7f7f7f; text-decoration-color: #7f7f7f\">&lt;ipython-input-15-8bb000f4e062&gt;:123</span>\n",
       "</pre>\n"
      ],
      "text/plain": [
       "\u001b[2;36m          \u001b[0m\u001b[2;36m \u001b[0m남은시간 = \u001b[1;31m84311초\u001b[0m                             \u001b[2m<ipython-input-15-8bb000f4e062>\u001b[0m\u001b[2m:123\u001b[0m\n"
      ]
     },
     "metadata": {},
     "output_type": "display_data"
    },
    {
     "data": {
      "text/html": [
       "<pre style=\"white-space:pre;overflow-x:auto;line-height:normal;font-family:Menlo,'DejaVu Sans Mono',consolas,'Courier New',monospace\"><span style=\"color: #7fbfbf; text-decoration-color: #7fbfbf\">[20:34:50] </span>남은시간 = <span style=\"color: #800000; text-decoration-color: #800000; font-weight: bold\">84310초</span>                             <span style=\"color: #7f7f7f; text-decoration-color: #7f7f7f\">&lt;ipython-input-15-8bb000f4e062&gt;:123</span>\n",
       "</pre>\n"
      ],
      "text/plain": [
       "\u001b[2;36m[20:34:50]\u001b[0m\u001b[2;36m \u001b[0m남은시간 = \u001b[1;31m84310초\u001b[0m                             \u001b[2m<ipython-input-15-8bb000f4e062>\u001b[0m\u001b[2m:123\u001b[0m\n"
      ]
     },
     "metadata": {},
     "output_type": "display_data"
    },
    {
     "data": {
      "text/html": [
       "<pre style=\"white-space:pre;overflow-x:auto;line-height:normal;font-family:Menlo,'DejaVu Sans Mono',consolas,'Courier New',monospace\"><span style=\"color: #7fbfbf; text-decoration-color: #7fbfbf\">[20:34:51] </span>남은시간 = <span style=\"color: #800000; text-decoration-color: #800000; font-weight: bold\">84310초</span>                             <span style=\"color: #7f7f7f; text-decoration-color: #7f7f7f\">&lt;ipython-input-15-8bb000f4e062&gt;:123</span>\n",
       "</pre>\n"
      ],
      "text/plain": [
       "\u001b[2;36m[20:34:51]\u001b[0m\u001b[2;36m \u001b[0m남은시간 = \u001b[1;31m84310초\u001b[0m                             \u001b[2m<ipython-input-15-8bb000f4e062>\u001b[0m\u001b[2m:123\u001b[0m\n"
      ]
     },
     "metadata": {},
     "output_type": "display_data"
    },
    {
     "data": {
      "text/html": [
       "<pre style=\"white-space:pre;overflow-x:auto;line-height:normal;font-family:Menlo,'DejaVu Sans Mono',consolas,'Courier New',monospace\"><span style=\"color: #7fbfbf; text-decoration-color: #7fbfbf\">           </span>남은시간 = <span style=\"color: #800000; text-decoration-color: #800000; font-weight: bold\">84309초</span>                             <span style=\"color: #7f7f7f; text-decoration-color: #7f7f7f\">&lt;ipython-input-15-8bb000f4e062&gt;:123</span>\n",
       "</pre>\n"
      ],
      "text/plain": [
       "\u001b[2;36m          \u001b[0m\u001b[2;36m \u001b[0m남은시간 = \u001b[1;31m84309초\u001b[0m                             \u001b[2m<ipython-input-15-8bb000f4e062>\u001b[0m\u001b[2m:123\u001b[0m\n"
      ]
     },
     "metadata": {},
     "output_type": "display_data"
    },
    {
     "data": {
      "text/html": [
       "<pre style=\"white-space:pre;overflow-x:auto;line-height:normal;font-family:Menlo,'DejaVu Sans Mono',consolas,'Courier New',monospace\"><span style=\"color: #7fbfbf; text-decoration-color: #7fbfbf\">[20:34:52] </span>남은시간 = <span style=\"color: #800000; text-decoration-color: #800000; font-weight: bold\">84308초</span>                             <span style=\"color: #7f7f7f; text-decoration-color: #7f7f7f\">&lt;ipython-input-15-8bb000f4e062&gt;:123</span>\n",
       "</pre>\n"
      ],
      "text/plain": [
       "\u001b[2;36m[20:34:52]\u001b[0m\u001b[2;36m \u001b[0m남은시간 = \u001b[1;31m84308초\u001b[0m                             \u001b[2m<ipython-input-15-8bb000f4e062>\u001b[0m\u001b[2m:123\u001b[0m\n"
      ]
     },
     "metadata": {},
     "output_type": "display_data"
    },
    {
     "data": {
      "text/html": [
       "<pre style=\"white-space:pre;overflow-x:auto;line-height:normal;font-family:Menlo,'DejaVu Sans Mono',consolas,'Courier New',monospace\"><span style=\"color: #7fbfbf; text-decoration-color: #7fbfbf\">           </span>남은시간 = <span style=\"color: #800000; text-decoration-color: #800000; font-weight: bold\">84308초</span>                             <span style=\"color: #7f7f7f; text-decoration-color: #7f7f7f\">&lt;ipython-input-15-8bb000f4e062&gt;:123</span>\n",
       "</pre>\n"
      ],
      "text/plain": [
       "\u001b[2;36m          \u001b[0m\u001b[2;36m \u001b[0m남은시간 = \u001b[1;31m84308초\u001b[0m                             \u001b[2m<ipython-input-15-8bb000f4e062>\u001b[0m\u001b[2m:123\u001b[0m\n"
      ]
     },
     "metadata": {},
     "output_type": "display_data"
    },
    {
     "data": {
      "text/html": [
       "<pre style=\"white-space:pre;overflow-x:auto;line-height:normal;font-family:Menlo,'DejaVu Sans Mono',consolas,'Courier New',monospace\"><span style=\"color: #7fbfbf; text-decoration-color: #7fbfbf\">[20:34:53] </span>남은시간 = <span style=\"color: #800000; text-decoration-color: #800000; font-weight: bold\">84307초</span>                             <span style=\"color: #7f7f7f; text-decoration-color: #7f7f7f\">&lt;ipython-input-15-8bb000f4e062&gt;:123</span>\n",
       "</pre>\n"
      ],
      "text/plain": [
       "\u001b[2;36m[20:34:53]\u001b[0m\u001b[2;36m \u001b[0m남은시간 = \u001b[1;31m84307초\u001b[0m                             \u001b[2m<ipython-input-15-8bb000f4e062>\u001b[0m\u001b[2m:123\u001b[0m\n"
      ]
     },
     "metadata": {},
     "output_type": "display_data"
    },
    {
     "data": {
      "text/html": [
       "<pre style=\"white-space:pre;overflow-x:auto;line-height:normal;font-family:Menlo,'DejaVu Sans Mono',consolas,'Courier New',monospace\"><span style=\"color: #7fbfbf; text-decoration-color: #7fbfbf\">           </span>남은시간 = <span style=\"color: #800000; text-decoration-color: #800000; font-weight: bold\">84307초</span>                             <span style=\"color: #7f7f7f; text-decoration-color: #7f7f7f\">&lt;ipython-input-15-8bb000f4e062&gt;:123</span>\n",
       "</pre>\n"
      ],
      "text/plain": [
       "\u001b[2;36m          \u001b[0m\u001b[2;36m \u001b[0m남은시간 = \u001b[1;31m84307초\u001b[0m                             \u001b[2m<ipython-input-15-8bb000f4e062>\u001b[0m\u001b[2m:123\u001b[0m\n"
      ]
     },
     "metadata": {},
     "output_type": "display_data"
    },
    {
     "data": {
      "text/html": [
       "<pre style=\"white-space:pre;overflow-x:auto;line-height:normal;font-family:Menlo,'DejaVu Sans Mono',consolas,'Courier New',monospace\"><span style=\"color: #7fbfbf; text-decoration-color: #7fbfbf\">[20:34:55] </span>남은시간 = <span style=\"color: #800000; text-decoration-color: #800000; font-weight: bold\">84306초</span>                             <span style=\"color: #7f7f7f; text-decoration-color: #7f7f7f\">&lt;ipython-input-15-8bb000f4e062&gt;:123</span>\n",
       "</pre>\n"
      ],
      "text/plain": [
       "\u001b[2;36m[20:34:55]\u001b[0m\u001b[2;36m \u001b[0m남은시간 = \u001b[1;31m84306초\u001b[0m                             \u001b[2m<ipython-input-15-8bb000f4e062>\u001b[0m\u001b[2m:123\u001b[0m\n"
      ]
     },
     "metadata": {},
     "output_type": "display_data"
    },
    {
     "data": {
      "text/html": [
       "<pre style=\"white-space:pre;overflow-x:auto;line-height:normal;font-family:Menlo,'DejaVu Sans Mono',consolas,'Courier New',monospace\"><span style=\"color: #7fbfbf; text-decoration-color: #7fbfbf\">           </span>남은시간 = <span style=\"color: #800000; text-decoration-color: #800000; font-weight: bold\">84305초</span>                             <span style=\"color: #7f7f7f; text-decoration-color: #7f7f7f\">&lt;ipython-input-15-8bb000f4e062&gt;:123</span>\n",
       "</pre>\n"
      ],
      "text/plain": [
       "\u001b[2;36m          \u001b[0m\u001b[2;36m \u001b[0m남은시간 = \u001b[1;31m84305초\u001b[0m                             \u001b[2m<ipython-input-15-8bb000f4e062>\u001b[0m\u001b[2m:123\u001b[0m\n"
      ]
     },
     "metadata": {},
     "output_type": "display_data"
    },
    {
     "data": {
      "text/html": [
       "<pre style=\"white-space:pre;overflow-x:auto;line-height:normal;font-family:Menlo,'DejaVu Sans Mono',consolas,'Courier New',monospace\"><span style=\"color: #7fbfbf; text-decoration-color: #7fbfbf\">           </span>남은시간 = <span style=\"color: #800000; text-decoration-color: #800000; font-weight: bold\">84304초</span>                             <span style=\"color: #7f7f7f; text-decoration-color: #7f7f7f\">&lt;ipython-input-15-8bb000f4e062&gt;:123</span>\n",
       "</pre>\n"
      ],
      "text/plain": [
       "\u001b[2;36m          \u001b[0m\u001b[2;36m \u001b[0m남은시간 = \u001b[1;31m84304초\u001b[0m                             \u001b[2m<ipython-input-15-8bb000f4e062>\u001b[0m\u001b[2m:123\u001b[0m\n"
      ]
     },
     "metadata": {},
     "output_type": "display_data"
    },
    {
     "data": {
      "text/html": [
       "<pre style=\"white-space:pre;overflow-x:auto;line-height:normal;font-family:Menlo,'DejaVu Sans Mono',consolas,'Courier New',monospace\"><span style=\"color: #7fbfbf; text-decoration-color: #7fbfbf\">[20:34:57] </span>남은시간 = <span style=\"color: #800000; text-decoration-color: #800000; font-weight: bold\">84303초</span>                             <span style=\"color: #7f7f7f; text-decoration-color: #7f7f7f\">&lt;ipython-input-15-8bb000f4e062&gt;:123</span>\n",
       "</pre>\n"
      ],
      "text/plain": [
       "\u001b[2;36m[20:34:57]\u001b[0m\u001b[2;36m \u001b[0m남은시간 = \u001b[1;31m84303초\u001b[0m                             \u001b[2m<ipython-input-15-8bb000f4e062>\u001b[0m\u001b[2m:123\u001b[0m\n"
      ]
     },
     "metadata": {},
     "output_type": "display_data"
    },
    {
     "data": {
      "text/html": [
       "<pre style=\"white-space:pre;overflow-x:auto;line-height:normal;font-family:Menlo,'DejaVu Sans Mono',consolas,'Courier New',monospace\"><span style=\"color: #7fbfbf; text-decoration-color: #7fbfbf\">           </span>남은시간 = <span style=\"color: #800000; text-decoration-color: #800000; font-weight: bold\">84302초</span>                             <span style=\"color: #7f7f7f; text-decoration-color: #7f7f7f\">&lt;ipython-input-15-8bb000f4e062&gt;:123</span>\n",
       "</pre>\n"
      ],
      "text/plain": [
       "\u001b[2;36m          \u001b[0m\u001b[2;36m \u001b[0m남은시간 = \u001b[1;31m84302초\u001b[0m                             \u001b[2m<ipython-input-15-8bb000f4e062>\u001b[0m\u001b[2m:123\u001b[0m\n"
      ]
     },
     "metadata": {},
     "output_type": "display_data"
    },
    {
     "data": {
      "text/html": [
       "<pre style=\"white-space:pre;overflow-x:auto;line-height:normal;font-family:Menlo,'DejaVu Sans Mono',consolas,'Courier New',monospace\"><span style=\"color: #7fbfbf; text-decoration-color: #7fbfbf\">[20:34:59] </span>남은시간 = <span style=\"color: #800000; text-decoration-color: #800000; font-weight: bold\">84302초</span>                             <span style=\"color: #7f7f7f; text-decoration-color: #7f7f7f\">&lt;ipython-input-15-8bb000f4e062&gt;:123</span>\n",
       "</pre>\n"
      ],
      "text/plain": [
       "\u001b[2;36m[20:34:59]\u001b[0m\u001b[2;36m \u001b[0m남은시간 = \u001b[1;31m84302초\u001b[0m                             \u001b[2m<ipython-input-15-8bb000f4e062>\u001b[0m\u001b[2m:123\u001b[0m\n"
      ]
     },
     "metadata": {},
     "output_type": "display_data"
    },
    {
     "data": {
      "text/html": [
       "<pre style=\"white-space:pre;overflow-x:auto;line-height:normal;font-family:Menlo,'DejaVu Sans Mono',consolas,'Courier New',monospace\"><span style=\"color: #7fbfbf; text-decoration-color: #7fbfbf\">           </span>남은시간 = <span style=\"color: #800000; text-decoration-color: #800000; font-weight: bold\">84301초</span>                             <span style=\"color: #7f7f7f; text-decoration-color: #7f7f7f\">&lt;ipython-input-15-8bb000f4e062&gt;:123</span>\n",
       "</pre>\n"
      ],
      "text/plain": [
       "\u001b[2;36m          \u001b[0m\u001b[2;36m \u001b[0m남은시간 = \u001b[1;31m84301초\u001b[0m                             \u001b[2m<ipython-input-15-8bb000f4e062>\u001b[0m\u001b[2m:123\u001b[0m\n"
      ]
     },
     "metadata": {},
     "output_type": "display_data"
    },
    {
     "data": {
      "text/html": [
       "<pre style=\"white-space:pre;overflow-x:auto;line-height:normal;font-family:Menlo,'DejaVu Sans Mono',consolas,'Courier New',monospace\"><span style=\"color: #7fbfbf; text-decoration-color: #7fbfbf\">[20:35:00] </span>남은시간 = <span style=\"color: #800000; text-decoration-color: #800000; font-weight: bold\">84300초</span>                             <span style=\"color: #7f7f7f; text-decoration-color: #7f7f7f\">&lt;ipython-input-15-8bb000f4e062&gt;:123</span>\n",
       "</pre>\n"
      ],
      "text/plain": [
       "\u001b[2;36m[20:35:00]\u001b[0m\u001b[2;36m \u001b[0m남은시간 = \u001b[1;31m84300초\u001b[0m                             \u001b[2m<ipython-input-15-8bb000f4e062>\u001b[0m\u001b[2m:123\u001b[0m\n"
      ]
     },
     "metadata": {},
     "output_type": "display_data"
    },
    {
     "data": {
      "text/html": [
       "<pre style=\"white-space:pre;overflow-x:auto;line-height:normal;font-family:Menlo,'DejaVu Sans Mono',consolas,'Courier New',monospace\"><span style=\"color: #7fbfbf; text-decoration-color: #7fbfbf\">           </span>남은시간 = <span style=\"color: #800000; text-decoration-color: #800000; font-weight: bold\">84300초</span>                             <span style=\"color: #7f7f7f; text-decoration-color: #7f7f7f\">&lt;ipython-input-15-8bb000f4e062&gt;:123</span>\n",
       "</pre>\n"
      ],
      "text/plain": [
       "\u001b[2;36m          \u001b[0m\u001b[2;36m \u001b[0m남은시간 = \u001b[1;31m84300초\u001b[0m                             \u001b[2m<ipython-input-15-8bb000f4e062>\u001b[0m\u001b[2m:123\u001b[0m\n"
      ]
     },
     "metadata": {},
     "output_type": "display_data"
    },
    {
     "data": {
      "text/html": [
       "<pre style=\"white-space:pre;overflow-x:auto;line-height:normal;font-family:Menlo,'DejaVu Sans Mono',consolas,'Courier New',monospace\"><span style=\"color: #7fbfbf; text-decoration-color: #7fbfbf\">[20:35:01] </span>남은시간 = <span style=\"color: #800000; text-decoration-color: #800000; font-weight: bold\">84299초</span>                             <span style=\"color: #7f7f7f; text-decoration-color: #7f7f7f\">&lt;ipython-input-15-8bb000f4e062&gt;:123</span>\n",
       "</pre>\n"
      ],
      "text/plain": [
       "\u001b[2;36m[20:35:01]\u001b[0m\u001b[2;36m \u001b[0m남은시간 = \u001b[1;31m84299초\u001b[0m                             \u001b[2m<ipython-input-15-8bb000f4e062>\u001b[0m\u001b[2m:123\u001b[0m\n"
      ]
     },
     "metadata": {},
     "output_type": "display_data"
    },
    {
     "data": {
      "text/html": [
       "<pre style=\"white-space:pre;overflow-x:auto;line-height:normal;font-family:Menlo,'DejaVu Sans Mono',consolas,'Courier New',monospace\"><span style=\"color: #7fbfbf; text-decoration-color: #7fbfbf\">           </span>남은시간 = <span style=\"color: #800000; text-decoration-color: #800000; font-weight: bold\">84299초</span>                             <span style=\"color: #7f7f7f; text-decoration-color: #7f7f7f\">&lt;ipython-input-15-8bb000f4e062&gt;:123</span>\n",
       "</pre>\n"
      ],
      "text/plain": [
       "\u001b[2;36m          \u001b[0m\u001b[2;36m \u001b[0m남은시간 = \u001b[1;31m84299초\u001b[0m                             \u001b[2m<ipython-input-15-8bb000f4e062>\u001b[0m\u001b[2m:123\u001b[0m\n"
      ]
     },
     "metadata": {},
     "output_type": "display_data"
    },
    {
     "data": {
      "text/html": [
       "<pre style=\"white-space:pre;overflow-x:auto;line-height:normal;font-family:Menlo,'DejaVu Sans Mono',consolas,'Courier New',monospace\"><span style=\"color: #7fbfbf; text-decoration-color: #7fbfbf\">[20:35:02] </span>남은시간 = <span style=\"color: #800000; text-decoration-color: #800000; font-weight: bold\">84298초</span>                             <span style=\"color: #7f7f7f; text-decoration-color: #7f7f7f\">&lt;ipython-input-15-8bb000f4e062&gt;:123</span>\n",
       "</pre>\n"
      ],
      "text/plain": [
       "\u001b[2;36m[20:35:02]\u001b[0m\u001b[2;36m \u001b[0m남은시간 = \u001b[1;31m84298초\u001b[0m                             \u001b[2m<ipython-input-15-8bb000f4e062>\u001b[0m\u001b[2m:123\u001b[0m\n"
      ]
     },
     "metadata": {},
     "output_type": "display_data"
    },
    {
     "data": {
      "text/html": [
       "<pre style=\"white-space:pre;overflow-x:auto;line-height:normal;font-family:Menlo,'DejaVu Sans Mono',consolas,'Courier New',monospace\"><span style=\"color: #7fbfbf; text-decoration-color: #7fbfbf\">[20:35:03] </span>남은시간 = <span style=\"color: #800000; text-decoration-color: #800000; font-weight: bold\">84298초</span>                             <span style=\"color: #7f7f7f; text-decoration-color: #7f7f7f\">&lt;ipython-input-15-8bb000f4e062&gt;:123</span>\n",
       "</pre>\n"
      ],
      "text/plain": [
       "\u001b[2;36m[20:35:03]\u001b[0m\u001b[2;36m \u001b[0m남은시간 = \u001b[1;31m84298초\u001b[0m                             \u001b[2m<ipython-input-15-8bb000f4e062>\u001b[0m\u001b[2m:123\u001b[0m\n"
      ]
     },
     "metadata": {},
     "output_type": "display_data"
    },
    {
     "data": {
      "text/html": [
       "<pre style=\"white-space:pre;overflow-x:auto;line-height:normal;font-family:Menlo,'DejaVu Sans Mono',consolas,'Courier New',monospace\"><span style=\"color: #7fbfbf; text-decoration-color: #7fbfbf\">           </span>남은시간 = <span style=\"color: #800000; text-decoration-color: #800000; font-weight: bold\">84297초</span>                             <span style=\"color: #7f7f7f; text-decoration-color: #7f7f7f\">&lt;ipython-input-15-8bb000f4e062&gt;:123</span>\n",
       "</pre>\n"
      ],
      "text/plain": [
       "\u001b[2;36m          \u001b[0m\u001b[2;36m \u001b[0m남은시간 = \u001b[1;31m84297초\u001b[0m                             \u001b[2m<ipython-input-15-8bb000f4e062>\u001b[0m\u001b[2m:123\u001b[0m\n"
      ]
     },
     "metadata": {},
     "output_type": "display_data"
    }
   ],
   "source": [
    "def install_and_import(package,import_name=\"NULL\"):\n",
    "    if import_name == \"NULL\":\n",
    "        import_name = package\n",
    "    import importlib\n",
    "    try:\n",
    "        importlib.import_module(import_name)\n",
    "    except ImportError:\n",
    "        import pip\n",
    "        pip.main(['install', package])\n",
    "    finally:\n",
    "        globals()[package] = importlib.import_module(import_name)\n",
    "    return 0\n",
    "\n",
    "#<--import library-->#\n",
    "install_and_import(\"subprocess\")\n",
    "install_and_import(\"sys\")\n",
    "install_and_import(\"os\")\n",
    "install_and_import(\"time\")\n",
    "install_and_import(\"unicodedata\")        \n",
    "install_and_import(\"requests\")\n",
    "install_and_import(\"rich\")\n",
    "install_and_import(\"selenium\")\n",
    "install_and_import(\"python-dateutil\",\"dateutil.parser\")\n",
    "install_and_import(\"datetime\")\n",
    "install_and_import(\"signal\")\n",
    "install_and_import(\"webdriver-manager\",\"webdriver_manager.chrome\")\n",
    "#<!--import library-->#\n",
    "\n",
    "from dateutil.parser import parse\n",
    "from selenium import webdriver\n",
    "from selenium.webdriver import ActionChains\n",
    "from selenium.webdriver.common.keys import Keys\n",
    "from selenium.webdriver.common.by import By\n",
    "from selenium.webdriver.support import expected_conditions as EC\n",
    "from selenium.webdriver.support.ui import Select\n",
    "from selenium.webdriver.support.ui import WebDriverWait\n",
    "from webdriver_manager.chrome import ChromeDriverManager\n",
    "from rich.console import Console\n",
    "console = Console()\n",
    "driver = None\n",
    "\n",
    "#<--USER DATA-->#\n",
    "NAME = \"홍길동\"\n",
    "KRRN = \"980502-2100000\"\n",
    "PHONE = \"010-1234-5678\"\n",
    "START_TIME = parse(\"6 Aug 2021 11:00:00 GMT\") #GMT 기준 시작시간(GMT AM11:00 => KST PM08:00)\n",
    "DEBUG = False     #True 로 변경시 시작시간 무시\n",
    "NF_PASS = False    #무시무시한 기능\n",
    "#<!--USER DATA-->#\n",
    "\n",
    "def install_check():\n",
    "    with console.status(\"Chrome Driver 설치 확인중..\", spinner=\"monkey\"):\n",
    "        path = ChromeDriverManager().install()\n",
    "    return path\n",
    "\n",
    "def frame_change():\n",
    "    driver.switch_to.default_content() #기본 프레임으로 돌아감\n",
    "    with console.status(\"프레임 전환 대기중...\", spinner=\"dots3\"):\n",
    "        WebDriverWait(driver, 60*60*5).until(EC.frame_to_be_available_and_switch_to_it((By.XPATH,\"/html/frameset/frame[1]\"))) #메인프레임 전환 \n",
    "    return 0\n",
    "\n",
    "def execute_script(driver, text):\n",
    "    try:\n",
    "        frame_change() #base(home_n.html) 프레임으로 전환\n",
    "        driver.execute_script(text) #script 실행\n",
    "    except Exception as ex:\n",
    "        console.log(\"[bold red]SCRIPT EXECUTE ERROR[/bold red]\",ex)\n",
    "    return 0\n",
    "\n",
    "def getToken():\n",
    "    f1 = open('./bin/script1','r', encoding='UTF-8')\n",
    "    f2 = open('./bin/script2','r', encoding='UTF-8')\n",
    "    script1 = f1.read()\n",
    "    script2 = f2.read()\n",
    "    f1.close()\n",
    "    f2.close()\n",
    "    execute_script(driver, script1) #NetFunnel 통과 토큰 받음\n",
    "    time.sleep(1) #응답 수신까지 대기시간 \n",
    "    execute_script(driver, script2) #토큰 전처리(html에 tokk로 hidden타입으로 저장)\n",
    "    return 0\n",
    "\n",
    "def goNfCheck():\n",
    "    f3 = open('./bin/script3','r', encoding='UTF-8')\n",
    "    script3 = f3.read()\n",
    "    f3.close()\n",
    "    execute_script(driver, script3) #실 변수에 대입\n",
    "    return 0\n",
    "    \n",
    "def main():\n",
    "    global driver\n",
    "    options = webdriver.ChromeOptions()\n",
    "    \n",
    "    # 브라우저 윈도우 사이즈\n",
    "    options.add_argument('window-size=1020x700')\n",
    "    \n",
    "    # 사람처럼 보이게 하는 옵션들\n",
    "    options.add_argument(\"disable-gpu\")   # 가속 사용 x\n",
    "    options.add_argument(\"lang=ko_KR\")    # 가짜 플러그인 탑재\n",
    "    options.add_argument('user-agent=Mozilla/5.0 (Macintosh; Intel Mac OS X 10_12_6) AppleWebKit/537.36 (KHTML, like Gecko) Chrome/61.0.3163.100 Safari/537.36')  # user-agent 이름 설정\n",
    "    \n",
    "    #개발자모드 활성화\n",
    "    options.add_argument(\"--auto-open-devtools-for-tabs\")\n",
    "    \n",
    "    #웹드라이버 로드\n",
    "    driver = webdriver.Chrome(install_check(), options=options)\n",
    "    \n",
    "    response = requests.get(\"https://ncvr.kdca.go.kr/index.html\") #서버시간 수신(GMT)\n",
    "    server_time = parse(response.headers['date'].split(', ')[1])  #서버시간 DateTime/필요없는 데이터 절삭\n",
    "    remain_time = START_TIME - server_time                        #남은시간 계산\n",
    "    console.log(\"서버시간 = [bold blue] GMT \"+server_time.strftime(\"%H시 %M분 %S초\")+\"[/bold blue]\")\n",
    "    \n",
    "    if (not DEBUG): #디버깅 모드일경우 시간 체크 PASS\n",
    "        with console.status(\"[bold green]시작 대기중 입니다.\", spinner=\"dots3\") as status:\n",
    "            while(True):\n",
    "                response = requests.get(\"https://ncvr.kdca.go.kr/index.html\")   #서버시간 수신(GMT)\n",
    "                server_time = parse(response.headers['date'].split(', ')[1])   #서버시간 DateTime/필요없는 데이터 절삭\n",
    "                remain_time = START_TIME - server_time                        #남은시간 계산\n",
    "                if(remain_time.seconds <= 30 and NF_PASS):                   #Token 유효시간 30초\n",
    "                    break\n",
    "                if(remain_time.seconds <= 0):\n",
    "                    break\n",
    "                else:\n",
    "                    console.log(f\"남은시간 = [bold red]\"+str(remain_time.seconds)+\"초[/bold red]\")\n",
    "                    time.sleep(0.5)  #0.5초 대기\n",
    "                \n",
    "    driver.implicitly_wait(time_to_wait=60*60*5) #driver 최대 timeout시간을 5시간으로\n",
    "    driver.get(url=\"https://ncvr.kdca.go.kr/index.html\") #메인예약 페이지로 이동\n",
    "    \n",
    "    frame_change() #실제 정보가 담긴 메인 프레임으로 변경\n",
    "    \n",
    "    if(not NF_PASS): #NetFunnel PASS is False?\n",
    "        with console.status(\"'사전예약 바로가기' 페이지 로딩 대기중...\", spinner=\"dots3\"):\n",
    "            try:\n",
    "                element = WebDriverWait(driver, 60*60*5).until(\n",
    "                    EC.presence_of_element_located((By.CLASS_NAME , 'btn-booking')) #버튼이 로딩될때까지 대기\n",
    "                )\n",
    "            finally:\n",
    "                console.log(\"'사전예약 바로가기' 페이지 로딩 완료!\")\n",
    "        driver.find_element_by_xpath(\"/html/body/div/div/div[2]\").click() #로딩되면 클릭\n",
    "    else: #NetFunnel PASS is True\n",
    "        getToken() #Netfunnel 토큰 사전 발급\n",
    "        goNfCheck() #사전예약 버튼 강제클릭\n",
    "    \n",
    "    frame_change()\n",
    "    \n",
    "    with console.status(\"'예방접종 예약하기' 페이지 로딩 대기중...\", spinner=\"dots3\"):\n",
    "        WebDriverWait(driver, 60*60*5).until(EC.element_to_be_clickable((By.XPATH, \"/html/body/div/div[2]/div/section/div[1]/div[2]/div[1]/a\"))).click()\n",
    "    console.log(\"'예방접종 예약하기' 페이지 로딩 완료!\")\n",
    "    \n",
    "    frame_change()\n",
    "    \n",
    "    with console.status(\"'코로나19 예방접종 본인예약' 페이지 로딩 대기중...\", spinner=\"dots3\"):\n",
    "        WebDriverWait(driver, 60*60*5).until(EC.element_to_be_clickable((By.XPATH, '//*[@id=\"rsrvSelfBtn\"]'))).click()\n",
    "    console.log(\"'코로나19 예방접종 본인예약' 페이지 로딩 완료!\")\n",
    "    \n",
    "    frame_change()\n",
    "    \n",
    "    #예약정보 기록 시작\n",
    "    driver.find_element_by_xpath('//*[@id=\"apnmNm\"]').send_keys(NAME)\n",
    "    driver.find_element_by_xpath('//*[@id=\"apnmRrn1\"]').send_keys(KRRN.split('-')[0])\n",
    "    driver.find_element_by_xpath('//*[@id=\"apnmRrn2\"]').send_keys(KRRN.split('-')[1])\n",
    "    driver.find_element_by_xpath('//*[@id=\"apnmMtnoTofmn\"]').send_keys(PHONE.split('-')[0])\n",
    "    driver.find_element_by_xpath('//*[@id=\"apnmMtno1\"]').send_keys(PHONE.split('-')[1])\n",
    "    driver.find_element_by_xpath('//*[@id=\"apnmMtno2\"]').send_keys(PHONE.split('-')[2])\n",
    "    driver.find_element_by_xpath('//*[@id=\"vcnRsrvFrm\"]/div/table/tbody/tr[7]/td/span[2]/label').click()\n",
    "    #예약 기본정보 입력 완료\n",
    "    \n",
    "    #본인인증 시작(공동인증)\n",
    "    driver.find_element_by_xpath('//*[@id=\"vcnRsrvFrm\"]/div/table/tbody/tr[3]/td/ul/li[3]/a').click()\n",
    "    \n",
    "    console.log(\"[bold magenta]명령 수행완료[/bold magenta]\") \n",
    "    return 0\n",
    "\n",
    "def Exit_gracefully(signal, frame):\n",
    "    sys.exit(-1)\n",
    "    \n",
    "if __name__ == \"__main__\":\n",
    "    signal.signal(signal.SIGINT, Exit_gracefully)\n",
    "    try:\n",
    "        main()\n",
    "    except Exception as ex:\n",
    "        if(ex == KeyboardInterrupt):\n",
    "            exit(0)\n",
    "        else:\n",
    "            print('오류가 발생 했습니다', ex)\n",
    "    "
   ]
  },
  {
   "cell_type": "code",
   "execution_count": null,
   "metadata": {},
   "outputs": [],
   "source": [
    "exit();"
   ]
  },
  {
   "cell_type": "code",
   "execution_count": null,
   "metadata": {},
   "outputs": [],
   "source": []
  }
 ],
 "metadata": {
  "anaconda-cloud": {},
  "kernelspec": {
   "display_name": "Python 3",
   "language": "python",
   "name": "python3"
  },
  "language_info": {
   "codemirror_mode": {
    "name": "ipython",
    "version": 3
   },
   "file_extension": ".py",
   "mimetype": "text/x-python",
   "name": "python",
   "nbconvert_exporter": "python",
   "pygments_lexer": "ipython3",
   "version": "3.9.1"
  }
 },
 "nbformat": 4,
 "nbformat_minor": 4
}
